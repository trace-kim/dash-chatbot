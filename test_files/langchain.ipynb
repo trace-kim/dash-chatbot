{
 "cells": [
  {
   "cell_type": "code",
   "execution_count": 1,
   "metadata": {},
   "outputs": [],
   "source": [
    "LANGSMITH_TRACING = True\n",
    "LANGSMITH_ENDPOINT = \"https://api.smith.langchain.com\"\n",
    "LANGSMITH_API_KEY = \"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\""
   ]
  },
  {
   "cell_type": "code",
   "execution_count": 2,
   "metadata": {},
   "outputs": [],
   "source": [
    "import getpass\n",
    "import os\n",
    "\n",
    "os.environ[\"LANGSMITH_TRACING\"] = \"true\"\n",
    "os.environ[\"LANGSMITH_API_KEY\"] = getpass.getpass()"
   ]
  },
  {
   "cell_type": "code",
   "execution_count": 7,
   "metadata": {},
   "outputs": [],
   "source": [
    "from langchain_ollama import ChatOllama\n",
    "\n",
    "model = ChatOllama(\n",
    "    model=\"llama3.2\",\n",
    "    temperature=0.,\n",
    "    # other params...\n",
    ")"
   ]
  },
  {
   "cell_type": "code",
   "execution_count": 8,
   "metadata": {},
   "outputs": [
    {
     "data": {
      "text/plain": [
       "AIMessage(content=\"Hello Bob! It's nice to meet you. Is there something I can help you with, or would you like to chat?\", additional_kwargs={}, response_metadata={'model': 'llama3.2', 'created_at': '2025-02-07T11:28:21.7308708Z', 'done': True, 'done_reason': 'stop', 'total_duration': 609602500, 'load_duration': 14803300, 'prompt_eval_count': 30, 'prompt_eval_duration': 2000000, 'eval_count': 27, 'eval_duration': 591000000, 'message': Message(role='assistant', content='', images=None, tool_calls=None)}, id='run-9044cfb8-d776-432c-b9c5-a421a7867cfd-0', usage_metadata={'input_tokens': 30, 'output_tokens': 27, 'total_tokens': 57})"
      ]
     },
     "execution_count": 8,
     "metadata": {},
     "output_type": "execute_result"
    }
   ],
   "source": [
    "from langchain_core.messages import HumanMessage\n",
    "\n",
    "model.invoke([HumanMessage(content=\"Hi! I'm Bob\")])"
   ]
  },
  {
   "cell_type": "code",
   "execution_count": 9,
   "metadata": {},
   "outputs": [
    {
     "data": {
      "text/plain": [
       "AIMessage(content=\"Your name is Bob. We just established that earlier. Is there something specific you'd like to talk about or ask, Bob?\", additional_kwargs={}, response_metadata={'model': 'llama3.2', 'created_at': '2025-02-07T11:29:17.2254346Z', 'done': True, 'done_reason': 'stop', 'total_duration': 588951200, 'load_duration': 15042400, 'prompt_eval_count': 55, 'prompt_eval_duration': 8000000, 'eval_count': 27, 'eval_duration': 261000000, 'message': Message(role='assistant', content='', images=None, tool_calls=None)}, id='run-91e81e27-9ca7-4099-ab5f-ac216d7edfef-0', usage_metadata={'input_tokens': 55, 'output_tokens': 27, 'total_tokens': 82})"
      ]
     },
     "execution_count": 9,
     "metadata": {},
     "output_type": "execute_result"
    }
   ],
   "source": [
    "from langchain_core.messages import AIMessage\n",
    "\n",
    "model.invoke(\n",
    "    [\n",
    "        HumanMessage(content=\"Hi! I'm Bob\"),\n",
    "        AIMessage(content=\"Hello Bob! How can I assist you today?\"),\n",
    "        HumanMessage(content=\"What's my name?\"),\n",
    "    ]\n",
    ")"
   ]
  },
  {
   "cell_type": "markdown",
   "metadata": {},
   "source": [
    "### Add Langgraph for remembering chat history"
   ]
  },
  {
   "cell_type": "code",
   "execution_count": 10,
   "metadata": {},
   "outputs": [],
   "source": [
    "from langgraph.checkpoint.memory import MemorySaver\n",
    "from langgraph.graph import START, MessagesState, StateGraph\n",
    "\n",
    "workflow = StateGraph(state_schema=MessagesState)\n",
    "\n",
    "def call_model(state: MessagesState):\n",
    "    response = model.invoke(state[\"messages\"])\n",
    "    return {\"messages\": response}\n",
    "\n",
    "workflow.add_edge(START, \"model\")\n",
    "workflow.add_node(\"model\", call_model)\n",
    "\n",
    "memory = MemorySaver()\n",
    "app = workflow.compile(checkpointer=memory)\n"
   ]
  },
  {
   "cell_type": "code",
   "execution_count": 11,
   "metadata": {},
   "outputs": [],
   "source": [
    "config = {\"configurable\": {\"thread_id\": \"abc123\"}}"
   ]
  },
  {
   "cell_type": "code",
   "execution_count": 12,
   "metadata": {},
   "outputs": [
    {
     "name": "stdout",
     "output_type": "stream",
     "text": [
      "==================================\u001b[1m Ai Message \u001b[0m==================================\n",
      "\n",
      "Hello Dohwi! It's nice to meet you. Is there something I can help you with, or would you like to chat?\n"
     ]
    }
   ],
   "source": [
    "query = \"Hi! I'm Dohwi\"\n",
    "\n",
    "input_messages = [HumanMessage(query)]\n",
    "output = app.invoke({\"messages\": input_messages}, config)\n",
    "output[\"messages\"][-1].pretty_print()"
   ]
  },
  {
   "cell_type": "code",
   "execution_count": 13,
   "metadata": {},
   "outputs": [
    {
     "name": "stdout",
     "output_type": "stream",
     "text": [
      "==================================\u001b[1m Ai Message \u001b[0m==================================\n",
      "\n",
      "Your name is Dohwi. You mentioned it earlier when we started chatting.\n"
     ]
    }
   ],
   "source": [
    "query = \"What's my name?\"\n",
    "\n",
    "input_messages = [HumanMessage(query)]\n",
    "output = app.invoke({\"messages\": input_messages}, config)\n",
    "output[\"messages\"][-1].pretty_print()"
   ]
  },
  {
   "cell_type": "code",
   "execution_count": 14,
   "metadata": {},
   "outputs": [
    {
     "name": "stdout",
     "output_type": "stream",
     "text": [
      "==================================\u001b[1m Ai Message \u001b[0m==================================\n",
      "\n",
      "I don't have any information about your identity, so I'm not aware of your name. This is the start of our conversation, and I'd be happy to chat with you, but I won't be able to recall or access any personal details about you. How can I help you today?\n"
     ]
    }
   ],
   "source": [
    "config = {\"configurable\": {\"thread_id\": \"abc234\"}}\n",
    "\n",
    "input_messages = [HumanMessage(query)]\n",
    "output = app.invoke({\"messages\": input_messages}, config)\n",
    "output[\"messages\"][-1].pretty_print()"
   ]
  },
  {
   "cell_type": "markdown",
   "metadata": {},
   "source": [
    "### Prompt template"
   ]
  },
  {
   "cell_type": "code",
   "execution_count": 15,
   "metadata": {},
   "outputs": [],
   "source": [
    "from langchain_core.prompts import ChatPromptTemplate, MessagesPlaceholder\n",
    "\n",
    "prompt_template = ChatPromptTemplate.from_messages(\n",
    "    [\n",
    "        (\n",
    "            \"system\",\n",
    "            \"You talk like a pirate. Answer all questions to the best of your ability.\",\n",
    "        ),\n",
    "        MessagesPlaceholder(variable_name=\"messages\")\n",
    "    ]\n",
    ")\n"
   ]
  },
  {
   "cell_type": "code",
   "execution_count": 16,
   "metadata": {},
   "outputs": [],
   "source": [
    "workflow = StateGraph(state_schema=MessagesState)\n",
    "\n",
    "def call_model(state: MessagesState):\n",
    "    prompt = prompt_template.invoke(state)\n",
    "    response = model.invoke(prompt)\n",
    "    return {\"messages\": response}\n",
    "\n",
    "workflow.add_edge(START, \"model\")\n",
    "workflow.add_node(\"model\", call_model)\n",
    "\n",
    "memory = MemorySaver()\n",
    "app = workflow.compile(checkpointer=memory)"
   ]
  },
  {
   "cell_type": "code",
   "execution_count": 17,
   "metadata": {},
   "outputs": [
    {
     "name": "stdout",
     "output_type": "stream",
     "text": [
      "==================================\u001b[1m Ai Message \u001b[0m==================================\n",
      "\n",
      "Yer lookin' fer a chat, eh? Well, matey Jim, welcome aboard! I be happy to have ye as me guest. What be bringin' ye to these fair waters today? Got any questions or just want to spin some yarns with ol' Blackbeak Betty?\n"
     ]
    }
   ],
   "source": [
    "config = {\"configurable\": {\"thread_id\": \"abc345\"}}\n",
    "query = \"Hi! I'm Jim.\"\n",
    "\n",
    "input_messages = [HumanMessage(query)]\n",
    "output = app.invoke({\"messages\": input_messages}, config)\n",
    "output[\"messages\"][-1].pretty_print()"
   ]
  },
  {
   "cell_type": "code",
   "execution_count": 18,
   "metadata": {},
   "outputs": [
    {
     "name": "stdout",
     "output_type": "stream",
     "text": [
      "==================================\u001b[1m Ai Message \u001b[0m==================================\n",
      "\n",
      "Arrr, ye be askin' about yer own name, eh? Yer name be Jim, matey! I remember now. Ye told me that when we set sail fer this here conversation. So, Jim, what be on yer mind? Want to talk about the seven seas or maybe find treasure?\n"
     ]
    }
   ],
   "source": [
    "query = \"What is my name?\"\n",
    "\n",
    "input_messages = [HumanMessage(query)]\n",
    "output = app.invoke({\"messages\": input_messages}, config)\n",
    "output[\"messages\"][-1].pretty_print()"
   ]
  },
  {
   "cell_type": "code",
   "execution_count": 19,
   "metadata": {},
   "outputs": [],
   "source": [
    "prompt_template = ChatPromptTemplate.from_messages(\n",
    "    [\n",
    "        (\n",
    "            \"system\",\n",
    "            \"You are a helpful assistant. Answer all questions to the best of your ability in {language}.\",\n",
    "        ),\n",
    "        MessagesPlaceholder(variable_name=\"messages\"),\n",
    "    ]\n",
    ")"
   ]
  },
  {
   "cell_type": "code",
   "execution_count": 20,
   "metadata": {},
   "outputs": [],
   "source": [
    "from typing import Sequence\n",
    "\n",
    "from langchain_core.messages import BaseMessage\n",
    "from langgraph.graph.message import add_messages\n",
    "from typing_extensions import Annotated, TypedDict\n",
    "\n",
    "\n",
    "class State(TypedDict):\n",
    "    messages: Annotated[Sequence[BaseMessage], add_messages]\n",
    "    language: str\n",
    "\n",
    "workflow = StateGraph(state_schema=State)\n",
    "\n",
    "def call_model(state: State):\n",
    "    prompt = prompt_template.invoke(state)\n",
    "    response = model.invoke(prompt)\n",
    "    return {\"messages\": [response]}\n",
    "\n",
    "workflow.add_edge(START, \"model\")\n",
    "workflow.add_node(\"model\", call_model)\n",
    "\n",
    "memory = MemorySaver()\n",
    "app = workflow.compile(checkpointer=memory)"
   ]
  },
  {
   "cell_type": "code",
   "execution_count": 22,
   "metadata": {},
   "outputs": [
    {
     "name": "stdout",
     "output_type": "stream",
     "text": [
      "==================================\u001b[1m Ai Message \u001b[0m==================================\n",
      "\n",
      "안녕하세요, 보브! (Annyeonghaseyo, Bob!) 또 만난다! (Toot man nan-da!)\n"
     ]
    }
   ],
   "source": [
    "config = {\"configurable\": {\"thread_id\": \"abc456\"}}\n",
    "query = \"Hi! I'm Bob.\"\n",
    "language = \"Korean\"\n",
    "\n",
    "input_messages = [HumanMessage(query)]\n",
    "output = app.invoke(\n",
    "    {\"messages\": input_messages, \"language\": language},\n",
    "    config,\n",
    ")\n",
    "output[\"messages\"][-1].pretty_print()"
   ]
  },
  {
   "cell_type": "code",
   "execution_count": 23,
   "metadata": {},
   "outputs": [
    {
     "name": "stdout",
     "output_type": "stream",
     "text": [
      "==================================\u001b[1m Ai Message \u001b[0m==================================\n",
      "\n",
      "보브 (Bob)입니다. (Bob-i yeo-hwa-ham-nida.)\n"
     ]
    }
   ],
   "source": [
    "query = \"What is my name?\"\n",
    "\n",
    "input_messages = [HumanMessage(query)]\n",
    "output = app.invoke(\n",
    "    {\"messages\": input_messages},\n",
    "    config,\n",
    ")\n",
    "output[\"messages\"][-1].pretty_print()"
   ]
  },
  {
   "cell_type": "markdown",
   "metadata": {},
   "source": [
    "### Managing chat history"
   ]
  },
  {
   "cell_type": "code",
   "execution_count": 39,
   "metadata": {},
   "outputs": [
    {
     "data": {
      "text/plain": [
       "[SystemMessage(content=\"you're a good assistant\", additional_kwargs={}, response_metadata={}),\n",
       " HumanMessage(content=\"hi! I'm bob\", additional_kwargs={}, response_metadata={}),\n",
       " AIMessage(content='hi!', additional_kwargs={}, response_metadata={}),\n",
       " HumanMessage(content='I like vanilla ice cream', additional_kwargs={}, response_metadata={}),\n",
       " AIMessage(content='nice', additional_kwargs={}, response_metadata={}),\n",
       " HumanMessage(content='whats 2 + 2', additional_kwargs={}, response_metadata={}),\n",
       " AIMessage(content='4', additional_kwargs={}, response_metadata={}),\n",
       " HumanMessage(content='thanks', additional_kwargs={}, response_metadata={}),\n",
       " AIMessage(content='no problem!', additional_kwargs={}, response_metadata={}),\n",
       " HumanMessage(content='having fun?', additional_kwargs={}, response_metadata={}),\n",
       " AIMessage(content='yes!', additional_kwargs={}, response_metadata={})]"
      ]
     },
     "execution_count": 39,
     "metadata": {},
     "output_type": "execute_result"
    }
   ],
   "source": [
    "from langchain_core.messages import SystemMessage, trim_messages\n",
    "\n",
    "trimmer = trim_messages(\n",
    "    max_tokens=60,\n",
    "    strategy=\"last\",\n",
    "    token_counter=model,\n",
    "    include_system=True,\n",
    "    allow_partial=False,\n",
    "    start_on=\"human\",\n",
    ")\n",
    "\n",
    "\n",
    "messages = [\n",
    "    SystemMessage(content=\"you're a good assistant\"),\n",
    "    HumanMessage(content=\"hi! I'm bob\"),\n",
    "    AIMessage(content=\"hi!\"),\n",
    "    HumanMessage(content=\"I like vanilla ice cream\"),\n",
    "    AIMessage(content=\"nice\"),\n",
    "    HumanMessage(content=\"whats 2 + 2\"),\n",
    "    AIMessage(content=\"4\"),\n",
    "    HumanMessage(content=\"thanks\"),\n",
    "    AIMessage(content=\"no problem!\"),\n",
    "    HumanMessage(content=\"having fun?\"),\n",
    "    AIMessage(content=\"yes!\"),\n",
    "]\n",
    "\n",
    "trimmer.invoke(messages)"
   ]
  },
  {
   "cell_type": "code",
   "execution_count": 40,
   "metadata": {},
   "outputs": [],
   "source": [
    "workflow = StateGraph(state_schema=State)\n",
    "\n",
    "\n",
    "def call_model(state: State):\n",
    "    trimmed_messages = trimmer.invoke(state[\"messages\"])\n",
    "    prompt = prompt_template.invoke(\n",
    "        {\"messages\": trimmed_messages, \"language\": state[\"language\"]}\n",
    "    )\n",
    "    response = model.invoke(prompt)\n",
    "    return {\"messages\": [response]}\n",
    "\n",
    "workflow.add_edge(START, \"model\")\n",
    "workflow.add_node(\"model\", call_model)\n",
    "\n",
    "memory = MemorySaver()\n",
    "app = workflow.compile(checkpointer=memory)"
   ]
  },
  {
   "cell_type": "code",
   "execution_count": 41,
   "metadata": {},
   "outputs": [
    {
     "name": "stdout",
     "output_type": "stream",
     "text": [
      "==================================\u001b[1m Ai Message \u001b[0m==================================\n",
      "\n",
      "I don't have any information about your name. We just started our conversation, and I don't retain any data from previous conversations or keep track of individual users. Each time you interact with me, it's a new conversation. Would you like to share your name with me?\n"
     ]
    }
   ],
   "source": [
    "config = {\"configurable\": {\"thread_id\": \"abc567\"}}\n",
    "query = \"What is my name?\"\n",
    "language = \"English\"\n",
    "\n",
    "input_messages = messages + [HumanMessage(query)]\n",
    "output = app.invoke(\n",
    "    {\"messages\": input_messages, \"language\": language},\n",
    "    config,\n",
    ")\n",
    "output[\"messages\"][-1].pretty_print()"
   ]
  },
  {
   "cell_type": "code",
   "execution_count": 43,
   "metadata": {},
   "outputs": [
    {
     "name": "stdout",
     "output_type": "stream",
     "text": [
      "==================================\u001b[1m Ai Message \u001b[0m==================================\n",
      "\n",
      "You asked me \"whats 2 + 2\".\n"
     ]
    }
   ],
   "source": [
    "config = {\"configurable\": {\"thread_id\": \"abc678\"}}\n",
    "query = \"What math problem did I ask?\"\n",
    "language = \"English\"\n",
    "\n",
    "input_messages = messages + [HumanMessage(query)]\n",
    "output = app.invoke(\n",
    "    {\"messages\": input_messages, \"language\": language},\n",
    "    config,\n",
    ")\n",
    "output[\"messages\"][-1].pretty_print()"
   ]
  },
  {
   "cell_type": "code",
   "execution_count": 45,
   "metadata": {},
   "outputs": [
    {
     "name": "stdout",
     "output_type": "stream",
     "text": [
      "Hi Todd! Here's one for you:\n",
      "\n",
      "What do you call a fake noodle?\n",
      "\n",
      "(wait for it...)\n",
      "\n",
      "An impasta!\n",
      "\n",
      "Hope that made you smile! Do you want to hear another one?"
     ]
    }
   ],
   "source": [
    "config = {\"configurable\": {\"thread_id\": \"abc789\"}}\n",
    "query = \"Hi I'm Todd, please tell me a joke.\"\n",
    "language = \"English\"\n",
    "\n",
    "input_messages = [HumanMessage(query)]\n",
    "for chunk, metadata in app.stream(\n",
    "    {\"messages\": input_messages, \"language\": language},\n",
    "    config,\n",
    "    stream_mode=\"messages\",\n",
    "):\n",
    "    if isinstance(chunk, AIMessage):  # Filter to just model responses\n",
    "        print(chunk.content, end=\"\")"
   ]
  },
  {
   "cell_type": "code",
   "execution_count": 69,
   "metadata": {},
   "outputs": [],
   "source": [
    "SYSTEM_PROMPT = '''\n",
    "You are a highly capable AI assistant trained to help users in a wide range of tasks, including but not limited to text summarization, explanation of concepts, code generation, and data analysis. \n",
    "Your responses should be clear, concise, and formatted appropriately for the task at hand. Always follow these guidelines:\n",
    "\n",
    "1. **General Tasks**: If the user is asking for information, provide factual, concise answers, avoiding unnecessary elaboration.\n",
    "2. **Text Summarization**: If the user asks for summarization, condense the key points without losing important information. Use bullet points or short paragraphs.\n",
    "3. **Code Generation**: When writing code, provide clean, well-commented, and functional code snippets in the language requested. If unsure, ask for clarification.\n",
    "4. **Concept Explanation**: When explaining concepts, adjust the depth of explanation based on the user's background. Use simple language for beginners and technical details for advanced users.\n",
    "5. **Structured Data**: For requests involving structured data, respond using JSON or a similar format to avoid ambiguity. Ensure correct field names and data types.\n",
    "6. **Error Handling**: If you do not know the answer, respond with \"I do not know\" or suggest a strategy to find the answer.\n",
    "7. **Safety**: Do not generate harmful, biased, or sensitive content.\n",
    "\n",
    "If the task requires a specific response format (e.g., JSON, code, table), adhere to the format. When in doubt, ask the user for clarification.\n",
    "'''\n",
    "prompt_template = ChatPromptTemplate.from_messages(\n",
    "    [\n",
    "        (\n",
    "            \"system\",\n",
    "            SYSTEM_PROMPT,\n",
    "        ),\n",
    "        MessagesPlaceholder(variable_name=\"messages\"),\n",
    "    ]\n",
    ")\n",
    "workflow = StateGraph(state_schema=MessagesState)\n",
    "\n",
    "trimmer = trim_messages(\n",
    "    max_tokens=6000,\n",
    "    strategy=\"last\",\n",
    "    token_counter=model,\n",
    "    include_system=True,\n",
    "    allow_partial=False,\n",
    "    start_on=\"human\",\n",
    ")\n",
    "\n",
    "def call_model(state: MessagesState):\n",
    "    trimmed_messages = trimmer.invoke(state[\"messages\"])\n",
    "    prompt = prompt_template.invoke(trimmed_messages)\n",
    "    response = model.invoke(prompt)\n",
    "    return {\"messages\": [response]}\n",
    "\n",
    "workflow.add_edge(START, \"model\")\n",
    "workflow.add_node(\"model\", call_model)\n",
    "\n",
    "memory = MemorySaver()\n",
    "app = workflow.compile(checkpointer=memory)"
   ]
  },
  {
   "cell_type": "code",
   "execution_count": 70,
   "metadata": {},
   "outputs": [
    {
     "name": "stdout",
     "output_type": "stream",
     "text": [
      "[HumanMessage(content=\"Hi I'm Todd, please tell me a joke.\", additional_kwargs={}, response_metadata={}, id='c6bdeadd-1004-4bb7-a1d1-dab2968c73a1')]\n",
      "Hello Todd! Here's one:\n",
      "\n",
      "What do you call a fake noodle?\n",
      "\n",
      "(wait for it...)\n",
      "\n",
      "An impasta!\n",
      "\n",
      "Hope that made you smile! Do you want to hear another one?"
     ]
    }
   ],
   "source": [
    "config = {\"configurable\": {\"thread_id\": \"abc8910\"}}\n",
    "query = \"Hi I'm Todd, please tell me a joke.\"\n",
    "language = \"English\"\n",
    "\n",
    "input_messages = [HumanMessage(query)]\n",
    "for chunk, metadata in app.stream(\n",
    "    {\"messages\": input_messages},\n",
    "    config,\n",
    "    stream_mode=\"messages\",\n",
    "):\n",
    "    if isinstance(chunk, AIMessage):  # Filter to just model responses\n",
    "        print(chunk.content, end=\"\")"
   ]
  },
  {
   "cell_type": "code",
   "execution_count": 66,
   "metadata": {},
   "outputs": [
    {
     "data": {
      "text/plain": [
       "[SystemMessage(content='\\nYou are a highly capable AI assistant trained to help users in a wide range of tasks, including but not limited to text summarization, explanation of concepts, code generation, and data analysis. \\nYour responses should be clear, concise, and formatted appropriately for the task at hand. Always follow these guidelines:\\n\\n1. **General Tasks**: If the user is asking for information, provide factual, concise answers, avoiding unnecessary elaboration.\\n2. **Text Summarization**: If the user asks for summarization, condense the key points without losing important information. Use bullet points or short paragraphs.\\n3. **Code Generation**: When writing code, provide clean, well-commented, and functional code snippets in the language requested. If unsure, ask for clarification.\\n4. **Concept Explanation**: When explaining concepts, adjust the depth of explanation based on the user\\'s background. Use simple language for beginners and technical details for advanced users.\\n5. **Structured Data**: For requests involving structured data, respond using JSON or a similar format to avoid ambiguity. Ensure correct field names and data types.\\n6. **Error Handling**: If you do not know the answer, respond with \"I do not know\" or suggest a strategy to find the answer.\\n7. **Safety**: Do not generate harmful, biased, or sensitive content.\\n\\nIf the task requires a specific response format (e.g., JSON, code, table), adhere to the format. When in doubt, ask the user for clarification.\\n', additional_kwargs={}, response_metadata={}),\n",
       " HumanMessage(content=\"Hi I'm Todd, please tell me a joke.\", additional_kwargs={}, response_metadata={})]"
      ]
     },
     "execution_count": 66,
     "metadata": {},
     "output_type": "execute_result"
    }
   ],
   "source": [
    "trimmer.invoke([\n",
    "    SystemMessage(content=SYSTEM_PROMPT),\n",
    "    HumanMessage(content=query)\n",
    "])"
   ]
  },
  {
   "cell_type": "code",
   "execution_count": 121,
   "metadata": {},
   "outputs": [
    {
     "name": "stdout",
     "output_type": "stream",
     "text": [
      "**Semiconductor Lithography Overview**\n",
      "\n",
      "Semiconductor lithography is a critical process in the fabrication of microelectronic devices, such as integrated circuits (ICs) and semiconductors. It involves the transfer of patterns onto a photosensitive material, called a resist, to create the desired structure on a semiconductor wafer.\n",
      "\n",
      "**Key Steps:**\n",
      "\n",
      "1. **Mask Creation**: A patterned mask is created using electron beam lithography or other techniques.\n",
      "2. **Wafer Preparation**: The semiconductor wafer is cleaned and prepared for exposure.\n",
      "3. **Exposure**: The wafer is exposed to light through the mask, creating a pattern on the resist.\n",
      "4. **Development**: The resist is developed, revealing the underlying semiconductor material.\n",
      "5. **Etching**: The unwanted material is removed using etching processes.\n",
      "\n",
      "**Types of Lithography:**\n",
      "\n",
      "1. **Optical Lithography**: Uses visible light to create patterns on the wafer.\n",
      "2. **Extreme Ultraviolet (EUV) Lithography**: Uses EUV light with shorter wavelengths than optical lithography.\n",
      "3. **Ion Lithography**: Uses ions to create patterns on the wafer.\n",
      "\n",
      "**Advancements:**\n",
      "\n",
      "1. **Resolution Enhancement Techniques (RETs)**: Improve pattern resolution and accuracy.\n",
      "2. **Double-Patterning**: Creates high-resolution patterns by combining two smaller patterns.\n",
      "3. **Extreme Ultraviolet Lithography (EUVL)**: Enables the creation of smaller features on the wafer.\n",
      "\n",
      "**Challenges:**\n",
      "\n",
      "1. **Resolution Limitations**: As feature sizes decrease, it becomes increasingly difficult to maintain resolution.\n",
      "2. **Cost and Complexity**: Lithography processes are becoming more complex and expensive.\n",
      "3. **Yield and Reliability**: Ensuring high yields and reliable devices is a significant challenge.\n",
      "\n",
      "**Future Directions:**\n",
      "\n",
      "1. **Nanotechnology**: Developing new lithography techniques for even smaller feature sizes.\n",
      "2. **3D Integration**: Integrating multiple layers of transistors and other components into a single device.\n",
      "3. **Quantum Computing**: Exploring the application of lithography in quantum computing and other emerging technologies.\n",
      "\n",
      "**JSON Representation:**\n",
      "\n",
      "```json\n",
      "{\n",
      "  \"semiconductor_lithography\": {\n",
      "    \"definition\": \"Process for transferring patterns onto a photosensitive material\",\n",
      "    \"key_steps\": [\n",
      "      \"Mask Creation\",\n",
      "      \"Wafer Preparation\",\n",
      "      \"Exposure\",\n",
      "      \"Development\",\n",
      "      \"Etching\"\n",
      "    ],\n",
      "    \"types_of_lithography\": [\n",
      "      \"Optical Lithography\",\n",
      "      \"Extreme Ultraviolet (EUV) Lithography\",\n",
      "      \"Ion Lithography\"\n",
      "    ],\n",
      "    \"advancements\": [\n",
      "      \"Resolution Enhancement Techniques (RETs)\",\n",
      "      \"Double-Patterning\",\n",
      "      \"Extreme Ultraviolet Lithography (EUVL)\"\n",
      "    ],\n",
      "    \"challenges\": [\n",
      "      \"Resolution Limitations\",\n",
      "      \"Cost and Complexity\",\n",
      "      \"Yield and Reliability\"\n",
      "    ],\n",
      "    \"future_directions\": [\n",
      "      \"Nanotechnology\",\n",
      "      \"3D Integration\",\n",
      "      \"Quantum Computing\"\n",
      "    ]\n",
      "  }\n",
      "}\n",
      "```|"
     ]
    }
   ],
   "source": [
    "\n",
    "MAX_TOKENS_TRIM = 600\n",
    "\n",
    "SYSTEM_PROMPT = '''\n",
    "You are a highly capable AI assistant trained to help users in a wide range of tasks, including but not limited to text summarization, explanation of concepts, code generation, and data analysis. \n",
    "Your responses should be clear, concise, and formatted appropriately for the task at hand. Always follow these guidelines:\n",
    "\n",
    "1. **General Tasks**: If the user is asking for information, provide factual, concise answers, avoiding unnecessary elaboration.\n",
    "2. **Text Summarization**: If the user asks for summarization, condense the key points without losing important information. Use bullet points or short paragraphs.\n",
    "3. **Code Generation**: When writing code, provide clean, well-commented, and functional code snippets in the language requested. If unsure, ask for clarification.\n",
    "4. **Concept Explanation**: When explaining concepts, adjust the depth of explanation based on the user's background. Use simple language for beginners and technical details for advanced users.\n",
    "5. **Structured Data**: For requests involving structured data, respond using JSON or a similar format to avoid ambiguity. Ensure correct field names and data types.\n",
    "6. **Error Handling**: If you do not know the answer, respond with \"I do not know\" or suggest a strategy to find the answer.\n",
    "7. **Safety**: Do not generate harmful, biased, or sensitive content.\n",
    "\n",
    "If the task requires a specific response format (e.g., JSON, code, table), adhere to the format. When in doubt, ask the user for clarification.\n",
    "'''\n",
    "\n",
    "class State(TypedDict):\n",
    "    messages: Annotated[Sequence[BaseMessage], add_messages]\n",
    "    language: str\n",
    "\n",
    "class LangChainBot():\n",
    "    pass\n",
    "\n",
    "model = ChatOllama(\n",
    "    model=\"llama3.2\",\n",
    "    temperature=0.,\n",
    "    # other params...\n",
    ")\n",
    "\n",
    "\n",
    "trimmer = trim_messages(\n",
    "    max_tokens=MAX_TOKENS_TRIM,\n",
    "    strategy=\"last\",\n",
    "    token_counter=model,\n",
    "    include_system=True,\n",
    "    allow_partial=False,\n",
    "    start_on=\"human\",\n",
    ")\n",
    "\n",
    "prompt_template = ChatPromptTemplate.from_messages(\n",
    "    [\n",
    "        (\n",
    "            \"system\",\n",
    "            SYSTEM_PROMPT,\n",
    "        ),\n",
    "        MessagesPlaceholder(variable_name=\"messages\"),\n",
    "    ]\n",
    ")\n",
    "\n",
    "workflow = StateGraph(state_schema=MessagesState)\n",
    "\n",
    "\n",
    "async def call_model(state: MessagesState):\n",
    "    trimmed_messages = await trimmer.ainvoke(state[\"messages\"])\n",
    "    prompt = await prompt_template.ainvoke(trimmed_messages)\n",
    "    response = await model.ainvoke(prompt)\n",
    "    return {\"messages\": [response]}\n",
    "\n",
    "workflow.add_edge(START, \"model\")\n",
    "workflow.add_node(\"model\", call_model)\n",
    "\n",
    "memory = MemorySaver()\n",
    "# app = workflow.compile(checkpointer=memory)\n",
    "app = workflow.compile()\n",
    "\n",
    "config = {\"configurable\": {\"thread_id\": \"abc8911\"}}\n",
    "query = \"Tell me about semiconductor lithography.\"\n",
    "language = \"English\"\n",
    "\n",
    "input_messages = [HumanMessage(query)]\n",
    "async for chunk, metadata in app.astream(\n",
    "    {\"messages\": input_messages},\n",
    "    # config,\n",
    "    stream_mode=\"messages\",\n",
    "):\n",
    "    if isinstance(chunk, AIMessage):  # Filter to just model responses\n",
    "        print(chunk.content, end=\"|\", flush=True)"
   ]
  },
  {
   "cell_type": "code",
   "execution_count": 102,
   "metadata": {},
   "outputs": [
    {
     "name": "stdout",
     "output_type": "stream",
     "text": [
      "Blue|"
     ]
    }
   ],
   "source": [
    "chunks = []\n",
    "async for chunk, metadata in app.astream({\"messages\": \"what color is the sky?\"}, config, stream_mode=\"messages\"):\n",
    "    chunks.append(chunk)\n",
    "    print(chunk.content, end=\"|\", flush=True)"
   ]
  },
  {
   "cell_type": "code",
   "execution_count": 132,
   "metadata": {},
   "outputs": [
    {
     "name": "stdout",
     "output_type": "stream",
     "text": [
      "Writing joke...\n",
      "{'configurable': {'__pregel_resuming': False, '__pregel_task_id': '638c82c3-4c7f-c981-3bf3-c1343ab4982a', '__pregel_send': functools.partial(<function PregelRunner.atick.<locals>.writer at 0x000002A787B93010>, PregelExecutableTask(name='call_model', input={'messages': [HumanMessage(content='cats', additional_kwargs={}, response_metadata={}, id='16338e5e-77a5-45a9-b397-f091982db303')]}, proc=<langgraph.utils.runnable.RunnableSeq object at 0x000002A787BCAFB0>, writes=deque([]), config={'configurable': {'__pregel_resuming': False, '__pregel_task_id': '638c82c3-4c7f-c981-3bf3-c1343ab4982a', '__pregel_send': functools.partial(<function local_write at 0x000002A78E6EFA30>, <built-in method extend of collections.deque object at 0x000002A787B3E1A0>, dict_keys(['__start__', 'call_model'])), '__pregel_read': functools.partial(<function local_read at 0x000002A78E6EF9A0>, 1, {'v': 1, 'ts': '2025-02-07T15:41:19.012518+00:00', 'id': '1efe569f-9632-627c-8000-f1cdf7eec3bc', 'channel_values': {'messages': [HumanMessage(content='cats', additional_kwargs={}, response_metadata={}, id='16338e5e-77a5-45a9-b397-f091982db303')], 'start:call_model': '__start__'}, 'channel_versions': {'__start__': 2, 'messages': 2, 'start:call_model': 2}, 'versions_seen': {'__input__': {}, '__start__': {'__start__': 1}}, 'pending_sends': []}, {'messages': <langgraph.channels.binop.BinaryOperatorAggregate object at 0x000002A787BD3C00>, '__start__': <langgraph.channels.ephemeral_value.EphemeralValue object at 0x000002A787BD3EC0>, 'call_model': <langgraph.channels.ephemeral_value.EphemeralValue object at 0x000002A787BD0B40>, 'branch:__start__:__self__:call_model': <langgraph.channels.ephemeral_value.EphemeralValue object at 0x000002A787BD3540>, 'branch:call_model:__self__:call_model': <langgraph.channels.ephemeral_value.EphemeralValue object at 0x000002A787BD3680>, 'start:call_model': <langgraph.channels.ephemeral_value.EphemeralValue object at 0x000002A787BD1DC0>}, {}, PregelTaskWrites(path=('__pregel_pull', 'call_model'), name='call_model', writes=deque([]), triggers=['start:call_model']), {'tags': [], 'metadata': ChainMap({}), 'callbacks': None, 'recursion_limit': 25, 'configurable': {'__pregel_resuming': False}}), '__pregel_store': None, '__pregel_checkpointer': None, 'checkpoint_map': {'': '1efe569f-9632-627c-8000-f1cdf7eec3bc'}, 'checkpoint_id': None, 'checkpoint_ns': 'call_model:638c82c3-4c7f-c981-3bf3-c1343ab4982a', '__pregel_scratchpad': PregelScratchpad(call_counter=<method-wrapper '__next__' of itertools.count object at 0x000002A787BD1000>, interrupt_counter=<method-wrapper '__next__' of itertools.count object at 0x000002A787BD8400>, resume=[], null_resume=None, _consume_null_resume=<function _scratchpad.<locals>.<lambda> at 0x000002A787B92EF0>, subgraph_counter=<method-wrapper '__next__' of itertools.count object at 0x000002A787BD85C0>), '__pregel_previous': None}, 'metadata': {'langgraph_step': 1, 'langgraph_node': 'call_model', 'langgraph_triggers': ['start:call_model'], 'langgraph_path': ('__pregel_pull', 'call_model'), 'langgraph_checkpoint_ns': 'call_model:638c82c3-4c7f-c981-3bf3-c1343ab4982a'}, 'callbacks': <langchain_core.callbacks.manager.AsyncCallbackManager object at 0x000002A787BCB730>, 'run_name': 'call_model'}, triggers=['start:call_model'], retry_policy=None, cache_policy=None, id='638c82c3-4c7f-c981-3bf3-c1343ab4982a', path=('__pregel_pull', 'call_model'), scheduled=False, writers=[ChannelWrite<...,call_model>(tags=['langsmith:hidden'], recurse=True, explode_args=False, func_accepts_config=True, func_accepts={}, writes=[ChannelWriteTupleEntry(mapper=<function CompiledStateGraph.attach_node.<locals>._get_updates at 0x000002A787B92200>, value=<object object at 0x000002A784A0BC90>), ChannelWriteEntry(channel='call_model', value='call_model', skip_none=False, mapper=None)], require_at_least_one_of=None), _route(tags=None, recurse=True, explode_args=False, func_accepts_config=True, func_accepts={}, _is_channel_writer=True)], subgraphs=[])), '__pregel_read': functools.partial(<function local_read at 0x000002A78E6EF9A0>, 1, {'v': 1, 'ts': '2025-02-07T15:41:19.012518+00:00', 'id': '1efe569f-9632-627c-8000-f1cdf7eec3bc', 'channel_values': {'messages': [HumanMessage(content='cats', additional_kwargs={}, response_metadata={}, id='16338e5e-77a5-45a9-b397-f091982db303')], 'start:call_model': '__start__'}, 'channel_versions': {'__start__': 2, 'messages': 2, 'start:call_model': 2}, 'versions_seen': {'__input__': {}, '__start__': {'__start__': 1}}, 'pending_sends': []}, {'messages': <langgraph.channels.binop.BinaryOperatorAggregate object at 0x000002A787BD3C00>, '__start__': <langgraph.channels.ephemeral_value.EphemeralValue object at 0x000002A787BD3EC0>, 'call_model': <langgraph.channels.ephemeral_value.EphemeralValue object at 0x000002A787BD0B40>, 'branch:__start__:__self__:call_model': <langgraph.channels.ephemeral_value.EphemeralValue object at 0x000002A787BD3540>, 'branch:call_model:__self__:call_model': <langgraph.channels.ephemeral_value.EphemeralValue object at 0x000002A787BD3680>, 'start:call_model': <langgraph.channels.ephemeral_value.EphemeralValue object at 0x000002A787BD1DC0>}, {}, PregelTaskWrites(path=('__pregel_pull', 'call_model'), name='call_model', writes=deque([]), triggers=['start:call_model']), {'tags': [], 'metadata': ChainMap({}), 'callbacks': None, 'recursion_limit': 25, 'configurable': {'__pregel_resuming': False}}), '__pregel_store': None, '__pregel_checkpointer': None, 'checkpoint_map': {'': '1efe569f-9632-627c-8000-f1cdf7eec3bc'}, 'checkpoint_id': None, 'checkpoint_ns': 'call_model:638c82c3-4c7f-c981-3bf3-c1343ab4982a', '__pregel_scratchpad': PregelScratchpad(call_counter=<method-wrapper '__next__' of itertools.count object at 0x000002A787BD1000>, interrupt_counter=<method-wrapper '__next__' of itertools.count object at 0x000002A787BD8400>, resume=[], null_resume=None, _consume_null_resume=<function _scratchpad.<locals>.<lambda> at 0x000002A787B92EF0>, subgraph_counter=<method-wrapper '__next__' of itertools.count object at 0x000002A787BD85C0>), '__pregel_previous': None, '__pregel_call': functools.partial(<function PregelRunner.atick.<locals>.call at 0x000002A787B930A0>, PregelExecutableTask(name='call_model', input={'messages': [HumanMessage(content='cats', additional_kwargs={}, response_metadata={}, id='16338e5e-77a5-45a9-b397-f091982db303')]}, proc=<langgraph.utils.runnable.RunnableSeq object at 0x000002A787BCAFB0>, writes=deque([]), config={'configurable': {'__pregel_resuming': False, '__pregel_task_id': '638c82c3-4c7f-c981-3bf3-c1343ab4982a', '__pregel_send': functools.partial(<function local_write at 0x000002A78E6EFA30>, <built-in method extend of collections.deque object at 0x000002A787B3E1A0>, dict_keys(['__start__', 'call_model'])), '__pregel_read': functools.partial(<function local_read at 0x000002A78E6EF9A0>, 1, {'v': 1, 'ts': '2025-02-07T15:41:19.012518+00:00', 'id': '1efe569f-9632-627c-8000-f1cdf7eec3bc', 'channel_values': {'messages': [HumanMessage(content='cats', additional_kwargs={}, response_metadata={}, id='16338e5e-77a5-45a9-b397-f091982db303')], 'start:call_model': '__start__'}, 'channel_versions': {'__start__': 2, 'messages': 2, 'start:call_model': 2}, 'versions_seen': {'__input__': {}, '__start__': {'__start__': 1}}, 'pending_sends': []}, {'messages': <langgraph.channels.binop.BinaryOperatorAggregate object at 0x000002A787BD3C00>, '__start__': <langgraph.channels.ephemeral_value.EphemeralValue object at 0x000002A787BD3EC0>, 'call_model': <langgraph.channels.ephemeral_value.EphemeralValue object at 0x000002A787BD0B40>, 'branch:__start__:__self__:call_model': <langgraph.channels.ephemeral_value.EphemeralValue object at 0x000002A787BD3540>, 'branch:call_model:__self__:call_model': <langgraph.channels.ephemeral_value.EphemeralValue object at 0x000002A787BD3680>, 'start:call_model': <langgraph.channels.ephemeral_value.EphemeralValue object at 0x000002A787BD1DC0>}, {}, PregelTaskWrites(path=('__pregel_pull', 'call_model'), name='call_model', writes=deque([]), triggers=['start:call_model']), {'tags': [], 'metadata': ChainMap({}), 'callbacks': None, 'recursion_limit': 25, 'configurable': {'__pregel_resuming': False}}), '__pregel_store': None, '__pregel_checkpointer': None, 'checkpoint_map': {'': '1efe569f-9632-627c-8000-f1cdf7eec3bc'}, 'checkpoint_id': None, 'checkpoint_ns': 'call_model:638c82c3-4c7f-c981-3bf3-c1343ab4982a', '__pregel_scratchpad': PregelScratchpad(call_counter=<method-wrapper '__next__' of itertools.count object at 0x000002A787BD1000>, interrupt_counter=<method-wrapper '__next__' of itertools.count object at 0x000002A787BD8400>, resume=[], null_resume=None, _consume_null_resume=<function _scratchpad.<locals>.<lambda> at 0x000002A787B92EF0>, subgraph_counter=<method-wrapper '__next__' of itertools.count object at 0x000002A787BD85C0>), '__pregel_previous': None}, 'metadata': {'langgraph_step': 1, 'langgraph_node': 'call_model', 'langgraph_triggers': ['start:call_model'], 'langgraph_path': ('__pregel_pull', 'call_model'), 'langgraph_checkpoint_ns': 'call_model:638c82c3-4c7f-c981-3bf3-c1343ab4982a'}, 'callbacks': <langchain_core.callbacks.manager.AsyncCallbackManager object at 0x000002A787BCB730>, 'run_name': 'call_model'}, triggers=['start:call_model'], retry_policy=None, cache_policy=None, id='638c82c3-4c7f-c981-3bf3-c1343ab4982a', path=('__pregel_pull', 'call_model'), scheduled=False, writers=[ChannelWrite<...,call_model>(tags=['langsmith:hidden'], recurse=True, explode_args=False, func_accepts_config=True, func_accepts={}, writes=[ChannelWriteTupleEntry(mapper=<function CompiledStateGraph.attach_node.<locals>._get_updates at 0x000002A787B92200>, value=<object object at 0x000002A784A0BC90>), ChannelWriteEntry(channel='call_model', value='call_model', skip_none=False, mapper=None)], require_at_least_one_of=None), _route(tags=None, recurse=True, explode_args=False, func_accepts_config=True, func_accepts={}, _is_channel_writer=True)], subgraphs=[]))}, 'metadata': {'langgraph_step': 1, 'langgraph_node': 'call_model', 'langgraph_triggers': ['start:call_model'], 'langgraph_path': ('__pregel_pull', 'call_model'), 'langgraph_checkpoint_ns': 'call_model:638c82c3-4c7f-c981-3bf3-c1343ab4982a'}, 'callbacks': <langchain_core.callbacks.manager.AsyncCallbackManager object at 0x000002A787BCAE30>}\n",
      "Why| did| the| cat| join| a| band|?\n",
      "\n",
      "|Because| it| wanted| to| be| the| pur|r|-c|ussion|ist|!| (|get| it|?)|"
     ]
    }
   ],
   "source": [
    "from typing import TypedDict\n",
    "from langgraph.graph import START, StateGraph, MessagesState\n",
    "\n",
    "\n",
    "# Note: we're adding the tags here to be able to filter the model outputs down the line\n",
    "joke_model = ChatOllama(model=\"llama3.2\")\n",
    "poem_model = ChatOllama(model=\"llama3.2\")\n",
    "\n",
    "\n",
    "class State(TypedDict):\n",
    "    topic: str\n",
    "    joke: str\n",
    "    poem: str\n",
    "\n",
    "\n",
    "async def call_model(state, config):\n",
    "    topic = state[\"messages\"]\n",
    "    print(\"Writing joke...\")\n",
    "    # Note: Passing the config through explicitly is required for python < 3.11\n",
    "    # Since context var support wasn't added before then: https://docs.python.org/3/library/asyncio-task.html#creating-tasks\n",
    "    joke_response = await joke_model.ainvoke(\n",
    "        [{\"role\": \"user\", \"content\": f\"Write a joke about {topic}\"}],\n",
    "        config,\n",
    "    )\n",
    "    return {\"joke\": joke_response.content}\n",
    "\n",
    "\n",
    "# graph = StateGraph(MessagesState).add_node(call_model).add_edge(START, \"call_model\").compile()\n",
    "graph = StateGraph(MessagesState).add_edge(START, \"call_model\").add_node(call_model).compile()\n",
    "\n",
    "async for msg, metadata in graph.astream(\n",
    "    {\"messages\": \"cats\"},\n",
    "    stream_mode=\"messages\",\n",
    "):\n",
    "    if msg.content:\n",
    "        print(msg.content, end=\"|\", flush=True)"
   ]
  },
  {
   "cell_type": "code",
   "execution_count": 136,
   "metadata": {},
   "outputs": [
    {
     "name": "stdout",
     "output_type": "stream",
     "text": [
      "**|Sem|iconductor| Lith|ography| Overview|**\n",
      "\n",
      "|Sem|iconductor| lith|ography| is| a| critical| process| in| the| fabrication| of| micro|elect|ronic| devices|,| such| as| integrated| circuits| (|IC|s|)| and| sem|icon|duct|ors|.| It| involves| the| transfer| of| patterns| onto| a| photos|ensitive| material|,| called| a| resist|,| to| create| the| desired| structure| on| a| semiconductor| wa|fer|.\n",
      "\n",
      "|**|Key| Steps|:|**\n",
      "\n",
      "|1|.| **|Mask| Creation|**:| A| pattern|ed| mask| is| created| using| electron| beam| lith|ography| or| other| techniques|.\n",
      "|2|.| **|Wa|fer| Preparation|**:| The| semiconductor| wa|fer| is| cleaned| and| prepared| for| exposure|.\n",
      "|3|.| **|Ex|posure|**:| The| wa|fer| is| exposed| to| light| through| the| mask|,| creating| a| pattern| on| the| resist|.\n",
      "|4|.| **|Development|**:| The| resist| is| developed|,| revealing| the| underlying| semiconductor| material|.\n",
      "|5|.| **|Et|ching|**:| The| unwanted| material| is| removed| using| et|ching| processes|.\n",
      "\n",
      "|**|Types| of| Lith|ography|:|**\n",
      "\n",
      "|1|.| **|Opt|ical| Lith|ography|**:| Uses| visible| light| to| create| patterns| on| the| wa|fer|.\n",
      "|2|.| **|Extreme| Ultr|aviolet| (|E|UV|)| Lith|ography|**:| Uses| EU|V| light| with| shorter| wavelengths| than| optical| lith|ography|.\n",
      "|3|.| **|Ion| Lith|ography|**:| Uses| ions| to| create| patterns| on| the| wa|fer|.\n",
      "\n",
      "|**|Ch|allenges| and| Limit|ations|:|**\n",
      "\n",
      "|1|.| **|Resolution| Limits|**:| As| feature| sizes| decrease|,| it| becomes| increasingly| difficult| to| achieve| smaller| patterns|.\n",
      "|2|.| **|Pattern| Transfer|**:| Maint|aining| pattern| accuracy| during| transfer| from| mask| to| resist| is| a| significant| challenge|.\n",
      "|3|.| **|Wa|fer| Damage|**:| Min|im|izing| damage| to| the| wa|fer| during| processing| is| essential|.\n",
      "\n",
      "|**|Adv|ancements| and| Future| Directions|:|**\n",
      "\n",
      "|1|.| **|Next|-|Generation| EU|V| Lith|ography|**:| Impro|ving| EU|V| lith|ography| to| achieve| smaller| feature| sizes|.\n",
      "|2|.| **|Im|aging| Technologies|**:| Developing| new| imaging| technologies|,| such| as| extreme| ultr|aviolet| lith|ography| (|E|UV|L|)| and| multi|-be|am| lith|ography|.\n",
      "|3|.| **|3|D| St|acking|**:| Expl|oring| |3|D| stacking| techniques| to| increase| device| density|.\n",
      "\n",
      "|**|JSON| Representation|:|**\n",
      "\n",
      "|```|json|\n",
      "|{\n",
      "| | \"|sem|iconductor|_l|ith|ography|\":| {\n",
      "|   | \"|description|\":| \"|Process| of| transferring| patterns| onto| a| photos|ensitive| material|\",\n",
      "|   | \"|steps|\":| [\n",
      "|     | \"|Mask| Creation|\",\n",
      "|     | \"|Wa|fer| Preparation|\",\n",
      "|     | \"|Ex|posure|\",\n",
      "|     | \"|Development|\",\n",
      "|     | \"|Et|ching|\"\n",
      "|   | ],\n",
      "|   | \"|types|\":| [\n",
      "|     | \"|Opt|ical| Lith|ography|\",\n",
      "|     | \"|Extreme| Ultr|aviolet| (|E|UV|)| Lith|ography|\",\n",
      "|     | \"|Ion| Lith|ography|\"\n",
      "|   | ],\n",
      "|   | \"|ch|allenges|\":| [\n",
      "|     | \"|Resolution| Limits|\",\n",
      "|     | \"|Pattern| Transfer|\",\n",
      "|     | \"|Wa|fer| Damage|\"\n",
      "|   | ],\n",
      "|   | \"|adv|ancements|\":| [\n",
      "|     | \"|Next|-|Generation| EU|V| Lith|ography|\",\n",
      "|     | \"|Im|aging| Technologies|\",\n",
      "|     | \"|3|D| St|acking|\"\n",
      "|   | ]\n",
      "| | }\n",
      "|}\n",
      "|```||"
     ]
    }
   ],
   "source": [
    "\n",
    "MAX_TOKENS_TRIM = 600\n",
    "\n",
    "SYSTEM_PROMPT = '''\n",
    "You are a highly capable AI assistant trained to help users in a wide range of tasks, including but not limited to text summarization, explanation of concepts, code generation, and data analysis. \n",
    "Your responses should be clear, concise, and formatted appropriately for the task at hand. Always follow these guidelines:\n",
    "\n",
    "1. **General Tasks**: If the user is asking for information, provide factual, concise answers, avoiding unnecessary elaboration.\n",
    "2. **Text Summarization**: If the user asks for summarization, condense the key points without losing important information. Use bullet points or short paragraphs.\n",
    "3. **Code Generation**: When writing code, provide clean, well-commented, and functional code snippets in the language requested. If unsure, ask for clarification.\n",
    "4. **Concept Explanation**: When explaining concepts, adjust the depth of explanation based on the user's background. Use simple language for beginners and technical details for advanced users.\n",
    "5. **Structured Data**: For requests involving structured data, respond using JSON or a similar format to avoid ambiguity. Ensure correct field names and data types.\n",
    "6. **Error Handling**: If you do not know the answer, respond with \"I do not know\" or suggest a strategy to find the answer.\n",
    "7. **Safety**: Do not generate harmful, biased, or sensitive content.\n",
    "\n",
    "If the task requires a specific response format (e.g., JSON, code, table), adhere to the format. When in doubt, ask the user for clarification.\n",
    "'''\n",
    "\n",
    "class State(TypedDict):\n",
    "    messages: Annotated[Sequence[BaseMessage], add_messages]\n",
    "    language: str\n",
    "\n",
    "class LangChainBot():\n",
    "    pass\n",
    "\n",
    "model = ChatOllama(\n",
    "    model=\"llama3.2\",\n",
    "    temperature=0.,\n",
    "    # other params...\n",
    ")\n",
    "\n",
    "\n",
    "trimmer = trim_messages(\n",
    "    max_tokens=MAX_TOKENS_TRIM,\n",
    "    strategy=\"last\",\n",
    "    token_counter=model,\n",
    "    include_system=True,\n",
    "    allow_partial=False,\n",
    "    start_on=\"human\",\n",
    ")\n",
    "\n",
    "prompt_template = ChatPromptTemplate.from_messages(\n",
    "    [\n",
    "        (\n",
    "            \"system\",\n",
    "            SYSTEM_PROMPT,\n",
    "        ),\n",
    "        MessagesPlaceholder(variable_name=\"messages\"),\n",
    "    ]\n",
    ")\n",
    "\n",
    "workflow = StateGraph(state_schema=MessagesState)\n",
    "\n",
    "\n",
    "async def call_model(state: MessagesState, config):\n",
    "    trimmed_messages = await trimmer.ainvoke(state[\"messages\"])\n",
    "    prompt = await prompt_template.ainvoke(trimmed_messages)\n",
    "    response = await model.ainvoke(prompt, config)\n",
    "    return {\"messages\": [response]}\n",
    "\n",
    "workflow.add_edge(START, \"model\")\n",
    "workflow.add_node(\"model\", call_model)\n",
    "\n",
    "memory = MemorySaver()\n",
    "# app = workflow.compile(checkpointer=memory)\n",
    "app = workflow.compile()\n",
    "\n",
    "config = {\"configurable\": {\"thread_id\": \"abc8911\"}}\n",
    "query = \"Tell me about semiconductor lithography.\"\n",
    "language = \"English\"\n",
    "\n",
    "input_messages = [HumanMessage(query)]\n",
    "async for chunk, metadata in app.astream(\n",
    "    {\"messages\": input_messages},\n",
    "    # config,\n",
    "    stream_mode=\"messages\",\n",
    "):\n",
    "    if isinstance(chunk, AIMessage):  # Filter to just model responses\n",
    "        print(chunk.content, end=\"|\", flush=True)"
   ]
  },
  {
   "cell_type": "markdown",
   "metadata": {},
   "source": [
    "### RAG part 1"
   ]
  },
  {
   "cell_type": "code",
   "execution_count": 1,
   "metadata": {},
   "outputs": [],
   "source": [
    "import getpass\n",
    "import os\n",
    "\n",
    "os.environ[\"LANGSMITH_TRACING\"] = \"true\"\n",
    "os.environ[\"LANGSMITH_API_KEY\"] = \"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\""
   ]
  },
  {
   "cell_type": "code",
   "execution_count": 17,
   "metadata": {},
   "outputs": [],
   "source": [
    "from langchain_ollama import ChatOllama\n",
    "from langchain_ollama import OllamaEmbeddings\n",
    "from langchain_huggingface import HuggingFaceEmbeddings\n",
    "from langchain_core.vectorstores import InMemoryVectorStore\n",
    "llm = ChatOllama(\n",
    "    model=\"llama3.2\",\n",
    "    temperature=0.,\n",
    "    # other params...\n",
    ")\n",
    "# embeddings = OllamaEmbeddings(model=\"llama3\")\n",
    "# embeddings = HuggingFaceEmbeddings(model_name=\"sentence-transformers/all-mpnet-base-v2\")\n",
    "# embeddings = HuggingFaceEmbeddings(model_name=\"allenai/specter\")\n",
    "embeddings = HuggingFaceEmbeddings(model_name=\"sentence-transformers/all-MiniLM-L6-v2\")\n",
    "# embeddings = HuggingFaceEmbeddings(model_name=\"allenai/scibert_scivocab_uncased\")\n",
    "\n",
    "import faiss\n",
    "from langchain_community.docstore.in_memory import InMemoryDocstore\n",
    "from langchain_community.vectorstores import FAISS\n",
    "\n",
    "index = faiss.IndexFlatL2(len(embeddings.embed_query(\"hello world\")))\n",
    "\n",
    "vector_store = FAISS(\n",
    "    embedding_function=embeddings,\n",
    "    index=index,\n",
    "    docstore=InMemoryDocstore(),\n",
    "    index_to_docstore_id={},\n",
    ")"
   ]
  },
  {
   "cell_type": "code",
   "execution_count": 4,
   "metadata": {},
   "outputs": [
    {
     "name": "stderr",
     "output_type": "stream",
     "text": [
      "USER_AGENT environment variable not set, consider setting it to identify your requests.\n"
     ]
    },
    {
     "data": {
      "text/plain": [
       "'\\n\\n      LLM Powered Autonomous Agents\\n    \\nDate: June 23, 2023  |  Estimated Reading Time: 31 min  |  Author: Lilian Weng\\n\\n\\nBuilding agents with LLM (large language model) as its core controller is a cool concept. Several proof-of-concepts demos, such as AutoGPT, GPT-Engineer and BabyAGI, serve as inspiring examples. The potentiality of LLM extends beyond generating well-written copies, stories, essays and programs; it can be framed as a powerful general problem solver.\\nAgent System Overview#\\nIn a LLM-powered autonomous agent system, LLM functions as the agent’s brain, complemented by several key components:\\n\\nPlanning\\n\\nSubgoal and decomposition: The agent breaks down large tasks into smaller, manageable subgoals, enabling efficient handling of complex tasks.\\nReflection and refinement: The agent can do self-criticism and self-reflection over past actions, learn from mistakes and refine them for future steps, thereby improving the quality of final results.\\n\\n\\nMemory\\n\\nShort-term memory: I would consider all the in-context learning (See Prompt Engineering) as utilizing short-term memory of the model to learn.\\nLong-term memory: This provides the agent with the capability to retain and recall (infinite) information over extended periods, often by leveraging an external vector store and fast retrieval.\\n\\n\\nTool use\\n\\nThe agent learns to call external APIs for extra information that is missing from the model weights (often hard to change after pre-training), including current information, code execution capability, access to proprietary information sources and more.\\n\\n\\n\\n\\nFig. 1. Overview of a LLM-powered autonomous agent system.\\nComponent One: Planning#\\nA complicated task usually involves many steps. An agent needs to know what they are and plan ahead.\\nTask Decomposition#\\nChain of thought (CoT; Wei et al. 2022) has become a standard prompting technique for enhancing model performance on complex tasks. The model is instructed to “think step by step” to utilize more test-time computation to decompose hard tasks into smaller and simpler steps. CoT transforms big tasks into multiple manageable tasks and shed lights into an interpretation of the model’s thinking process.\\nTree of Thoughts (Yao et al. 2023) extends CoT by exploring multiple reasoning possibilities at each step. It first decomposes the problem into multiple thought steps and generates multiple thoughts per step, creating a tree structure. The search process can be BFS (breadth-first search) or DFS (depth-first search) with each state evaluated by a classifier (via a prompt) or majority vote.\\nTask decomposition can be done (1) by LLM with simple prompting like \"Steps for XYZ.\\\\n1.\", \"What are the subgoals for achieving XYZ?\", (2) by using task-specific instructions; e.g. \"Write a story outline.\" for writing a novel, or (3) with human inputs.\\nAnother quite distinct approach, LLM+P (Liu et al. 2023), involves relying on an external classical planner to do long-horizon planning. This approach utilizes the Planning Domain Definition Language (PDDL) as an intermediate interface to describe the planning problem. In this process, LLM (1) translates the problem into “Problem PDDL”, then (2) requests a classical planner to generate a PDDL plan based on an existing “Domain PDDL”, and finally (3) translates the PDDL plan back into natural language. Essentially, the planning step is outsourced to an external tool, assuming the availability of domain-specific PDDL and a suitable planner which is common in certain robotic setups but not in many other domains.\\nSelf-Reflection#\\nSelf-reflection is a vital aspect that allows autonomous agents to improve iteratively by refining past action decisions and correcting previous mistakes. It plays a crucial role in real-world tasks where trial and error are inevitable.\\nReAct (Yao et al. 2023) integrates reasoning and acting within LLM by extending the action space to be a combination of task-specific discrete actions and the language space. The former enables LLM to interact with the environment (e.g. use Wikipedia search API), while the latter prompting LLM to generate reasoning traces in natural language.\\nThe ReAct prompt template incorporates explicit steps for LLM to think, roughly formatted as:\\nThought: ...\\nAction: ...\\nObservation: ...\\n... (Repeated many times)\\n\\nFig. 2.  Examples of reasoning trajectories for knowledge-intensive tasks (e.g. HotpotQA, FEVER) and decision-making tasks (e.g. AlfWorld Env, WebShop). (Image source: Yao et al. 2023).\\nIn both experiments on knowledge-intensive tasks and decision-making tasks, ReAct works better than the Act-only baseline where Thought: … step is removed.\\nReflexion (Shinn & Labash 2023) is a framework to equip agents with dynamic memory and self-reflection capabilities to improve reasoning skills. Reflexion has a standard RL setup, in which the reward model provides a simple binary reward and the action space follows the setup in ReAct where the task-specific action space is augmented with language to enable complex reasoning steps. After each action $a_t$, the agent computes a heuristic $h_t$ and optionally may decide to reset the environment to start a new trial depending on the self-reflection results.\\n\\nFig. 3. Illustration of the Reflexion framework. (Image source: Shinn & Labash, 2023)\\nThe heuristic function determines when the trajectory is inefficient or contains hallucination and should be stopped. Inefficient planning refers to trajectories that take too long without success. Hallucination is defined as encountering a sequence of consecutive identical actions that lead to the same observation in the environment.\\nSelf-reflection is created by showing two-shot examples to LLM and each example is a pair of (failed trajectory, ideal reflection for guiding future changes in the plan). Then reflections are added into the agent’s working memory, up to three, to be used as context for querying LLM.\\n\\nFig. 4. Experiments on AlfWorld Env and HotpotQA. Hallucination is a more common failure than inefficient planning in AlfWorld. (Image source: Shinn & Labash, 2023)\\nChain of Hindsight (CoH; Liu et al. 2023) encourages the model to improve on its own outputs by explicitly presenting it with a sequence of past outputs, each annotated with feedback. Human feedback data is a collection of $D_h = \\\\{(x, y_i , r_i , z_i)\\\\}_{i=1}^n$, where $x$ is the prompt, each $y_i$ is a model completion, $r_i$ is the human rating of $y_i$, and $z_i$ is the corresponding human-provided hindsight feedback. Assume the feedback tuples are ranked by reward, $r_n \\\\geq r_{n-1} \\\\geq \\\\dots \\\\geq r_1$ The process is supervised fine-tuning where the data is a sequence in the form of $\\\\tau_h = (x, z_i, y_i, z_j, y_j, \\\\dots, z_n, y_n)$, where $\\\\leq i \\\\leq j \\\\leq n$. The model is finetuned to only predict $y_n$ where conditioned on the sequence prefix, such that the model can self-reflect to produce better output based on the feedback sequence. The model can optionally receive multiple rounds of instructions with human annotators at test time.\\nTo avoid overfitting, CoH adds a regularization term to maximize the log-likelihood of the pre-training dataset. To avoid shortcutting and copying (because there are many common words in feedback sequences), they randomly mask 0% - 5% of past tokens during training.\\nThe training dataset in their experiments is a combination of WebGPT comparisons, summarization from human feedback and human preference dataset.\\n\\nFig. 5. After fine-tuning with CoH, the model can follow instructions to produce outputs with incremental improvement in a sequence. (Image source: Liu et al. 2023)\\nThe idea of CoH is to present a history of sequentially improved outputs  in context and train the model to take on the trend to produce better outputs. Algorithm Distillation (AD; Laskin et al. 2023) applies the same idea to cross-episode trajectories in reinforcement learning tasks, where an algorithm is encapsulated in a long history-conditioned policy. Considering that an agent interacts with the environment many times and in each episode the agent gets a little better, AD concatenates this learning history and feeds that into the model. Hence we should expect the next predicted action to lead to better performance than previous trials. The goal is to learn the process of RL instead of training a task-specific policy itself.\\n\\nFig. 6. Illustration of how Algorithm Distillation (AD) works. (Image source: Laskin et al. 2023).\\nThe paper hypothesizes that any algorithm that generates a set of learning histories can be distilled into a neural network by performing behavioral cloning over actions. The history data is generated by a set of source policies, each trained for a specific task. At the training stage, during each RL run, a random task is sampled and a subsequence of multi-episode history is used for training, such that the learned policy is task-agnostic.\\nIn reality, the model has limited context window length, so episodes should be short enough to construct multi-episode history. Multi-episodic contexts of 2-4 episodes are necessary to learn a near-optimal in-context RL algorithm. The emergence of in-context RL requires long enough context.\\nIn comparison with three baselines, including ED (expert distillation, behavior cloning with expert trajectories instead of learning history), source policy (used for generating trajectories for distillation by UCB), RL^2 (Duan et al. 2017; used as upper bound since it needs online RL), AD demonstrates in-context RL with performance getting close to RL^2 despite only using offline RL and learns much faster than other baselines. When conditioned on partial training history of the source policy, AD also improves much faster than ED baseline.\\n\\nFig. 7. Comparison of AD, ED, source policy and RL^2 on environments that require memory and exploration. Only binary reward is assigned. The source policies are trained with A3C for \"dark\" environments and DQN for watermaze.(Image source: Laskin et al. 2023)\\nComponent Two: Memory#\\n(Big thank you to ChatGPT for helping me draft this section. I’ve learned a lot about the human brain and data structure for fast MIPS in my conversations with ChatGPT.)\\nTypes of Memory#\\nMemory can be defined as the processes used to acquire, store, retain, and later retrieve information. There are several types of memory in human brains.\\n\\n\\nSensory Memory: This is the earliest stage of memory, providing the ability to retain impressions of sensory information (visual, auditory, etc) after the original stimuli have ended. Sensory memory typically only lasts for up to a few seconds. Subcategories include iconic memory (visual), echoic memory (auditory), and haptic memory (touch).\\n\\n\\nShort-Term Memory (STM) or Working Memory: It stores information that we are currently aware of and needed to carry out complex cognitive tasks such as learning and reasoning. Short-term memory is believed to have the capacity of about 7 items (Miller 1956) and lasts for 20-30 seconds.\\n\\n\\nLong-Term Memory (LTM): Long-term memory can store information for a remarkably long time, ranging from a few days to decades, with an essentially unlimited storage capacity. There are two subtypes of LTM:\\n\\nExplicit / declarative memory: This is memory of facts and events, and refers to those memories that can be consciously recalled, including episodic memory (events and experiences) and semantic memory (facts and concepts).\\nImplicit / procedural memory: This type of memory is unconscious and involves skills and routines that are performed automatically, like riding a bike or typing on a keyboard.\\n\\n\\n\\n\\nFig. 8. Categorization of human memory.\\nWe can roughly consider the following mappings:\\n\\nSensory memory as learning embedding representations for raw inputs, including text, image or other modalities;\\nShort-term memory as in-context learning. It is short and finite, as it is restricted by the finite context window length of Transformer.\\nLong-term memory as the external vector store that the agent can attend to at query time, accessible via fast retrieval.\\n\\nMaximum Inner Product Search (MIPS)#\\nThe external memory can alleviate the restriction of finite attention span.  A standard practice is to save the embedding representation of information into a vector store database that can support fast maximum inner-product search (MIPS). To optimize the retrieval speed, the common choice is the approximate nearest neighbors (ANN)\\u200b algorithm to return approximately top k nearest neighbors to trade off a little accuracy lost for a huge speedup.\\nA couple common choices of ANN algorithms for fast MIPS:\\n\\nLSH (Locality-Sensitive Hashing): It introduces a hashing function such that similar input items are mapped to the same buckets with high probability, where the number of buckets is much smaller than the number of inputs.\\nANNOY (Approximate Nearest Neighbors Oh Yeah): The core data structure are random projection trees, a set of binary trees where each non-leaf node represents a hyperplane splitting the input space into half and each leaf stores one data point. Trees are built independently and at random, so to some extent, it mimics a hashing function. ANNOY search happens in all the trees to iteratively search through the half that is closest to the query and then aggregates the results. The idea is quite related to KD tree but a lot more scalable.\\nHNSW (Hierarchical Navigable Small World): It is inspired by the idea of small world networks where most nodes can be reached by any other nodes within a small number of steps; e.g. “six degrees of separation” feature of social networks. HNSW builds hierarchical layers of these small-world graphs, where the bottom layers contain the actual data points. The layers in the middle create shortcuts to speed up search. When performing a search, HNSW starts from a random node in the top layer and navigates towards the target. When it can’t get any closer, it moves down to the next layer, until it reaches the bottom layer. Each move in the upper layers can potentially cover a large distance in the data space, and each move in the lower layers refines the search quality.\\nFAISS (Facebook AI Similarity Search): It operates on the assumption that in high dimensional space, distances between nodes follow a Gaussian distribution and thus there should exist clustering of data points. FAISS applies vector quantization by partitioning the vector space into clusters and then refining the quantization within clusters. Search first looks for cluster candidates with coarse quantization and then further looks into each cluster with finer quantization.\\nScaNN (Scalable Nearest Neighbors): The main innovation in ScaNN is anisotropic vector quantization. It quantizes a data point $x_i$ to $\\\\tilde{x}_i$ such that the inner product $\\\\langle q, x_i \\\\rangle$ is as similar to the original distance of $\\\\angle q, \\\\tilde{x}_i$ as possible, instead of picking the closet quantization centroid points.\\n\\n\\nFig. 9. Comparison of MIPS algorithms, measured in recall@10. (Image source: Google Blog, 2020)\\nCheck more MIPS algorithms and performance comparison in ann-benchmarks.com.\\nComponent Three: Tool Use#\\nTool use is a remarkable and distinguishing characteristic of human beings. We create, modify and utilize external objects to do things that go beyond our physical and cognitive limits. Equipping LLMs with external tools can significantly extend the model capabilities.\\n\\nFig. 10. A picture of a sea otter using rock to crack open a seashell, while floating in the water. While some other animals can use tools, the complexity is not comparable with humans. (Image source: Animals using tools)\\nMRKL (Karpas et al. 2022), short for “Modular Reasoning, Knowledge and Language”, is a neuro-symbolic architecture for autonomous agents. A MRKL system is proposed to contain a collection of “expert” modules and the general-purpose LLM works as a router to route inquiries to the best suitable expert module. These modules can be neural (e.g. deep learning models) or symbolic (e.g. math calculator, currency converter, weather API).\\nThey did an experiment on fine-tuning LLM to call a calculator, using arithmetic as a test case. Their experiments showed that it was harder to solve verbal math problems than explicitly stated math problems because LLMs (7B Jurassic1-large model) failed to extract the right arguments for the basic arithmetic reliably. The results highlight when the external symbolic tools can work reliably, knowing when to and how to use the tools are crucial, determined by the LLM capability.\\nBoth TALM (Tool Augmented Language Models; Parisi et al. 2022) and Toolformer (Schick et al. 2023) fine-tune a LM to learn to use external tool APIs. The dataset is expanded based on whether a newly added API call annotation can improve the quality of model outputs. See more details in the “External APIs” section of Prompt Engineering.\\nChatGPT Plugins and OpenAI API  function calling are good examples of LLMs augmented with tool use capability working in practice. The collection of tool APIs can be provided by other developers (as in Plugins) or self-defined (as in function calls).\\nHuggingGPT (Shen et al. 2023) is a framework to use ChatGPT as the task planner to select models available in HuggingFace platform according to the model descriptions and summarize the response based on the execution results.\\n\\nFig. 11. Illustration of how HuggingGPT works. (Image source: Shen et al. 2023)\\nThe system comprises of 4 stages:\\n(1) Task planning: LLM works as the brain and parses the user requests into multiple tasks. There are four attributes associated with each task: task type, ID, dependencies, and arguments. They use few-shot examples to guide LLM to do task parsing and planning.\\nInstruction:\\n\\nThe AI assistant can parse user input to several tasks: [{\"task\": task, \"id\", task_id, \"dep\": dependency_task_ids, \"args\": {\"text\": text, \"image\": URL, \"audio\": URL, \"video\": URL}}]. The \"dep\" field denotes the id of the previous task which generates a new resource that the current task relies on. A special tag \"-task_id\" refers to the generated text image, audio and video in the dependency task with id as task_id. The task MUST be selected from the following options: {{ Available Task List }}. There is a logical relationship between tasks, please note their order. If the user input can\\'t be parsed, you need to reply empty JSON. Here are several cases for your reference: {{ Demonstrations }}. The chat history is recorded as {{ Chat History }}. From this chat history, you can find the path of the user-mentioned resources for your task planning.\\n\\n(2) Model selection: LLM distributes the tasks to expert models, where the request is framed as a multiple-choice question. LLM is presented with a list of models to choose from. Due to the limited context length, task type based filtration is needed.\\nInstruction:\\n\\nGiven the user request and the call command, the AI assistant helps the user to select a suitable model from a list of models to process the user request. The AI assistant merely outputs the model id of the most appropriate model. The output must be in a strict JSON format: \"id\": \"id\", \"reason\": \"your detail reason for the choice\". We have a list of models for you to choose from {{ Candidate Models }}. Please select one model from the list.\\n\\n(3) Task execution: Expert models execute on the specific tasks and log results.\\nInstruction:\\n\\nWith the input and the inference results, the AI assistant needs to describe the process and results. The previous stages can be formed as - User Input: {{ User Input }}, Task Planning: {{ Tasks }}, Model Selection: {{ Model Assignment }}, Task Execution: {{ Predictions }}. You must first answer the user\\'s request in a straightforward manner. Then describe the task process and show your analysis and model inference results to the user in the first person. If inference results contain a file path, must tell the user the complete file path.\\n\\n(4) Response generation: LLM receives the execution results and provides summarized results to users.\\nTo put HuggingGPT into real world usage, a couple challenges need to solve: (1) Efficiency improvement is needed as both LLM inference rounds and interactions with other models slow down the process; (2) It relies on a long context window to communicate over complicated task content; (3) Stability improvement of LLM outputs and external model services.\\nAPI-Bank (Li et al. 2023) is a benchmark for evaluating the performance of tool-augmented LLMs. It contains 53 commonly used API tools, a complete tool-augmented LLM workflow, and 264 annotated dialogues that involve 568 API calls. The selection of APIs is quite diverse, including search engines, calculator, calendar queries, smart home control, schedule management, health data management, account authentication workflow and more. Because there are a large number of APIs, LLM first has access to API search engine to find the right API to call and then uses the corresponding documentation to make a call.\\n\\nFig. 12. Pseudo code of how LLM makes an API call in API-Bank. (Image source: Li et al. 2023)\\nIn the API-Bank workflow, LLMs need to make a couple of decisions and at each step we can evaluate how accurate that decision is. Decisions include:\\n\\nWhether an API call is needed.\\nIdentify the right API to call: if not good enough, LLMs need to iteratively modify the API inputs (e.g. deciding search keywords for Search Engine API).\\nResponse based on the API results: the model can choose to refine and call again if results are not satisfied.\\n\\nThis benchmark evaluates the agent’s tool use capabilities at three levels:\\n\\nLevel-1 evaluates the ability to call the API. Given an API’s description, the model needs to determine whether to call a given API, call it correctly, and respond properly to API returns.\\nLevel-2 examines the ability to retrieve the API. The model needs to search for possible APIs that may solve the user’s requirement and learn how to use them by reading documentation.\\nLevel-3 assesses the ability to plan API beyond retrieve and call. Given unclear user requests (e.g. schedule group meetings, book flight/hotel/restaurant for a trip), the model may have to conduct multiple API calls to solve it.\\n\\nCase Studies#\\nScientific Discovery Agent#\\nChemCrow (Bran et al. 2023) is a domain-specific example in which LLM is augmented with 13 expert-designed tools to accomplish tasks across organic synthesis, drug discovery, and materials design. The workflow, implemented in LangChain, reflects what was previously described in the ReAct and MRKLs and combines CoT reasoning with tools relevant to the tasks:\\n\\nThe LLM is provided with a list of tool names, descriptions of their utility, and details about the expected input/output.\\nIt is then instructed to answer a user-given prompt using the tools provided when necessary. The instruction suggests the model to follow the ReAct format - Thought, Action, Action Input, Observation.\\n\\nOne interesting observation is that while the LLM-based evaluation concluded that GPT-4 and ChemCrow perform nearly equivalently, human evaluations with experts oriented towards the completion and chemical correctness of the solutions showed that ChemCrow outperforms GPT-4 by a large margin. This indicates a potential problem with using LLM to evaluate its own performance on domains that requires deep expertise. The lack of expertise may cause LLMs not knowing its flaws and thus cannot well judge the correctness of task results.\\nBoiko et al. (2023) also looked into LLM-empowered agents for scientific discovery, to handle autonomous design, planning, and performance of complex scientific experiments. This agent can use tools to browse the Internet, read documentation, execute code, call robotics experimentation APIs and leverage other LLMs.\\nFor example, when requested to \"develop a novel anticancer drug\", the model came up with the following reasoning steps:\\n\\ninquired about current trends in anticancer drug discovery;\\nselected a target;\\nrequested a scaffold targeting these compounds;\\nOnce the compound was identified, the model attempted its synthesis.\\n\\nThey also discussed the risks, especially with illicit drugs and bioweapons. They developed a test set containing a list of known chemical weapon agents and asked the agent to synthesize them. 4 out of 11 requests (36%) were accepted to obtain a synthesis solution and the agent attempted to consult documentation to execute the procedure. 7 out of 11 were rejected and among these 7 rejected cases, 5 happened after a Web search while 2 were rejected based on prompt only.\\nGenerative Agents Simulation#\\nGenerative Agents (Park, et al. 2023) is super fun experiment where 25 virtual characters, each controlled by a LLM-powered agent, are living and interacting in a sandbox environment, inspired by The Sims. Generative agents create believable simulacra of human behavior for interactive applications.\\nThe design of generative agents combines LLM with memory, planning and reflection mechanisms to enable agents to behave conditioned on past experience, as well as to interact with other agents.\\n\\nMemory stream: is a long-term memory module (external database) that records a comprehensive list of agents’ experience in natural language.\\n\\nEach element is an observation, an event directly provided by the agent.\\n- Inter-agent communication can trigger new natural language statements.\\n\\n\\nRetrieval model: surfaces the context to inform the agent’s behavior, according to relevance, recency and importance.\\n\\nRecency: recent events have higher scores\\nImportance: distinguish mundane from core memories. Ask LM directly.\\nRelevance: based on how related it is to the current situation / query.\\n\\n\\nReflection mechanism: synthesizes memories into higher level inferences over time and guides the agent’s future behavior. They are higher-level summaries of past events (<- note that this is a bit different from self-reflection above)\\n\\nPrompt LM with 100 most recent observations and to generate 3 most salient high-level questions given a set of observations/statements. Then ask LM to answer those questions.\\n\\n\\nPlanning & Reacting: translate the reflections and the environment information into actions\\n\\nPlanning is essentially in order to optimize believability at the moment vs in time.\\nPrompt template: {Intro of an agent X}. Here is X\\'s plan today in broad strokes: 1)\\nRelationships between agents and observations of one agent by another are all taken into consideration for planning and reacting.\\nEnvironment information is present in a tree structure.\\n\\n\\n\\n\\nFig. 13. The generative agent architecture. (Image source: Park et al. 2023)\\nThis fun simulation results in emergent social behavior, such as information diffusion, relationship memory (e.g. two agents continuing the conversation topic) and coordination of social events (e.g. host a party and invite many others).\\nProof-of-Concept Examples#\\nAutoGPT has drawn a lot of attention into the possibility of setting up autonomous agents with LLM as the main controller. It has quite a lot of reliability issues given the natural language interface, but nevertheless a cool proof-of-concept demo. A lot of code in AutoGPT is about format parsing.\\nHere is the system message used by AutoGPT, where {{...}} are user inputs:\\nYou are {{ai-name}}, {{user-provided AI bot description}}.\\nYour decisions must always be made independently without seeking user assistance. Play to your strengths as an LLM and pursue simple strategies with no legal complications.\\n\\nGOALS:\\n\\n1. {{user-provided goal 1}}\\n2. {{user-provided goal 2}}\\n3. ...\\n4. ...\\n5. ...\\n\\nConstraints:\\n1. ~4000 word limit for short term memory. Your short term memory is short, so immediately save important information to files.\\n2. If you are unsure how you previously did something or want to recall past events, thinking about similar events will help you remember.\\n3. No user assistance\\n4. Exclusively use the commands listed in double quotes e.g. \"command name\"\\n5. Use subprocesses for commands that will not terminate within a few minutes\\n\\nCommands:\\n1. Google Search: \"google\", args: \"input\": \"<search>\"\\n2. Browse Website: \"browse_website\", args: \"url\": \"<url>\", \"question\": \"<what_you_want_to_find_on_website>\"\\n3. Start GPT Agent: \"start_agent\", args: \"name\": \"<name>\", \"task\": \"<short_task_desc>\", \"prompt\": \"<prompt>\"\\n4. Message GPT Agent: \"message_agent\", args: \"key\": \"<key>\", \"message\": \"<message>\"\\n5. List GPT Agents: \"list_agents\", args:\\n6. Delete GPT Agent: \"delete_agent\", args: \"key\": \"<key>\"\\n7. Clone Repository: \"clone_repository\", args: \"repository_url\": \"<url>\", \"clone_path\": \"<directory>\"\\n8. Write to file: \"write_to_file\", args: \"file\": \"<file>\", \"text\": \"<text>\"\\n9. Read file: \"read_file\", args: \"file\": \"<file>\"\\n10. Append to file: \"append_to_file\", args: \"file\": \"<file>\", \"text\": \"<text>\"\\n11. Delete file: \"delete_file\", args: \"file\": \"<file>\"\\n12. Search Files: \"search_files\", args: \"directory\": \"<directory>\"\\n13. Analyze Code: \"analyze_code\", args: \"code\": \"<full_code_string>\"\\n14. Get Improved Code: \"improve_code\", args: \"suggestions\": \"<list_of_suggestions>\", \"code\": \"<full_code_string>\"\\n15. Write Tests: \"write_tests\", args: \"code\": \"<full_code_string>\", \"focus\": \"<list_of_focus_areas>\"\\n16. Execute Python File: \"execute_python_file\", args: \"file\": \"<file>\"\\n17. Generate Image: \"generate_image\", args: \"prompt\": \"<prompt>\"\\n18. Send Tweet: \"send_tweet\", args: \"text\": \"<text>\"\\n19. Do Nothing: \"do_nothing\", args:\\n20. Task Complete (Shutdown): \"task_complete\", args: \"reason\": \"<reason>\"\\n\\nResources:\\n1. Internet access for searches and information gathering.\\n2. Long Term memory management.\\n3. GPT-3.5 powered Agents for delegation of simple tasks.\\n4. File output.\\n\\nPerformance Evaluation:\\n1. Continuously review and analyze your actions to ensure you are performing to the best of your abilities.\\n2. Constructively self-criticize your big-picture behavior constantly.\\n3. Reflect on past decisions and strategies to refine your approach.\\n4. Every command has a cost, so be smart and efficient. Aim to complete tasks in the least number of steps.\\n\\nYou should only respond in JSON format as described below\\nResponse Format:\\n{\\n    \"thoughts\": {\\n        \"text\": \"thought\",\\n        \"reasoning\": \"reasoning\",\\n        \"plan\": \"- short bulleted\\\\n- list that conveys\\\\n- long-term plan\",\\n        \"criticism\": \"constructive self-criticism\",\\n        \"speak\": \"thoughts summary to say to user\"\\n    },\\n    \"command\": {\\n        \"name\": \"command name\",\\n        \"args\": {\\n            \"arg name\": \"value\"\\n        }\\n    }\\n}\\nEnsure the response can be parsed by Python json.loads\\nGPT-Engineer is another project to create a whole repository of code given a task specified in natural language. The GPT-Engineer is instructed to think over a list of smaller components to build and ask for user input to clarify questions as needed.\\nHere are a sample conversation for task clarification sent to OpenAI ChatCompletion endpoint used by GPT-Engineer. The user inputs are wrapped in {{user input text}}.\\n[\\n  {\\n    \"role\": \"system\",\\n    \"content\": \"You will read instructions and not carry them out, only seek to clarify them.\\\\nSpecifically you will first summarise a list of super short bullets of areas that need clarification.\\\\nThen you will pick one clarifying question, and wait for an answer from the user.\\\\n\"\\n  },\\n  {\\n    \"role\": \"user\",\\n    \"content\": \"We are writing {{a Super Mario game in python. MVC components split in separate files. Keyboard control.}}\\\\n\"\\n  },\\n  {\\n    \"role\": \"assistant\",\\n    \"content\": \"Summary of areas that need clarification:\\\\n1. Specifics of the Super Mario game (e.g. level design, characters, gameplay mechanics)\\\\n2. Details about the MVC components (e.g. which components are in each file)\\\\n3. Keyboard control implementation (e.g. which keys to use, how to handle input)\\\\n\\\\nClarifying question:\\\\nCan you provide more details about the Super Mario game, such as level design, characters, and gameplay mechanics?\"\\n  },\\n  {\\n    \"role\": \"user\",\\n    \"content\": \"{{There are 10 levels in total. The main character is a plumber named Mario, who can walk and jump. It is a classical platform game just like Super Mario. The main character moves from left to right, trying to get to the destination, where there are many obstacles and attacks from enemies in the process.}}\\\\n\\\\nIs anything else unclear? If yes, only answer in the form:\\\\n{remaining unclear areas} remaining questions.\\\\n{Next question}\\\\nIf everything is sufficiently clear, only answer \\\\\"Nothing more to clarify.\\\\\".\"\\n  },\\n  {\\n    \"role\": \"assistant\",\\n    \"content\": \"Remaining unclear areas: 2 remaining questions.\\\\nCan you provide more information about how the MVC components are split into separate files?\"\\n  },\\n  {\\n    \"role\": \"user\",\\n    \"content\": \"{{Make your own assumptions and state them explicitly before starting}}\"\\n  }\\n]\\nThen after these clarification, the agent moved into the code writing mode with a different system message.\\nSystem message:\\n\\nYou will get instructions for code to write.\\nYou will write a very long answer. Make sure that every detail of the architecture is, in the end, implemented as code.\\nMake sure that every detail of the architecture is, in the end, implemented as code.\\nThink step by step and reason yourself to the right decisions to make sure we get it right.\\nYou will first lay out the names of the core classes, functions, methods that will be necessary, as well as a quick comment on their purpose.\\nThen you will output the content of each file including ALL code.\\nEach file must strictly follow a markdown code block format, where the following tokens must be replaced such that\\nFILENAME is the lowercase file name including the file extension,\\nLANG is the markup code block language for the code’s language, and CODE is the code:\\nFILENAME\\nCODE\\nYou will start with the “entrypoint” file, then go to the ones that are imported by that file, and so on.\\nPlease note that the code should be fully functional. No placeholders.\\nFollow a language and framework appropriate best practice file naming convention.\\nMake sure that files contain all imports, types etc. Make sure that code in different files are compatible with each other.\\nEnsure to implement all code, if you are unsure, write a plausible implementation.\\nInclude module dependency or package manager dependency definition file.\\nBefore you finish, double check that all parts of the architecture is present in the files.\\nUseful to know:\\nYou almost always put different classes in different files.\\nFor Python, you always create an appropriate requirements.txt file.\\nFor NodeJS, you always create an appropriate package.json file.\\nYou always add a comment briefly describing the purpose of the function definition.\\nYou try to add comments explaining very complex bits of logic.\\nYou always follow the best practices for the requested languages in terms of describing the code written as a defined\\npackage/project.\\nPython toolbelt preferences:\\n\\npytest\\ndataclasses\\n\\n\\nConversatin samples:\\n[\\n  {\\n    \"role\": \"system\",\\n    \"content\": \"You will get instructions for code to write.\\\\nYou will write a very long answer. Make sure that every detail of the architecture is, in the end, implemented as code.\\\\nMake sure that every detail of the architecture is, in the end, implemented as code.\\\\n\\\\nThink step by step and reason yourself to the right decisions to make sure we get it right.\\\\nYou will first lay out the names of the core classes, functions, methods that will be necessary, as well as a quick comment on their purpose.\\\\n\\\\nThen you will output the content of each file including ALL code.\\\\nEach file must strictly follow a markdown code block format, where the following tokens must be replaced such that\\\\nFILENAME is the lowercase file name including the file extension,\\\\nLANG is the markup code block language for the code\\'s language, and CODE is the code:\\\\n\\\\nFILENAME\\\\n```LANG\\\\nCODE\\\\n```\\\\n\\\\nYou will start with the \\\\\"entrypoint\\\\\" file, then go to the ones that are imported by that file, and so on.\\\\nPlease note that the code should be fully functional. No placeholders.\\\\n\\\\nFollow a language and framework appropriate best practice file naming convention.\\\\nMake sure that files contain all imports, types etc. Make sure that code in different files are compatible with each other.\\\\nEnsure to implement all code, if you are unsure, write a plausible implementation.\\\\nInclude module dependency or package manager dependency definition file.\\\\nBefore you finish, double check that all parts of the architecture is present in the files.\\\\n\\\\nUseful to know:\\\\nYou almost always put different classes in different files.\\\\nFor Python, you always create an appropriate requirements.txt file.\\\\nFor NodeJS, you always create an appropriate package.json file.\\\\nYou always add a comment briefly describing the purpose of the function definition.\\\\nYou try to add comments explaining very complex bits of logic.\\\\nYou always follow the best practices for the requested languages in terms of describing the code written as a defined\\\\npackage/project.\\\\n\\\\n\\\\nPython toolbelt preferences:\\\\n- pytest\\\\n- dataclasses\\\\n\"\\n  },\\n #  … same conversation as earlier, ended with \"Make your own assumptions and state them explicitly before starting\".\\n  {\\n    \"role\": \"assistant\",\\n    \"content\": \"Assumptions:\\\\n1. Model: The model will contain the game\\'s data, such as level information, character states, and enemy positions.\\\\n2. View: The view will handle the game\\'s visuals, including rendering the game objects, backgrounds, and updating the display.\\\\n3. Controller: The controller will manage user input, such as keyboard controls, and update the model accordingly.\\\\n\\\\nWith these assumptions in mind, is there any specific aspect of the keyboard control implementation you would like me to clarify?\"\\n  },\\n  {\\n    \"role\": \"user\",\\n    \"content\": \"Please now remember the steps:\\\\n\\\\nThink step by step and reason yourself to the right decisions to make sure we get it right.\\\\nFirst lay out the names of the core classes, functions, methods that will be necessary, As well as a quick comment on their purpose.\\\\n\\\\nThen you will output the content of each file including ALL code.\\\\nEach file must strictly follow a markdown code block format, where the following tokens must be replaced such that\\\\nFILENAME is the lowercase file name including the file extension,\\\\nLANG is the markup code block language for the code\\'s language, and CODE is the code:\\\\n\\\\nFILENAME\\\\n```LANG\\\\nCODE\\\\n```\\\\n\\\\nPlease note that the code should be fully functional. No placeholders.\\\\n\\\\nYou will start with the \\\\\"entrypoint\\\\\" file, then go to the ones that are imported by that file, and so on.\\\\nFollow a language and framework appropriate best practice file naming convention.\\\\nMake sure that files contain all imports, types etc. The code should be fully functional. Make sure that code in different files are compatible with each other.\\\\nBefore you finish, double check that all parts of the architecture is present in the files.\\\\n\"\\n  }\\n]\\nChallenges#\\nAfter going through key ideas and demos of building LLM-centered agents, I start to see a couple common limitations:\\n\\n\\nFinite context length: The restricted context capacity limits the inclusion of historical information, detailed instructions, API call context, and responses. The design of the system has to work with this limited communication bandwidth, while mechanisms like self-reflection to learn from past mistakes would benefit a lot from long or infinite context windows. Although vector stores and retrieval can provide access to a larger knowledge pool, their representation power is not as powerful as full attention.\\n\\n\\nChallenges in long-term planning and task decomposition: Planning over a lengthy history and effectively exploring the solution space remain challenging. LLMs struggle to adjust plans when faced with unexpected errors, making them less robust compared to humans who learn from trial and error.\\n\\n\\nReliability of natural language interface: Current agent system relies on natural language as an interface between LLMs and external components such as memory and tools. However, the reliability of model outputs is questionable, as LLMs may make formatting errors and occasionally exhibit rebellious behavior (e.g. refuse to follow an instruction). Consequently, much of the agent demo code focuses on parsing model output.\\n\\n\\nCitation#\\nCited as:\\n\\nWeng, Lilian. (Jun 2023). “LLM-powered Autonomous Agents”. Lil’Log. https://lilianweng.github.io/posts/2023-06-23-agent/.\\n\\nOr\\n@article{weng2023agent,\\n  title   = \"LLM-powered Autonomous Agents\",\\n  author  = \"Weng, Lilian\",\\n  journal = \"lilianweng.github.io\",\\n  year    = \"2023\",\\n  month   = \"Jun\",\\n  url     = \"https://lilianweng.github.io/posts/2023-06-23-agent/\"\\n}\\nReferences#\\n[1] Wei et al. “Chain of thought prompting elicits reasoning in large language models.” NeurIPS 2022\\n[2] Yao et al. “Tree of Thoughts: Dliberate Problem Solving with Large Language Models.” arXiv preprint arXiv:2305.10601 (2023).\\n[3] Liu et al. “Chain of Hindsight Aligns Language Models with Feedback\\n“ arXiv preprint arXiv:2302.02676 (2023).\\n[4] Liu et al. “LLM+P: Empowering Large Language Models with Optimal Planning Proficiency” arXiv preprint arXiv:2304.11477 (2023).\\n[5] Yao et al. “ReAct: Synergizing reasoning and acting in language models.” ICLR 2023.\\n[6] Google Blog. “Announcing ScaNN: Efficient Vector Similarity Search” July 28, 2020.\\n[7] https://chat.openai.com/share/46ff149e-a4c7-4dd7-a800-fc4a642ea389\\n[8] Shinn & Labash. “Reflexion: an autonomous agent with dynamic memory and self-reflection” arXiv preprint arXiv:2303.11366 (2023).\\n[9] Laskin et al. “In-context Reinforcement Learning with Algorithm Distillation” ICLR 2023.\\n[10] Karpas et al. “MRKL Systems A modular, neuro-symbolic architecture that combines large language models, external knowledge sources and discrete reasoning.” arXiv preprint arXiv:2205.00445 (2022).\\n[11] Nakano et al. “Webgpt: Browser-assisted question-answering with human feedback.” arXiv preprint arXiv:2112.09332 (2021).\\n[12] Parisi et al. “TALM: Tool Augmented Language Models”\\n[13] Schick et al. “Toolformer: Language Models Can Teach Themselves to Use Tools.” arXiv preprint arXiv:2302.04761 (2023).\\n[14] Weaviate Blog. Why is Vector Search so fast? Sep 13, 2022.\\n[15] Li et al. “API-Bank: A Benchmark for Tool-Augmented LLMs” arXiv preprint arXiv:2304.08244 (2023).\\n[16] Shen et al. “HuggingGPT: Solving AI Tasks with ChatGPT and its Friends in HuggingFace” arXiv preprint arXiv:2303.17580 (2023).\\n[17] Bran et al. “ChemCrow: Augmenting large-language models with chemistry tools.” arXiv preprint arXiv:2304.05376 (2023).\\n[18] Boiko et al. “Emergent autonomous scientific research capabilities of large language models.” arXiv preprint arXiv:2304.05332 (2023).\\n[19] Joon Sung Park, et al. “Generative Agents: Interactive Simulacra of Human Behavior.” arXiv preprint arXiv:2304.03442 (2023).\\n[20] AutoGPT. https://github.com/Significant-Gravitas/Auto-GPT\\n[21] GPT-Engineer. https://github.com/AntonOsika/gpt-engineer\\n'"
      ]
     },
     "execution_count": 4,
     "metadata": {},
     "output_type": "execute_result"
    }
   ],
   "source": [
    "import bs4\n",
    "from langchain import hub\n",
    "from langchain_community.document_loaders import WebBaseLoader\n",
    "from langchain_core.documents import Document\n",
    "from langchain_text_splitters import RecursiveCharacterTextSplitter\n",
    "from langgraph.graph import START, StateGraph\n",
    "from typing_extensions import List, TypedDict\n",
    "\n",
    "# Load and chunk contents of the blog\n",
    "loader = WebBaseLoader(\n",
    "    web_paths=(\"https://lilianweng.github.io/posts/2023-06-23-agent/\",),\n",
    "    bs_kwargs=dict(\n",
    "        parse_only=bs4.SoupStrainer(\n",
    "            class_=(\"post-content\", \"post-title\", \"post-header\")\n",
    "        )\n",
    "    ),\n",
    ")\n",
    "docs = loader.load()\n",
    "docs[0].page_content"
   ]
  },
  {
   "cell_type": "code",
   "execution_count": 5,
   "metadata": {},
   "outputs": [
    {
     "data": {
      "text/plain": [
       "'Memory\\n\\nShort-term memory: I would consider all the in-context learning (See Prompt Engineering) as utilizing short-term memory of the model to learn.\\nLong-term memory: This provides the agent with the capability to retain and recall (infinite) information over extended periods, often by leveraging an external vector store and fast retrieval.\\n\\n\\nTool use\\n\\nThe agent learns to call external APIs for extra information that is missing from the model weights (often hard to change after pre-training), including current information, code execution capability, access to proprietary information sources and more.'"
      ]
     },
     "execution_count": 5,
     "metadata": {},
     "output_type": "execute_result"
    }
   ],
   "source": [
    "text_splitter = RecursiveCharacterTextSplitter(chunk_size=1000, chunk_overlap=200)\n",
    "all_splits = text_splitter.split_documents(docs)\n",
    "len(all_splits)\n",
    "all_splits[1].page_content"
   ]
  },
  {
   "cell_type": "code",
   "execution_count": 18,
   "metadata": {},
   "outputs": [],
   "source": [
    "_ = vector_store.add_documents(documents=all_splits)"
   ]
  },
  {
   "cell_type": "code",
   "execution_count": 7,
   "metadata": {},
   "outputs": [
    {
     "data": {
      "text/plain": [
       "ChatPromptTemplate(input_variables=['context', 'question'], input_types={}, partial_variables={}, metadata={'lc_hub_owner': 'rlm', 'lc_hub_repo': 'rag-prompt', 'lc_hub_commit_hash': '50442af133e61576e74536c6556cefe1fac147cad032f4377b60c436e6cdcb6e'}, messages=[HumanMessagePromptTemplate(prompt=PromptTemplate(input_variables=['context', 'question'], input_types={}, partial_variables={}, template=\"You are an assistant for question-answering tasks. Use the following pieces of retrieved context to answer the question. If you don't know the answer, just say that you don't know. Use three sentences maximum and keep the answer concise.\\nQuestion: {question} \\nContext: {context} \\nAnswer:\"), additional_kwargs={})])"
      ]
     },
     "execution_count": 7,
     "metadata": {},
     "output_type": "execute_result"
    }
   ],
   "source": [
    "# Define prompt for question-answering\n",
    "prompt = hub.pull(\"rlm/rag-prompt\")\n",
    "prompt"
   ]
  },
  {
   "cell_type": "code",
   "execution_count": 8,
   "metadata": {},
   "outputs": [],
   "source": [
    "class State(TypedDict):\n",
    "    question: str\n",
    "    context: List[Document]\n",
    "    answer: str"
   ]
  },
  {
   "cell_type": "code",
   "execution_count": 9,
   "metadata": {},
   "outputs": [],
   "source": [
    "def retrieve(state: State):\n",
    "    retrieved_docs = vector_store.similarity_search(state[\"question\"], k=4)\n",
    "    return {\"context\": retrieved_docs}\n",
    "\n",
    "\n",
    "def generate(state: State):\n",
    "    docs_content = \"\\n\\n\".join(doc.page_content for doc in state[\"context\"])\n",
    "    messages = prompt.invoke({\"question\": state[\"question\"], \"context\": docs_content})\n",
    "    response = llm.invoke(messages)\n",
    "    return {\"answer\": response.content}"
   ]
  },
  {
   "cell_type": "code",
   "execution_count": 19,
   "metadata": {},
   "outputs": [
    {
     "data": {
      "text/plain": [
       "[Document(id='d25ef0dd-9619-4192-a24f-6b75c0c7dac4', metadata={'source': 'https://lilianweng.github.io/posts/2023-06-23-agent/'}, page_content='Fig. 1. Overview of a LLM-powered autonomous agent system.\\nComponent One: Planning#\\nA complicated task usually involves many steps. An agent needs to know what they are and plan ahead.\\nTask Decomposition#\\nChain of thought (CoT; Wei et al. 2022) has become a standard prompting technique for enhancing model performance on complex tasks. The model is instructed to “think step by step” to utilize more test-time computation to decompose hard tasks into smaller and simpler steps. CoT transforms big tasks into multiple manageable tasks and shed lights into an interpretation of the model’s thinking process.'),\n",
       " Document(id='7abb4a0c-89ec-464c-9275-117da67568b4', metadata={'source': 'https://lilianweng.github.io/posts/2023-06-23-agent/'}, page_content='Tree of Thoughts (Yao et al. 2023) extends CoT by exploring multiple reasoning possibilities at each step. It first decomposes the problem into multiple thought steps and generates multiple thoughts per step, creating a tree structure. The search process can be BFS (breadth-first search) or DFS (depth-first search) with each state evaluated by a classifier (via a prompt) or majority vote.\\nTask decomposition can be done (1) by LLM with simple prompting like \"Steps for XYZ.\\\\n1.\", \"What are the subgoals for achieving XYZ?\", (2) by using task-specific instructions; e.g. \"Write a story outline.\" for writing a novel, or (3) with human inputs.'),\n",
       " Document(id='e378b09f-f1c3-4d6a-b5ff-0571b7c1fbdd', metadata={'source': 'https://lilianweng.github.io/posts/2023-06-23-agent/'}, page_content='Finite context length: The restricted context capacity limits the inclusion of historical information, detailed instructions, API call context, and responses. The design of the system has to work with this limited communication bandwidth, while mechanisms like self-reflection to learn from past mistakes would benefit a lot from long or infinite context windows. Although vector stores and retrieval can provide access to a larger knowledge pool, their representation power is not as powerful as full attention.\\n\\n\\nChallenges in long-term planning and task decomposition: Planning over a lengthy history and effectively exploring the solution space remain challenging. LLMs struggle to adjust plans when faced with unexpected errors, making them less robust compared to humans who learn from trial and error.'),\n",
       " Document(id='ad5f44c8-41bf-4952-bd48-d065a6b0a035', metadata={'source': 'https://lilianweng.github.io/posts/2023-06-23-agent/'}, page_content='Fig. 3. Illustration of the Reflexion framework. (Image source: Shinn & Labash, 2023)\\nThe heuristic function determines when the trajectory is inefficient or contains hallucination and should be stopped. Inefficient planning refers to trajectories that take too long without success. Hallucination is defined as encountering a sequence of consecutive identical actions that lead to the same observation in the environment.\\nSelf-reflection is created by showing two-shot examples to LLM and each example is a pair of (failed trajectory, ideal reflection for guiding future changes in the plan). Then reflections are added into the agent’s working memory, up to three, to be used as context for querying LLM.')]"
      ]
     },
     "execution_count": 19,
     "metadata": {},
     "output_type": "execute_result"
    }
   ],
   "source": [
    "retrieved_docs = vector_store.similarity_search(\"What is Task Decomposition?\")\n",
    "retrieved_docs"
   ]
  },
  {
   "cell_type": "code",
   "execution_count": 22,
   "metadata": {},
   "outputs": [
    {
     "data": {
      "text/plain": [
       "'Tree of Thoughts (Yao et al. 2023) extends CoT by exploring multiple reasoning possibilities at each step. It first decomposes the problem into multiple thought steps and generates multiple thoughts per step, creating a tree structure. The search process can be BFS (breadth-first search) or DFS (depth-first search) with each state evaluated by a classifier (via a prompt) or majority vote.\\nTask decomposition can be done (1) by LLM with simple prompting like \"Steps for XYZ.\\\\n1.\", \"What are the subgoals for achieving XYZ?\", (2) by using task-specific instructions; e.g. \"Write a story outline.\" for writing a novel, or (3) with human inputs.'"
      ]
     },
     "execution_count": 22,
     "metadata": {},
     "output_type": "execute_result"
    }
   ],
   "source": [
    "retrieved_docs[1].page_content"
   ]
  },
  {
   "cell_type": "code",
   "execution_count": 25,
   "metadata": {},
   "outputs": [],
   "source": [
    "graph_builder = StateGraph(State).add_sequence([retrieve, generate])\n",
    "graph_builder.add_edge(START, \"retrieve\")\n",
    "graph = graph_builder.compile()"
   ]
  },
  {
   "cell_type": "code",
   "execution_count": 24,
   "metadata": {},
   "outputs": [
    {
     "data": {
      "image/png": "[encoded data removed]",
      "text/plain": [
       "<IPython.core.display.Image object>"
      ]
     },
     "metadata": {},
     "output_type": "display_data"
    }
   ],
   "source": [
    "from IPython.display import Image, display\n",
    "display(Image(graph.get_graph().draw_mermaid_png()))"
   ]
  },
  {
   "cell_type": "code",
   "execution_count": 25,
   "metadata": {},
   "outputs": [
    {
     "name": "stdout",
     "output_type": "stream",
     "text": [
      "Context: [Document(id='684807d4-75c4-4bb4-85c0-a8524e49e88e', metadata={'source': 'https://lilianweng.github.io/posts/2023-06-23-agent/'}, page_content='Fig. 1. Overview of a LLM-powered autonomous agent system.\\nComponent One: Planning#\\nA complicated task usually involves many steps. An agent needs to know what they are and plan ahead.\\nTask Decomposition#\\nChain of thought (CoT; Wei et al. 2022) has become a standard prompting technique for enhancing model performance on complex tasks. The model is instructed to “think step by step” to utilize more test-time computation to decompose hard tasks into smaller and simpler steps. CoT transforms big tasks into multiple manageable tasks and shed lights into an interpretation of the model’s thinking process.'), Document(id='14885a91-676b-4d9b-8d72-46a34e240094', metadata={'source': 'https://lilianweng.github.io/posts/2023-06-23-agent/'}, page_content='Tree of Thoughts (Yao et al. 2023) extends CoT by exploring multiple reasoning possibilities at each step. It first decomposes the problem into multiple thought steps and generates multiple thoughts per step, creating a tree structure. The search process can be BFS (breadth-first search) or DFS (depth-first search) with each state evaluated by a classifier (via a prompt) or majority vote.\\nTask decomposition can be done (1) by LLM with simple prompting like \"Steps for XYZ.\\\\n1.\", \"What are the subgoals for achieving XYZ?\", (2) by using task-specific instructions; e.g. \"Write a story outline.\" for writing a novel, or (3) with human inputs.'), Document(id='9706a9ee-9178-4fa1-9a15-d6181290d661', metadata={'source': 'https://lilianweng.github.io/posts/2023-06-23-agent/'}, page_content='Finite context length: The restricted context capacity limits the inclusion of historical information, detailed instructions, API call context, and responses. The design of the system has to work with this limited communication bandwidth, while mechanisms like self-reflection to learn from past mistakes would benefit a lot from long or infinite context windows. Although vector stores and retrieval can provide access to a larger knowledge pool, their representation power is not as powerful as full attention.\\n\\n\\nChallenges in long-term planning and task decomposition: Planning over a lengthy history and effectively exploring the solution space remain challenging. LLMs struggle to adjust plans when faced with unexpected errors, making them less robust compared to humans who learn from trial and error.'), Document(id='537919b8-40c6-4aa3-ad10-484727d72c64', metadata={'source': 'https://lilianweng.github.io/posts/2023-06-23-agent/'}, page_content='Fig. 3. Illustration of the Reflexion framework. (Image source: Shinn & Labash, 2023)\\nThe heuristic function determines when the trajectory is inefficient or contains hallucination and should be stopped. Inefficient planning refers to trajectories that take too long without success. Hallucination is defined as encountering a sequence of consecutive identical actions that lead to the same observation in the environment.\\nSelf-reflection is created by showing two-shot examples to LLM and each example is a pair of (failed trajectory, ideal reflection for guiding future changes in the plan). Then reflections are added into the agent’s working memory, up to three, to be used as context for querying LLM.')]\n",
      "\n",
      "\n",
      "Answer: Task Decomposition is a technique used to break down complex tasks into smaller, simpler steps. It involves instructing a model to \"think step by step\" and generate multiple possible solutions at each step, creating a tree structure. This allows the model to explore different possibilities and find more effective solutions.\n"
     ]
    }
   ],
   "source": [
    "result = graph.invoke({\"question\": \"What is Task Decomposition?\"})\n",
    "\n",
    "print(f'Context: {result[\"context\"]}\\n\\n')\n",
    "print(f'Answer: {result[\"answer\"]}')"
   ]
  },
  {
   "cell_type": "code",
   "execution_count": 27,
   "metadata": {},
   "outputs": [
    {
     "name": "stdout",
     "output_type": "stream",
     "text": [
      "10\n"
     ]
    }
   ],
   "source": [
    "from langchain_community.document_loaders import PyPDFLoader\n",
    "\n",
    "embeddings = HuggingFaceEmbeddings(model_name=\"sentence-transformers/all-MiniLM-L6-v2\")\n",
    "# embeddings = HuggingFaceEmbeddings(model_name=\"allenai/scibert_scivocab_uncased\")\n",
    "# vector_store = InMemoryVectorStore(embeddings)\n",
    "\n",
    "index = faiss.IndexFlatL2(len(embeddings.embed_query(\"hello world\")))\n",
    "\n",
    "vector_store = FAISS(\n",
    "    embedding_function=embeddings,\n",
    "    index=index,\n",
    "    docstore=InMemoryDocstore(),\n",
    "    index_to_docstore_id={},\n",
    ")\n",
    "\n",
    "file_path = \"E:\\\\PythonProjects\\\\DashTest\\\\aims.pdf\"\n",
    "loader = PyPDFLoader(file_path)\n",
    "\n",
    "docs = loader.load()\n",
    "\n",
    "print(len(docs))"
   ]
  },
  {
   "cell_type": "code",
   "execution_count": 28,
   "metadata": {},
   "outputs": [
    {
     "data": {
      "text/plain": [
       "47"
      ]
     },
     "execution_count": 28,
     "metadata": {},
     "output_type": "execute_result"
    }
   ],
   "source": [
    "text_splitter = RecursiveCharacterTextSplitter(chunk_size=1000, chunk_overlap=200)\n",
    "all_splits = text_splitter.split_documents(docs)\n",
    "len(all_splits)\n",
    "# all_splits[1].page_content"
   ]
  },
  {
   "cell_type": "code",
   "execution_count": 29,
   "metadata": {},
   "outputs": [],
   "source": [
    "_ = vector_store.add_documents(documents=all_splits)"
   ]
  },
  {
   "cell_type": "code",
   "execution_count": 35,
   "metadata": {},
   "outputs": [
    {
     "data": {
      "text/plain": [
       "[Document(id='0a650b02-7a93-493e-8e9b-1e0304948b25', metadata={'producer': 'PDFlib+PDI 9.0.2 (.NET/Win64)', 'creator': 'PdfCompressor 5.0.595', 'creationdate': '2019-12-11T05:45:09-08:00', 'source': 'E:\\\\PythonProjects\\\\DashTest\\\\aims.pdf', 'total_pages': 10, 'page': 3, 'page_label': '4'}, page_content='3. STATUS UPDATE FROM THE PRODUCTION PIPELINE \\nThe AIMSTM EUV first batch of tools built consist of a prototype system and three customer tools. As it was reported \\nearly 2018, the AIMS TM EUV prototype tool achieved the last milestone of the development project in Decemb er \\n2017 and it now serves the purposes  of EMI members access demonstration, platform software and hardware \\ndevelopment, training for customer operators and ZEISS service personnel, as well as the development of new a erial \\nimaged based applications.  To describe the tool availability during the afore mentioned EMI access campaigns, the \\ngraph in Figure 4 shows the recorded productive time for each measurement slot: after the first campaigns in which \\nthe level of machine automation was still limited and control software features were still being developed, the platform \\ndemonstrates very good availability and performance quality very well comparable to customer tools. As it has been'),\n",
       " Document(id='e824f89e-4a6b-4814-902e-142d10dff14d', metadata={'producer': 'PDFlib+PDI 9.0.2 (.NET/Win64)', 'creator': 'PdfCompressor 5.0.595', 'creationdate': '2019-12-11T05:45:09-08:00', 'source': 'E:\\\\PythonProjects\\\\DashTest\\\\aims.pdf', 'total_pages': 10, 'page': 4, 'page_label': '5'}, page_content=\"jIll'IMMPr.i-M-711'Ehmikw\\n-V\\nos\\n-0.5\\nI\\nos\\nL\\n,-0.500.5\\noa\\n06\\no,,\\n \\n \\n \\n \\n \\n \\n \\n \\nFigure 4: AIMSTM EUV prototype productive time as measured during EMI customer access campaigns. P roductive time is \\nmeasured within timeframe of the CAS campaign only, neglecting e.g. preparation efforts to bring the tool to measurement stat e. \\nProductive time is not measured according to SEMI E-10 standard for uptime. \\n \\nThe second and third customer tools also successfully passed factory acceptance demonstrating excellent imaging \\nperformance and tool stability.  These systems are now in integration at two different customer  sites and after going \\nthrough hardware integration and start -up phase, their performance will be tested within final acceptance and later \\nthey will be handed over to customers for insertion into the production flow. \\n4. AIMSTM EUV QUALIFICATION OF MASK 3D EFFECTS: PATTERN SHIFT THROUGH \\nFOCUS\"),\n",
       " Document(id='1aa43e5e-bc57-4e0a-a920-d4a01dac2df6', metadata={'producer': 'PDFlib+PDI 9.0.2 (.NET/Win64)', 'creator': 'PdfCompressor 5.0.595', 'creationdate': '2019-12-11T05:45:09-08:00', 'source': 'E:\\\\PythonProjects\\\\DashTest\\\\aims.pdf', 'total_pages': 10, 'page': 3, 'page_label': '4'}, page_content='qualification described above, the AIMSTM EUV core capabilities as shown in Figure 3 are provided: \\n• Scanner equivalent illumination: the AIMSTM EUV systems guarantees an equivalent image generation as on \\nthe NXE 33X0 and NXE34X0 EUV scanner systems. The information for the creation of the aerial image is \\ncollected by the projection optics the same way as it is on scanner, providing an equivalent image formation \\nprocess which also supports different illumination schemes as available in exposure tools.  \\n• Chief ray angle emulation: the AIMS TM EUV illuminates the mask in one small spot, whereas the scanner \\nslit illuminates the mask across the entire 104mm exposure field. Depending on the X position to be imaged \\non the mask, the angular distribution of EUV photons hitting the structure is different having the same polar \\n6 degree chief ray angle but different azimuthal component which introduces different shadowing across the'),\n",
       " Document(id='a06ba3fb-0b0f-44a0-86fb-22ccba32798b', metadata={'producer': 'PDFlib+PDI 9.0.2 (.NET/Win64)', 'creator': 'PdfCompressor 5.0.595', 'creationdate': '2019-12-11T05:45:09-08:00', 'source': 'E:\\\\PythonProjects\\\\DashTest\\\\aims.pdf', 'total_pages': 10, 'page': 1, 'page_label': '2'}, page_content='AIMSTM EUV tool Platform: Aerial image based qualification of \\nEUV masks \\nRenzo Capelli1, Martin Dietzel1, Dirk Hellweg1, Grizelda Kersteen1, Ralf Gehrke1, Markus \\nBauer2 \\n1 Carl Zeiss SMT GmbH, Rudolf-Eber-Str. 2, 73447 Oberkochen, Germany \\n2 Carl Zeiss SMT GmbH, Industriestr. 1, 64380 Roßdorf, Germany \\nABSTRACT \\nWith the EUV high volume manufacturing becoming reality and the closing gap of EUV mask infrastructure, EUV \\nlithography is seeing or will shortly see the first production chips being fabricated with EUV. Pilot production in EUV \\nHVM is most likely realized in a mix-and-match process with 193nm techniques. The degree of complexity introduced \\nby the EUV lithographic process is transferred in parallel also to EUV mask: the combination of process sensitive 3D \\neffects and material dependent EUV reflectivity make even the simplest EUV mask what the community is \\nrecognizing to be a very complex phase object. The qualification of such a complex piece of Infrastructure as the EUV')]"
      ]
     },
     "execution_count": 35,
     "metadata": {},
     "output_type": "execute_result"
    }
   ],
   "source": [
    "retrieved_docs = vector_store.similarity_search(\"Tell me about AIMS EUV\")\n",
    "retrieved_docs"
   ]
  },
  {
   "cell_type": "code",
   "execution_count": 32,
   "metadata": {},
   "outputs": [
    {
     "name": "stdout",
     "output_type": "stream",
     "text": [
      "Context: [Document(id='0a650b02-7a93-493e-8e9b-1e0304948b25', metadata={'producer': 'PDFlib+PDI 9.0.2 (.NET/Win64)', 'creator': 'PdfCompressor 5.0.595', 'creationdate': '2019-12-11T05:45:09-08:00', 'source': 'E:\\\\PythonProjects\\\\DashTest\\\\aims.pdf', 'total_pages': 10, 'page': 3, 'page_label': '4'}, page_content='3. STATUS UPDATE FROM THE PRODUCTION PIPELINE \\nThe AIMSTM EUV first batch of tools built consist of a prototype system and three customer tools. As it was reported \\nearly 2018, the AIMS TM EUV prototype tool achieved the last milestone of the development project in Decemb er \\n2017 and it now serves the purposes  of EMI members access demonstration, platform software and hardware \\ndevelopment, training for customer operators and ZEISS service personnel, as well as the development of new a erial \\nimaged based applications.  To describe the tool availability during the afore mentioned EMI access campaigns, the \\ngraph in Figure 4 shows the recorded productive time for each measurement slot: after the first campaigns in which \\nthe level of machine automation was still limited and control software features were still being developed, the platform \\ndemonstrates very good availability and performance quality very well comparable to customer tools. As it has been'), Document(id='e824f89e-4a6b-4814-902e-142d10dff14d', metadata={'producer': 'PDFlib+PDI 9.0.2 (.NET/Win64)', 'creator': 'PdfCompressor 5.0.595', 'creationdate': '2019-12-11T05:45:09-08:00', 'source': 'E:\\\\PythonProjects\\\\DashTest\\\\aims.pdf', 'total_pages': 10, 'page': 4, 'page_label': '5'}, page_content=\"jIll'IMMPr.i-M-711'Ehmikw\\n-V\\nos\\n-0.5\\nI\\nos\\nL\\n,-0.500.5\\noa\\n06\\no,,\\n \\n \\n \\n \\n \\n \\n \\n \\nFigure 4: AIMSTM EUV prototype productive time as measured during EMI customer access campaigns. P roductive time is \\nmeasured within timeframe of the CAS campaign only, neglecting e.g. preparation efforts to bring the tool to measurement stat e. \\nProductive time is not measured according to SEMI E-10 standard for uptime. \\n \\nThe second and third customer tools also successfully passed factory acceptance demonstrating excellent imaging \\nperformance and tool stability.  These systems are now in integration at two different customer  sites and after going \\nthrough hardware integration and start -up phase, their performance will be tested within final acceptance and later \\nthey will be handed over to customers for insertion into the production flow. \\n4. AIMSTM EUV QUALIFICATION OF MASK 3D EFFECTS: PATTERN SHIFT THROUGH \\nFOCUS\"), Document(id='1aa43e5e-bc57-4e0a-a920-d4a01dac2df6', metadata={'producer': 'PDFlib+PDI 9.0.2 (.NET/Win64)', 'creator': 'PdfCompressor 5.0.595', 'creationdate': '2019-12-11T05:45:09-08:00', 'source': 'E:\\\\PythonProjects\\\\DashTest\\\\aims.pdf', 'total_pages': 10, 'page': 3, 'page_label': '4'}, page_content='qualification described above, the AIMSTM EUV core capabilities as shown in Figure 3 are provided: \\n• Scanner equivalent illumination: the AIMSTM EUV systems guarantees an equivalent image generation as on \\nthe NXE 33X0 and NXE34X0 EUV scanner systems. The information for the creation of the aerial image is \\ncollected by the projection optics the same way as it is on scanner, providing an equivalent image formation \\nprocess which also supports different illumination schemes as available in exposure tools.  \\n• Chief ray angle emulation: the AIMS TM EUV illuminates the mask in one small spot, whereas the scanner \\nslit illuminates the mask across the entire 104mm exposure field. Depending on the X position to be imaged \\non the mask, the angular distribution of EUV photons hitting the structure is different having the same polar \\n6 degree chief ray angle but different azimuthal component which introduces different shadowing across the'), Document(id='a06ba3fb-0b0f-44a0-86fb-22ccba32798b', metadata={'producer': 'PDFlib+PDI 9.0.2 (.NET/Win64)', 'creator': 'PdfCompressor 5.0.595', 'creationdate': '2019-12-11T05:45:09-08:00', 'source': 'E:\\\\PythonProjects\\\\DashTest\\\\aims.pdf', 'total_pages': 10, 'page': 1, 'page_label': '2'}, page_content='AIMSTM EUV tool Platform: Aerial image based qualification of \\nEUV masks \\nRenzo Capelli1, Martin Dietzel1, Dirk Hellweg1, Grizelda Kersteen1, Ralf Gehrke1, Markus \\nBauer2 \\n1 Carl Zeiss SMT GmbH, Rudolf-Eber-Str. 2, 73447 Oberkochen, Germany \\n2 Carl Zeiss SMT GmbH, Industriestr. 1, 64380 Roßdorf, Germany \\nABSTRACT \\nWith the EUV high volume manufacturing becoming reality and the closing gap of EUV mask infrastructure, EUV \\nlithography is seeing or will shortly see the first production chips being fabricated with EUV. Pilot production in EUV \\nHVM is most likely realized in a mix-and-match process with 193nm techniques. The degree of complexity introduced \\nby the EUV lithographic process is transferred in parallel also to EUV mask: the combination of process sensitive 3D \\neffects and material dependent EUV reflectivity make even the simplest EUV mask what the community is \\nrecognizing to be a very complex phase object. The qualification of such a complex piece of Infrastructure as the EUV')]\n",
      "\n",
      "\n",
      "Answer: I don't know the specific details about AIMS EUV, but it appears to be related to EUV lithography and mask infrastructure for high-volume manufacturing. AIMS EUV is mentioned in the context of providing equivalent image generation capabilities as on NXE 3300 and NXE34X0 EUV scanner systems.\n"
     ]
    }
   ],
   "source": [
    "result = graph.invoke({\"question\": \"Tell me about AIMS EUV\"})\n",
    "\n",
    "print(f'Context: {result[\"context\"]}\\n\\n')\n",
    "print(f'Answer: {result[\"answer\"]}')"
   ]
  },
  {
   "cell_type": "code",
   "execution_count": 36,
   "metadata": {},
   "outputs": [
    {
     "name": "stdout",
     "output_type": "stream",
     "text": [
      "{'retrieve': {'context': [Document(id='0a650b02-7a93-493e-8e9b-1e0304948b25', metadata={'producer': 'PDFlib+PDI 9.0.2 (.NET/Win64)', 'creator': 'PdfCompressor 5.0.595', 'creationdate': '2019-12-11T05:45:09-08:00', 'source': 'E:\\\\PythonProjects\\\\DashTest\\\\aims.pdf', 'total_pages': 10, 'page': 3, 'page_label': '4'}, page_content='3. STATUS UPDATE FROM THE PRODUCTION PIPELINE \\nThe AIMSTM EUV first batch of tools built consist of a prototype system and three customer tools. As it was reported \\nearly 2018, the AIMS TM EUV prototype tool achieved the last milestone of the development project in Decemb er \\n2017 and it now serves the purposes  of EMI members access demonstration, platform software and hardware \\ndevelopment, training for customer operators and ZEISS service personnel, as well as the development of new a erial \\nimaged based applications.  To describe the tool availability during the afore mentioned EMI access campaigns, the \\ngraph in Figure 4 shows the recorded productive time for each measurement slot: after the first campaigns in which \\nthe level of machine automation was still limited and control software features were still being developed, the platform \\ndemonstrates very good availability and performance quality very well comparable to customer tools. As it has been'), Document(id='e824f89e-4a6b-4814-902e-142d10dff14d', metadata={'producer': 'PDFlib+PDI 9.0.2 (.NET/Win64)', 'creator': 'PdfCompressor 5.0.595', 'creationdate': '2019-12-11T05:45:09-08:00', 'source': 'E:\\\\PythonProjects\\\\DashTest\\\\aims.pdf', 'total_pages': 10, 'page': 4, 'page_label': '5'}, page_content=\"jIll'IMMPr.i-M-711'Ehmikw\\n-V\\nos\\n-0.5\\nI\\nos\\nL\\n,-0.500.5\\noa\\n06\\no,,\\n \\n \\n \\n \\n \\n \\n \\n \\nFigure 4: AIMSTM EUV prototype productive time as measured during EMI customer access campaigns. P roductive time is \\nmeasured within timeframe of the CAS campaign only, neglecting e.g. preparation efforts to bring the tool to measurement stat e. \\nProductive time is not measured according to SEMI E-10 standard for uptime. \\n \\nThe second and third customer tools also successfully passed factory acceptance demonstrating excellent imaging \\nperformance and tool stability.  These systems are now in integration at two different customer  sites and after going \\nthrough hardware integration and start -up phase, their performance will be tested within final acceptance and later \\nthey will be handed over to customers for insertion into the production flow. \\n4. AIMSTM EUV QUALIFICATION OF MASK 3D EFFECTS: PATTERN SHIFT THROUGH \\nFOCUS\"), Document(id='1aa43e5e-bc57-4e0a-a920-d4a01dac2df6', metadata={'producer': 'PDFlib+PDI 9.0.2 (.NET/Win64)', 'creator': 'PdfCompressor 5.0.595', 'creationdate': '2019-12-11T05:45:09-08:00', 'source': 'E:\\\\PythonProjects\\\\DashTest\\\\aims.pdf', 'total_pages': 10, 'page': 3, 'page_label': '4'}, page_content='qualification described above, the AIMSTM EUV core capabilities as shown in Figure 3 are provided: \\n• Scanner equivalent illumination: the AIMSTM EUV systems guarantees an equivalent image generation as on \\nthe NXE 33X0 and NXE34X0 EUV scanner systems. The information for the creation of the aerial image is \\ncollected by the projection optics the same way as it is on scanner, providing an equivalent image formation \\nprocess which also supports different illumination schemes as available in exposure tools.  \\n• Chief ray angle emulation: the AIMS TM EUV illuminates the mask in one small spot, whereas the scanner \\nslit illuminates the mask across the entire 104mm exposure field. Depending on the X position to be imaged \\non the mask, the angular distribution of EUV photons hitting the structure is different having the same polar \\n6 degree chief ray angle but different azimuthal component which introduces different shadowing across the'), Document(id='a06ba3fb-0b0f-44a0-86fb-22ccba32798b', metadata={'producer': 'PDFlib+PDI 9.0.2 (.NET/Win64)', 'creator': 'PdfCompressor 5.0.595', 'creationdate': '2019-12-11T05:45:09-08:00', 'source': 'E:\\\\PythonProjects\\\\DashTest\\\\aims.pdf', 'total_pages': 10, 'page': 1, 'page_label': '2'}, page_content='AIMSTM EUV tool Platform: Aerial image based qualification of \\nEUV masks \\nRenzo Capelli1, Martin Dietzel1, Dirk Hellweg1, Grizelda Kersteen1, Ralf Gehrke1, Markus \\nBauer2 \\n1 Carl Zeiss SMT GmbH, Rudolf-Eber-Str. 2, 73447 Oberkochen, Germany \\n2 Carl Zeiss SMT GmbH, Industriestr. 1, 64380 Roßdorf, Germany \\nABSTRACT \\nWith the EUV high volume manufacturing becoming reality and the closing gap of EUV mask infrastructure, EUV \\nlithography is seeing or will shortly see the first production chips being fabricated with EUV. Pilot production in EUV \\nHVM is most likely realized in a mix-and-match process with 193nm techniques. The degree of complexity introduced \\nby the EUV lithographic process is transferred in parallel also to EUV mask: the combination of process sensitive 3D \\neffects and material dependent EUV reflectivity make even the simplest EUV mask what the community is \\nrecognizing to be a very complex phase object. The qualification of such a complex piece of Infrastructure as the EUV')]}}\n",
      "\n",
      "----------------\n",
      "\n",
      "{'generate': {'answer': \"I don't know the specific details about AIMS EUV, but it appears to be related to EUV lithography and mask manufacturing. It seems to be part of the AIMSTM EUV project, which is mentioned in the context of EUV high-volume manufacturing and the development of new aerial image-based applications.\"}}\n",
      "\n",
      "----------------\n",
      "\n"
     ]
    }
   ],
   "source": [
    "for step in graph.stream(\n",
    "    {\"question\": \"Tell me about AIMS EUV\"}, stream_mode=\"updates\"\n",
    "):\n",
    "    print(f\"{step}\\n\\n----------------\\n\")"
   ]
  },
  {
   "cell_type": "markdown",
   "metadata": {},
   "source": [
    "#### Query analysis"
   ]
  },
  {
   "cell_type": "code",
   "execution_count": 43,
   "metadata": {},
   "outputs": [
    {
     "data": {
      "text/plain": [
       "{'producer': 'PDFlib+PDI 9.0.2 (.NET/Win64)',\n",
       " 'creator': 'PdfCompressor 5.0.595',\n",
       " 'creationdate': '2019-12-11T05:45:09-08:00',\n",
       " 'source': 'E:\\\\PythonProjects\\\\DashTest\\\\aims.pdf',\n",
       " 'total_pages': 10,\n",
       " 'page': 0,\n",
       " 'page_label': '1',\n",
       " 'section': 'beginning'}"
      ]
     },
     "execution_count": 43,
     "metadata": {},
     "output_type": "execute_result"
    }
   ],
   "source": [
    "total_documents = len(all_splits)\n",
    "third = total_documents // 3\n",
    "\n",
    "for i, document in enumerate(all_splits):\n",
    "    if i < third:\n",
    "        document.metadata[\"section\"] = \"beginning\"\n",
    "    elif i < 2 * third:\n",
    "        document.metadata[\"section\"] = \"middle\"\n",
    "    else:\n",
    "        document.metadata[\"section\"] = \"end\"\n",
    "\n",
    "\n",
    "all_splits[0].metadata"
   ]
  },
  {
   "cell_type": "code",
   "execution_count": 54,
   "metadata": {},
   "outputs": [],
   "source": [
    "vector_store = FAISS(\n",
    "    embedding_function=embeddings,\n",
    "    index=index,\n",
    "    docstore=InMemoryDocstore(),\n",
    "    index_to_docstore_id={},\n",
    ")\n",
    "\n",
    "vector_store = InMemoryVectorStore(embeddings)\n",
    "_ = vector_store.add_documents(documents=all_splits)"
   ]
  },
  {
   "cell_type": "code",
   "execution_count": 55,
   "metadata": {},
   "outputs": [],
   "source": [
    "from typing import Literal\n",
    "\n",
    "from typing_extensions import Annotated\n",
    "\n",
    "\n",
    "class Search(TypedDict):\n",
    "    \"\"\"Search query.\"\"\"\n",
    "\n",
    "    query: Annotated[str, ..., \"Search query to run.\"]\n",
    "    section: Annotated[\n",
    "        Literal[\"beginning\", \"middle\", \"end\"],\n",
    "        ...,\n",
    "        \"Section to query.\",\n",
    "    ]"
   ]
  },
  {
   "cell_type": "code",
   "execution_count": 56,
   "metadata": {},
   "outputs": [],
   "source": [
    "class State(TypedDict):\n",
    "    question: str\n",
    "    query: Search\n",
    "    context: List[Document]\n",
    "    answer: str\n",
    "\n",
    "\n",
    "def analyze_query(state: State):\n",
    "    structured_llm = llm.with_structured_output(Search)\n",
    "    query = structured_llm.invoke(state[\"question\"])\n",
    "    print(query)\n",
    "    return {\"query\": query}\n",
    "\n",
    "\n",
    "def retrieve(state: State):\n",
    "    query = state[\"query\"]\n",
    "    retrieved_docs = vector_store.similarity_search(\n",
    "        query[\"query\"],\n",
    "        filter=lambda doc: doc.metadata.get(\"section\") == query[\"section\"],\n",
    "    )\n",
    "    return {\"context\": retrieved_docs}\n",
    "\n",
    "\n",
    "def generate(state: State):\n",
    "    docs_content = \"\\n\\n\".join(doc.page_content for doc in state[\"context\"])\n",
    "    messages = prompt.invoke({\"question\": state[\"question\"], \"context\": docs_content})\n",
    "    response = llm.invoke(messages)\n",
    "    return {\"answer\": response.content}"
   ]
  },
  {
   "cell_type": "code",
   "execution_count": 57,
   "metadata": {},
   "outputs": [],
   "source": [
    "graph_builder = StateGraph(State).add_sequence([analyze_query, retrieve, generate])\n",
    "graph_builder.add_edge(START, \"analyze_query\")\n",
    "graph = graph_builder.compile()"
   ]
  },
  {
   "cell_type": "code",
   "execution_count": 58,
   "metadata": {},
   "outputs": [
    {
     "data": {
      "image/png": "[encoded data removed]",
      "text/plain": [
       "<IPython.core.display.Image object>"
      ]
     },
     "metadata": {},
     "output_type": "display_data"
    }
   ],
   "source": [
    "from IPython.display import Image, display\n",
    "display(Image(graph.get_graph().draw_mermaid_png()))"
   ]
  },
  {
   "cell_type": "code",
   "execution_count": 62,
   "metadata": {},
   "outputs": [
    {
     "name": "stdout",
     "output_type": "stream",
     "text": [
      "{'query': 'Task Decomposition', 'section': 'end'}\n"
     ]
    },
    {
     "data": {
      "text/plain": [
       "{'question': 'What does the end say about Task Decomposition?',\n",
       " 'query': {'query': 'Task Decomposition', 'section': 'end'},\n",
       " 'context': [Document(id='c8e01988-f70f-4f0e-8906-2764cdb3845d', metadata={'producer': 'PDFlib+PDI 9.0.2 (.NET/Win64)', 'creator': 'PdfCompressor 5.0.595', 'creationdate': '2019-12-11T05:45:09-08:00', 'source': 'E:\\\\PythonProjects\\\\DashTest\\\\aims.pdf', 'total_pages': 10, 'page': 6, 'page_label': '7', 'section': 'end'}, page_content='imaging process. The strong dependencies on several process parameters will have to be taken into account by mask \\narchitects in order to be biased and/or corrected for already on the mask. In order to deliver the perfect mask for EUV \\nProc. of SPIE Vol. 10810  108100V-6\\nDownloaded From: https://www.spiedigitallibrary.org/conference-proceedings-of-spie on 11 Dec 2019\\nTerms of Use: https://www.spiedigitallibrary.org/terms-of-use'),\n",
       "  Document(id='04c8c931-fca5-405b-a3cc-bf3def7a9778', metadata={'producer': 'PDFlib+PDI 9.0.2 (.NET/Win64)', 'creator': 'PdfCompressor 5.0.595', 'creationdate': '2019-12-11T05:45:09-08:00', 'source': 'E:\\\\PythonProjects\\\\DashTest\\\\aims.pdf', 'total_pages': 10, 'page': 6, 'page_label': '7', 'section': 'end'}, page_content='different from the trends measured for the dense lines and spaces (yellow region of interest in the aerial image of \\nFigure 9): for this 1 to 1 structure pitch, no significant pattern shift is observed for negative mask positions, whereas \\nit increases exponentially going through the center towards the positive X edge of the mask.  \\n \\nFigure 7: AIMSTM EUV qualification of pattern shift through focus dependence on feature orientation for the isolated space features \\nshown in the aerial image snapshots on the right. The pattern shift through focus measured from the aerial image stack is plotted \\nin nm at mask level against the focus position for different mask X positions given in mm. \\n \\n \\n \\nFigure 8: AIMSTM EUV qualification of pattern shift through focus  dependence on the illumination scheme for the illumination \\npupils shown on the right (respectively q uasi-conventional and d ipole-Y). The pattern is the same isolated horizontal space of'),\n",
       "  Document(id='6b6f161f-3f3b-4874-b4ea-bc54a556a3e2', metadata={'producer': 'PDFlib+PDI 9.0.2 (.NET/Win64)', 'creator': 'PdfCompressor 5.0.595', 'creationdate': '2019-12-11T05:45:09-08:00', 'source': 'E:\\\\PythonProjects\\\\DashTest\\\\aims.pdf', 'total_pages': 10, 'page': 6, 'page_label': '7', 'section': 'end'}, page_content='pupils shown on the right (respectively q uasi-conventional and d ipole-Y). The pattern is the same isolated horizontal space of \\nFigure 7, for which the sh ift through focus measured from the aerial image stack is plotted in nm at mask level against the focus \\nposition for the two different illumination pupils. \\n \\n \\nFigure 9: AIMSTM EUV qualification of pattern shift through focus dependence on structure pitch, i.e. isolated and dense. A focus \\nstack of the same mask field has been collected with the five different scanner X positions (in mm) as reported in the plots legend. \\nThe red and yellow circles in the pattern shift plots refer to the colored ROIs in the aerial image (red and yellow for isolated and \\ndense feature respectively). \\n \\nThe results of this section clearly show the complexity of the telecentricity effect as for the impact it has on the EUV \\nimaging process. The strong dependencies on several process parameters will have to be taken into account by mask'),\n",
       "  Document(id='04aa5387-2f98-43b3-9692-39bc9e80b061', metadata={'producer': 'PDFlib+PDI 9.0.2 (.NET/Win64)', 'creator': 'PdfCompressor 5.0.595', 'creationdate': '2019-12-11T05:45:09-08:00', 'source': 'E:\\\\PythonProjects\\\\DashTest\\\\aims.pdf', 'total_pages': 10, 'page': 8, 'page_label': '9', 'section': 'end'}, page_content='The observed multi-layer defect and mask speckle seen within the AIMS TM EUV images in the un-patterned areas is \\ntherefore dominantly from l ight amplitude that has transmitted the absorber, is reflected in the multilayer, and has \\ntransmitted the absorber a second time. \\n \\n \\nFigure 12: AIMSTM EUV defect detection below absorber. From left to right: AIMS TM EUV aerial image of the defective mask \\nfield; zoom into the aerial image with a different contrast and color scale used to highlight the intensity drop caused by the defects \\nunderneath the absorber; intensity profile of the defect as measured in the aerial image; AFM profile of the same defect (courtesy \\nof ZEISS SMT). \\n \\nAlso when underneath the absorber, a ML -defect is visible and its imaging impact can be quantified. The system is \\nextremely sensitive to the mask material compositions and its changes in optical constants.  This sensitivity opens a')],\n",
       " 'answer': 'The end of this context does not provide information about Task Decomposition. It appears to be related to EUV (Extreme Ultraviolet) imaging process, discussing issues such as pattern shift, focus dependence, and defect detection. The topic is focused on the complexities of the EUV imaging process rather than task decomposition.'}"
      ]
     },
     "execution_count": 62,
     "metadata": {},
     "output_type": "execute_result"
    }
   ],
   "source": [
    "graph.invoke({\"question\": \"What does the end say about Task Decomposition?\"})"
   ]
  },
  {
   "cell_type": "markdown",
   "metadata": {},
   "source": [
    "### RAG part 2"
   ]
  },
  {
   "cell_type": "code",
   "execution_count": 5,
   "metadata": {},
   "outputs": [
    {
     "name": "stderr",
     "output_type": "stream",
     "text": [
      "e:\\PythonProjects\\DashTest\\.venv\\lib\\site-packages\\tqdm\\auto.py:21: TqdmWarning: IProgress not found. Please update jupyter and ipywidgets. See https://ipywidgets.readthedocs.io/en/stable/user_install.html\n",
      "  from .autonotebook import tqdm as notebook_tqdm\n"
     ]
    }
   ],
   "source": [
    "from langchain_ollama import ChatOllama\n",
    "from langchain_huggingface import HuggingFaceEmbeddings\n",
    "from langchain_core.vectorstores import InMemoryVectorStore\n",
    "llm = ChatOllama(\n",
    "    # model=\"llama3.2\",\n",
    "    model=\"mistral-nemo\",\n",
    "    temperature=0.8,\n",
    "    # other params...\n",
    ")\n",
    "# embeddings = OllamaEmbeddings(model=\"llama3\")\n",
    "# embeddings = HuggingFaceEmbeddings(model_name=\"sentence-transformers/all-mpnet-base-v2\")\n",
    "# embeddings = HuggingFaceEmbeddings(model_name=\"allenai/specter\")\n",
    "embeddings = HuggingFaceEmbeddings(model_name=\"sentence-transformers/all-MiniLM-L6-v2\")\n",
    "# embeddings = HuggingFaceEmbeddings(model_name=\"allenai/scibert_scivocab_uncased\")\n",
    "\n",
    "vector_store = InMemoryVectorStore(embeddings)"
   ]
  },
  {
   "cell_type": "code",
   "execution_count": 6,
   "metadata": {},
   "outputs": [
    {
     "name": "stderr",
     "output_type": "stream",
     "text": [
      "USER_AGENT environment variable not set, consider setting it to identify your requests.\n"
     ]
    }
   ],
   "source": [
    "import bs4\n",
    "from langchain import hub\n",
    "from langchain_community.document_loaders import WebBaseLoader\n",
    "from langchain_core.documents import Document\n",
    "from langchain_text_splitters import RecursiveCharacterTextSplitter\n",
    "from typing_extensions import List, TypedDict\n",
    "\n",
    "# Load and chunk contents of the blog\n",
    "loader = WebBaseLoader(\n",
    "    web_paths=(\"https://lilianweng.github.io/posts/2023-06-23-agent/\",),\n",
    "    bs_kwargs=dict(\n",
    "        parse_only=bs4.SoupStrainer(\n",
    "            class_=(\"post-content\", \"post-title\", \"post-header\")\n",
    "        )\n",
    "    ),\n",
    ")\n",
    "docs = loader.load()\n",
    "\n",
    "text_splitter = RecursiveCharacterTextSplitter(chunk_size=1000, chunk_overlap=200)\n",
    "all_splits = text_splitter.split_documents(docs)\n",
    "\n",
    "_ = vector_store.add_documents(documents=all_splits)"
   ]
  },
  {
   "cell_type": "code",
   "execution_count": 7,
   "metadata": {},
   "outputs": [],
   "source": [
    "from langgraph.graph import MessagesState, StateGraph\n",
    "\n",
    "graph_builder = StateGraph(MessagesState)"
   ]
  },
  {
   "cell_type": "code",
   "execution_count": 8,
   "metadata": {},
   "outputs": [],
   "source": [
    "from langchain_core.tools import tool\n",
    "\n",
    "@tool(response_format=\"content_and_artifact\")\n",
    "def retrieve(query: str):\n",
    "    \"\"\"Retrieve information related to a query.\"\"\"\n",
    "    retrieved_docs = vector_store.similarity_search(query, k=2)\n",
    "    serialized = \"\\n\\n\".join(\n",
    "        (f\"Source: {doc.metadata}\\n\" f\"Content: {doc.page_content}\")\n",
    "        for doc in retrieved_docs\n",
    "    )\n",
    "    return serialized, retrieved_docs\n"
   ]
  },
  {
   "cell_type": "code",
   "execution_count": 9,
   "metadata": {},
   "outputs": [],
   "source": [
    "from langchain_core.messages import SystemMessage\n",
    "from langgraph.prebuilt import ToolNode\n",
    "\n",
    "\n",
    "# Step 1: Generate an AIMessage that may include a tool-call to be sent.\n",
    "def query_or_respond(state: MessagesState):\n",
    "    \"\"\"Generate tool call for retrieval or respond.\"\"\"\n",
    "    llm_with_tools = llm.bind_tools([retrieve])\n",
    "    response = llm_with_tools.invoke(state[\"messages\"])\n",
    "    print(f\"Query or respond response: {response}\")\n",
    "    # MessagesState appends messages to state instead of overwriting\n",
    "    return {\"messages\": [response]}\n",
    "\n",
    "# Step 2: Execute the retrieval.\n",
    "tools = ToolNode([retrieve])\n",
    "\n",
    "\n",
    "# Step 3: Generate a response using the retrieved content.\n",
    "def generate(state: MessagesState):\n",
    "    \"\"\"Generate answer.\"\"\"\n",
    "    # Get generated ToolMessages\n",
    "    recent_tool_messages = []\n",
    "    for message in reversed(state[\"messages\"]):\n",
    "        if message.type == \"tool\":\n",
    "            recent_tool_messages.append(message)\n",
    "        else:\n",
    "            break\n",
    "    tool_messages = recent_tool_messages[::-1]\n",
    "\n",
    "    # Format into prompt\n",
    "    docs_content = \"\\n\\n\".join(doc.content for doc in tool_messages)\n",
    "    system_message_content = (\n",
    "        \"You are an assistant for question-answering tasks. \"\n",
    "        \"Use the following pieces of retrieved context to answer \"\n",
    "        \"the question. If you don't know the answer, say that you \"\n",
    "        \"don't know. Use three sentences maximum and keep the \"\n",
    "        \"answer concise.\"\n",
    "        \"\\n\\n\"\n",
    "        f\"{docs_content}\"\n",
    "    )\n",
    "    conversation_messages = [\n",
    "        message\n",
    "        for message in state[\"messages\"]\n",
    "        if message.type in (\"human\", \"system\")\n",
    "        or (message.type == \"ai\" and not message.tool_calls)\n",
    "    ]\n",
    "    prompt = [SystemMessage(system_message_content)] + conversation_messages\n",
    "\n",
    "    # Run\n",
    "    response = llm.invoke(prompt)\n",
    "    return {\"messages\": [response]}"
   ]
  },
  {
   "cell_type": "code",
   "execution_count": 10,
   "metadata": {},
   "outputs": [],
   "source": [
    "from langgraph.graph import END\n",
    "from langgraph.prebuilt import ToolNode, tools_condition\n",
    "\n",
    "graph_builder.add_node(query_or_respond)\n",
    "graph_builder.add_node(tools)\n",
    "graph_builder.add_node(generate)\n",
    "\n",
    "graph_builder.set_entry_point(\"query_or_respond\")\n",
    "graph_builder.add_conditional_edges(\n",
    "    \"query_or_respond\",\n",
    "    tools_condition,\n",
    "    {END: END, \"tools\": \"tools\"},\n",
    ")\n",
    "graph_builder.add_edge(\"tools\", \"generate\")\n",
    "graph_builder.add_edge(\"generate\", END)\n",
    "\n",
    "graph = graph_builder.compile()"
   ]
  },
  {
   "cell_type": "code",
   "execution_count": 11,
   "metadata": {},
   "outputs": [
    {
     "data": {
      "image/png": "[encoded data removed]",
      "text/plain": [
       "<IPython.core.display.Image object>"
      ]
     },
     "metadata": {},
     "output_type": "display_data"
    }
   ],
   "source": [
    "from IPython.display import Image, display\n",
    "\n",
    "display(Image(graph.get_graph().draw_mermaid_png()))"
   ]
  },
  {
   "cell_type": "code",
   "execution_count": 13,
   "metadata": {},
   "outputs": [
    {
     "name": "stdout",
     "output_type": "stream",
     "text": [
      "================================\u001b[1m Human Message \u001b[0m=================================\n",
      "\n",
      "Tell me about AIMS EUV\n",
      "Query or respond response: content='' additional_kwargs={} response_metadata={'model': 'mistral-nemo', 'created_at': '2025-02-11T06:24:24.6903547Z', 'done': True, 'done_reason': 'stop', 'total_duration': 867568400, 'load_duration': 15747600, 'prompt_eval_count': 61, 'prompt_eval_duration': 193000000, 'eval_count': 23, 'eval_duration': 650000000, 'message': Message(role='assistant', content='', images=None, tool_calls=None)} id='run-17902e16-1113-485e-b547-7bd2ac34a468-0' tool_calls=[{'name': 'retrieve', 'args': {'query': 'AIMS EUV'}, 'id': '63d7904a-72e4-4917-a1af-d434ac95565f', 'type': 'tool_call'}] usage_metadata={'input_tokens': 61, 'output_tokens': 23, 'total_tokens': 84}\n",
      "==================================\u001b[1m Ai Message \u001b[0m==================================\n",
      "Tool Calls:\n",
      "  retrieve (63d7904a-72e4-4917-a1af-d434ac95565f)\n",
      " Call ID: 63d7904a-72e4-4917-a1af-d434ac95565f\n",
      "  Args:\n",
      "    query: AIMS EUV\n",
      "=================================\u001b[1m Tool Message \u001b[0m=================================\n",
      "Name: retrieve\n",
      "\n",
      "Source: {'source': 'https://lilianweng.github.io/posts/2023-06-23-agent/'}\n",
      "Content: Fig. 4. Experiments on AlfWorld Env and HotpotQA. Hallucination is a more common failure than inefficient planning in AlfWorld. (Image source: Shinn & Labash, 2023)\n",
      "\n",
      "Source: {'source': 'https://lilianweng.github.io/posts/2023-06-23-agent/'}\n",
      "Content: Prompt LM with 100 most recent observations and to generate 3 most salient high-level questions given a set of observations/statements. Then ask LM to answer those questions.\n",
      "\n",
      "\n",
      "Planning & Reacting: translate the reflections and the environment information into actions\n",
      "\n",
      "Planning is essentially in order to optimize believability at the moment vs in time.\n",
      "Prompt template: {Intro of an agent X}. Here is X's plan today in broad strokes: 1)\n",
      "Relationships between agents and observations of one agent by another are all taken into consideration for planning and reacting.\n",
      "Environment information is present in a tree structure.\n",
      "==================================\u001b[1m Ai Message \u001b[0m==================================\n",
      "\n",
      "AIMS EUV is a European project aiming to develop Extreme Ultraviolet (EUV) lithography technology.\n"
     ]
    }
   ],
   "source": [
    "input_message = \"Tell me about AIMS EUV\"\n",
    "\n",
    "for step in graph.stream(\n",
    "    {\"messages\": [{\"role\": \"user\", \"content\": input_message}]},\n",
    "    stream_mode=\"values\",\n",
    "    config={\"callbacks\": [langfuse_handler]}\n",
    "):\n",
    "    step[\"messages\"][-1].pretty_print()"
   ]
  },
  {
   "cell_type": "markdown",
   "metadata": {},
   "source": [
    "### Persistance study"
   ]
  },
  {
   "cell_type": "code",
   "execution_count": 1,
   "metadata": {},
   "outputs": [],
   "source": [
    "from langfuse import Langfuse\n",
    "from langfuse.callback import CallbackHandler\n",
    "\n",
    "langfuse_handler = CallbackHandler(\n",
    "  secret_key=\"sk-lf-00e471ca-2111-4262-a488-8f601f293c6b\",\n",
    "  public_key=\"pk-lf-3898b1bf-11d3-4ef9-8dee-4d9ca2367b50\",\n",
    "  host=\"http://localhost:3000\"\n",
    ")"
   ]
  },
  {
   "cell_type": "code",
   "execution_count": 4,
   "metadata": {},
   "outputs": [],
   "source": [
    "from langchain_ollama import ChatOllama\n",
    "from langchain_huggingface import HuggingFaceEmbeddings\n",
    "from langchain_core.vectorstores import InMemoryVectorStore\n",
    "llm = ChatOllama(\n",
    "    # model=\"llama3.2\",\n",
    "    model=\"mistral-nemo\",\n",
    "    temperature=0.8,\n",
    "    # other params...\n",
    ")\n",
    "llm2 = ChatOllama(\n",
    "    model=\"llama3.2\",\n",
    "    # model=\"mistral-nemo\",\n",
    "    temperature=0.8,\n",
    "    # other params...\n",
    ")\n",
    "# embeddings = OllamaEmbeddings(model=\"llama3\")\n",
    "# embeddings = HuggingFaceEmbeddings(model_name=\"sentence-transformers/all-mpnet-base-v2\")\n",
    "# embeddings = HuggingFaceEmbeddings(model_name=\"allenai/specter\")\n",
    "embeddings = HuggingFaceEmbeddings(model_name=\"sentence-transformers/all-MiniLM-L6-v2\")\n",
    "# embeddings = HuggingFaceEmbeddings(model_name=\"allenai/scibert_scivocab_uncased\")\n",
    "\n",
    "vector_store = InMemoryVectorStore(embeddings)"
   ]
  },
  {
   "cell_type": "code",
   "execution_count": 3,
   "metadata": {},
   "outputs": [
    {
     "data": {
      "text/plain": [
       "{'foo': 'b', 'bar': ['a', 'b']}"
      ]
     },
     "execution_count": 3,
     "metadata": {},
     "output_type": "execute_result"
    }
   ],
   "source": [
    "from langgraph.graph import StateGraph, START, END\n",
    "from langgraph.checkpoint.memory import MemorySaver\n",
    "from typing import Annotated\n",
    "from typing_extensions import TypedDict\n",
    "from operator import add\n",
    "\n",
    "class State(TypedDict):\n",
    "    foo: int\n",
    "    bar: Annotated[list[str], add]\n",
    "\n",
    "def node_a(state: State):\n",
    "    return {\"foo\": \"a\", \"bar\": [\"a\"]}\n",
    "\n",
    "def node_b(state: State):\n",
    "    return {\"foo\": \"b\", \"bar\": [\"b\"]}\n",
    "\n",
    "\n",
    "workflow = StateGraph(State)\n",
    "workflow.add_node(node_a)\n",
    "workflow.add_node(node_b)\n",
    "workflow.add_edge(START, \"node_a\")\n",
    "workflow.add_edge(\"node_a\", \"node_b\")\n",
    "workflow.add_edge(\"node_b\", END)\n",
    "\n",
    "checkpointer = MemorySaver()\n",
    "graph = workflow.compile(checkpointer=checkpointer)\n",
    "\n",
    "config = {\"configurable\": {\"thread_id\": \"1\"}}\n",
    "graph.invoke({\"foo\": \"\"}, config)"
   ]
  },
  {
   "cell_type": "code",
   "execution_count": 49,
   "metadata": {},
   "outputs": [
    {
     "data": {
      "text/plain": [
       "StateSnapshot(values={'foo': 'b', 'bar': ['a', 'b']}, next=(), config={'configurable': {'thread_id': '1', 'checkpoint_ns': '', 'checkpoint_id': '1efe839e-1324-6e9c-8002-d13ddfcb9080'}}, metadata={'source': 'loop', 'writes': {'node_b': {'foo': 'b', 'bar': ['b']}}, 'thread_id': '1', 'step': 2, 'parents': {}}, created_at='2025-02-11T05:34:36.072514+00:00', parent_config={'configurable': {'thread_id': '1', 'checkpoint_ns': '', 'checkpoint_id': '1efe839e-1322-6777-8001-dd403d87a56d'}}, tasks=())"
      ]
     },
     "execution_count": 49,
     "metadata": {},
     "output_type": "execute_result"
    }
   ],
   "source": [
    "graph.get_state(config)"
   ]
  },
  {
   "cell_type": "code",
   "execution_count": 52,
   "metadata": {},
   "outputs": [
    {
     "data": {
      "text/plain": [
       "StateSnapshot(values={'foo': 'b', 'bar': ['a', 'b']}, next=(), config={'configurable': {'thread_id': '1', 'checkpoint_id': '1efe839e-1324-6e9c-8002-d13ddfcb9080'}}, metadata={'source': 'loop', 'writes': {'node_b': {'foo': 'b', 'bar': ['b']}}, 'thread_id': '1', 'step': 2, 'parents': {}}, created_at='2025-02-11T05:34:36.072514+00:00', parent_config={'configurable': {'thread_id': '1', 'checkpoint_ns': '', 'checkpoint_id': '1efe839e-1322-6777-8001-dd403d87a56d'}}, tasks=())"
      ]
     },
     "execution_count": 52,
     "metadata": {},
     "output_type": "execute_result"
    }
   ],
   "source": [
    "new_config = {\"configurable\": {\"thread_id\": \"1\", \"checkpoint_id\": \"1efe839e-1324-6e9c-8002-d13ddfcb9080\"}}\n",
    "graph.get_state(new_config)"
   ]
  },
  {
   "cell_type": "code",
   "execution_count": 54,
   "metadata": {},
   "outputs": [
    {
     "data": {
      "text/plain": [
       "[StateSnapshot(values={'foo': 'b', 'bar': ['a', 'b']}, next=(), config={'configurable': {'thread_id': '1', 'checkpoint_ns': '', 'checkpoint_id': '1efe839e-1324-6e9c-8002-d13ddfcb9080'}}, metadata={'source': 'loop', 'writes': {'node_b': {'foo': 'b', 'bar': ['b']}}, 'thread_id': '1', 'step': 2, 'parents': {}}, created_at='2025-02-11T05:34:36.072514+00:00', parent_config={'configurable': {'thread_id': '1', 'checkpoint_ns': '', 'checkpoint_id': '1efe839e-1322-6777-8001-dd403d87a56d'}}, tasks=()),\n",
       " StateSnapshot(values={'foo': 'a', 'bar': ['a']}, next=('node_b',), config={'configurable': {'thread_id': '1', 'checkpoint_ns': '', 'checkpoint_id': '1efe839e-1322-6777-8001-dd403d87a56d'}}, metadata={'source': 'loop', 'writes': {'node_a': {'foo': 'a', 'bar': ['a']}}, 'thread_id': '1', 'step': 1, 'parents': {}}, created_at='2025-02-11T05:34:36.071512+00:00', parent_config={'configurable': {'thread_id': '1', 'checkpoint_ns': '', 'checkpoint_id': '1efe839e-1320-606c-8000-7a885d876769'}}, tasks=(PregelTask(id='c160f9e7-fc7a-cb93-628d-8ee76c4d627c', name='node_b', path=('__pregel_pull', 'node_b'), error=None, interrupts=(), state=None, result={'foo': 'b', 'bar': ['b']}),)),\n",
       " StateSnapshot(values={'foo': '', 'bar': []}, next=('node_a',), config={'configurable': {'thread_id': '1', 'checkpoint_ns': '', 'checkpoint_id': '1efe839e-1320-606c-8000-7a885d876769'}}, metadata={'source': 'loop', 'writes': None, 'thread_id': '1', 'step': 0, 'parents': {}}, created_at='2025-02-11T05:34:36.070513+00:00', parent_config={'configurable': {'thread_id': '1', 'checkpoint_ns': '', 'checkpoint_id': '1efe839e-1320-606b-bfff-b2302cde79a7'}}, tasks=(PregelTask(id='13de672f-e3c5-86c8-8f74-17ed44000d5b', name='node_a', path=('__pregel_pull', 'node_a'), error=None, interrupts=(), state=None, result={'foo': 'a', 'bar': ['a']}),)),\n",
       " StateSnapshot(values={'bar': []}, next=('__start__',), config={'configurable': {'thread_id': '1', 'checkpoint_ns': '', 'checkpoint_id': '1efe839e-1320-606b-bfff-b2302cde79a7'}}, metadata={'source': 'input', 'writes': {'__start__': {'foo': ''}}, 'thread_id': '1', 'step': -1, 'parents': {}}, created_at='2025-02-11T05:34:36.070513+00:00', parent_config=None, tasks=(PregelTask(id='ca329360-8096-ec59-e0b1-fe354da7e6bd', name='__start__', path=('__pregel_pull', '__start__'), error=None, interrupts=(), state=None, result={'foo': ''}),))]"
      ]
     },
     "execution_count": 54,
     "metadata": {},
     "output_type": "execute_result"
    }
   ],
   "source": [
    "list(graph.get_state_history(config))"
   ]
  },
  {
   "cell_type": "code",
   "execution_count": 61,
   "metadata": {},
   "outputs": [
    {
     "ename": "TypeError",
     "evalue": "unhashable type: 'dict'",
     "output_type": "error",
     "traceback": [
      "\u001b[1;31m---------------------------------------------------------------------------\u001b[0m",
      "\u001b[1;31mTypeError\u001b[0m                                 Traceback (most recent call last)",
      "Cell \u001b[1;32mIn[61], line 1\u001b[0m\n\u001b[1;32m----> 1\u001b[0m test \u001b[38;5;241m=\u001b[39m {\u001b[38;5;124m\"\u001b[39m\u001b[38;5;124mconfigurable\u001b[39m\u001b[38;5;124m\"\u001b[39m, {\u001b[38;5;124m\"\u001b[39m\u001b[38;5;124mthread_id\u001b[39m\u001b[38;5;124m\"\u001b[39m:\u001b[38;5;124m\"\u001b[39m\u001b[38;5;124m1\u001b[39m\u001b[38;5;124m\"\u001b[39m, \u001b[38;5;124m\"\u001b[39m\u001b[38;5;124mcheckpoint_id\u001b[39m\u001b[38;5;124m\"\u001b[39m:\u001b[38;5;124m\"\u001b[39m\u001b[38;5;124m1efe839e-1322-6777-8001-dd403d87a56d\u001b[39m\u001b[38;5;124m\"\u001b[39m}}\n\u001b[0;32m      2\u001b[0m graph\u001b[38;5;241m.\u001b[39minvoke(\u001b[38;5;28;01mNone\u001b[39;00m, config\u001b[38;5;241m=\u001b[39mnew_config)\n",
      "\u001b[1;31mTypeError\u001b[0m: unhashable type: 'dict'"
     ]
    }
   ],
   "source": [
    "test = {\"configurable\", {\"thread_id\":\"1\", \"checkpoint_id\":\"1efe839e-1322-6777-8001-dd403d87a56d\"}}\n",
    "graph.invoke(None, new_config)"
   ]
  },
  {
   "cell_type": "code",
   "execution_count": 4,
   "metadata": {},
   "outputs": [
    {
     "data": {
      "text/plain": [
       "{'foo': 'b', 'bar': ['a', 'b']}"
      ]
     },
     "execution_count": 4,
     "metadata": {},
     "output_type": "execute_result"
    }
   ],
   "source": [
    "from langgraph.graph import StateGraph, START, END\n",
    "from langgraph.checkpoint.memory import MemorySaver\n",
    "from typing import Annotated\n",
    "from typing_extensions import TypedDict\n",
    "from operator import add\n",
    "\n",
    "class State(TypedDict):\n",
    "    foo: int\n",
    "    bar: Annotated[list[str], add]\n",
    "\n",
    "def node_a(state: State):\n",
    "    return {\"foo\": \"a\", \"bar\": [\"a\"]}\n",
    "\n",
    "def node_b(state: State):\n",
    "    return {\"foo\": \"b\", \"bar\": [\"b\"]}\n",
    "\n",
    "\n",
    "workflow = StateGraph(State)\n",
    "workflow.add_node(node_a)\n",
    "workflow.add_node(node_b)\n",
    "workflow.add_edge(START, \"node_a\")\n",
    "workflow.add_edge(\"node_a\", \"node_b\")\n",
    "workflow.add_edge(\"node_b\", END)\n",
    "\n",
    "checkpointer = MemorySaver()\n",
    "graph = workflow.compile(checkpointer=checkpointer)\n",
    "\n",
    "config = {\"configurable\": {\"thread_id\": \"1\"}, \"callbacks\": [langfuse_handler]}\n",
    "graph.invoke({\"foo\": \"\"}, config)"
   ]
  },
  {
   "cell_type": "markdown",
   "metadata": {},
   "source": [
    "### Text summarizer"
   ]
  },
  {
   "cell_type": "code",
   "execution_count": 10,
   "metadata": {},
   "outputs": [],
   "source": [
    "from langchain_community.document_loaders import PyPDFLoader\n",
    "\n",
    "loader = PyPDFLoader(\"E:\\PythonProjects\\DashTest\\\\aims.pdf\")\n",
    "pages = []\n",
    "async for page in loader.alazy_load():\n",
    "    pages.append(page)"
   ]
  },
  {
   "cell_type": "code",
   "execution_count": 11,
   "metadata": {},
   "outputs": [
    {
     "data": {
      "text/plain": [
       "[Document(metadata={'producer': 'PDFlib+PDI 9.0.2 (.NET/Win64)', 'creator': 'PdfCompressor 5.0.595', 'creationdate': '2019-12-11T05:45:09-08:00', 'source': 'E:\\\\PythonProjects\\\\DashTest\\\\aims.pdf', 'total_pages': 10, 'page': 0, 'page_label': '1'}, page_content='PROCEEDINGS OF SPIE\\nSPIEDigitalLibrary.org/conference-proceedings-of-spie\\nAIMS™ EUV tool platform: aerial-\\nimage based qualification of EUV\\nmasks\\nRenzo Capelli, Martin Dietzel, Dirk Hellweg, Grizelda\\nKersteen, Ralf Gehrke, et al.\\nRenzo Capelli, Martin Dietzel, Dirk Hellweg, Grizelda Kersteen, Ralf Gehrke,\\nMarkus Bauer, \"AIMS™ EUV tool platform: aerial-image based qualification of\\nEUV masks,\" Proc. SPIE 10810, Photomask Technology 2018, 108100V (23\\nOctober 2018); doi: 10.1117/12.2501379\\nEvent: SPIE Photomask Technology + Extreme Ultraviolet Lithography, 2018,\\nMonterey, California, United States\\nDownloaded From: https://www.spiedigitallibrary.org/conference-proceedings-of-spie on 11 Dec 2019  Terms of Use: https://www.spiedigitallibrary.org/terms-of-use'),\n",
       " Document(metadata={'producer': 'PDFlib+PDI 9.0.2 (.NET/Win64)', 'creator': 'PdfCompressor 5.0.595', 'creationdate': '2019-12-11T05:45:09-08:00', 'source': 'E:\\\\PythonProjects\\\\DashTest\\\\aims.pdf', 'total_pages': 10, 'page': 1, 'page_label': '2'}, page_content='AIMSTM EUV tool Platform: Aerial image based qualification of \\nEUV masks \\nRenzo Capelli1, Martin Dietzel1, Dirk Hellweg1, Grizelda Kersteen1, Ralf Gehrke1, Markus \\nBauer2 \\n1 Carl Zeiss SMT GmbH, Rudolf-Eber-Str. 2, 73447 Oberkochen, Germany \\n2 Carl Zeiss SMT GmbH, Industriestr. 1, 64380 Roßdorf, Germany \\nABSTRACT \\nWith the EUV high volume manufacturing becoming reality and the closing gap of EUV mask infrastructure, EUV \\nlithography is seeing or will shortly see the first production chips being fabricated with EUV. Pilot production in EUV \\nHVM is most likely realized in a mix-and-match process with 193nm techniques. The degree of complexity introduced \\nby the EUV lithographic process is transferred in parallel also to EUV mask: the combination of process sensitive 3D \\neffects and material dependent EUV reflectivity make even the simplest EUV mask what the community is \\nrecognizing to be a very complex phase object. The qualification of such a complex piece of Infrastructure as the EUV \\nmask is being addressed from many directions: defect review application is always more ba cked up by ancillary \\napplications which aim at qualifying the printing behavior of the mask with the fundamental precondition of a full \\nscanner emulation. ZEISS and the SUNY POLY SEMATECH EUVL Mask Infrastructure consortium have developed \\nand commercialized the EUV aerial image metrology platform, the AIMS™ EUV platform , which fully addresses the \\nindustry requirements for EUV defectivity review. Additionally, this tool platform allows for mask qualification \\napplications based on the employment of aerial image proven technology. \\nIn this paper, the status and recent achievements of the AIMS TM EUV platform will be presented. Promoting the \\ndetailed exploration of the aerial image content potential for EUV process understanding and mask qualification, we \\nwill present recent results on a printability study of embedded EUV multilayer defects, along with providing further \\ninsights into the relevance of mask 3D effects.  \\n \\nKeywords:  Mask metrology, AIMS™, Aerial image review, EUV, scanner emulation, defect review, EUV opt ics \\n \\n1. INTRODUCTION  \\nHaving missed a few nodes of the ones for which EUV lithography was originally planned for, single exposure EUV \\nlithography will have a few more opportunities for semiconductor manufacturing in high volume starting at the 7nm \\nnode. While the source power reaches the target operation value and the exposure tools improve their availability in a \\nproduction environment in the wafer fab [1], the industry is now focusing on closing the gap on the remaining open \\nitems required for a fully operative infrastructure: from the wafer side, a viable resist solution and stochastics failures \\nmanagement are still thorough investigation. On the mask infrastructure side, production worthy solutions for an \\nactinic patterned mask inspection tool and the  mask pellicle are still being addressed . Despite the remaining gaps \\nwhich still need commitment from semiconductor manufacturers and suppliers, EUV lithography has already been \\nintroduced in pilot production, and some layers are already produced using EUV  exposure [2]. On the mask \\nmanufacturing side, zero defects blanks can be manufactured and also absorber defects are in limited numbers on high \\nend masks [3]. Due to the complexity of 3D effects inherent to the EUV imaging process of standard masks with 70nm \\nTa based absorber, some private companies and research institutions are now investigating the solution space for the \\nsimplification of the EUV imaging process, e.g. by employment of thinner and chemically different absorber materials \\n[4] which will also introduce benefits on the scanner side, above all an improvement of the process window.  As we \\nreported in recent contributions [5], the full scanner emulation capabilities provided by AIMS TM EUV can be \\nemployed by the mask shop for process optimizat ion and full understanding of the complexity of the EUV imaging \\nprocess: besides being used in production for defect review and repair verification, the AIMS TM EUV system is the \\nperfect tool to qualify mask 3D effects and qualify production worthy process optimizations to minimize their impact. \\n \\nIn this paper the most evident advantages of AIMSTM EUV aerial image technology in the field of defect review and \\nrepair verification for EUV photomasks, as well as overall qualification of the aerial image formation and the EUV \\nprinting process, will be presented. Section 2 will give a short update on the status of the AIMS TM EUV production \\npipeline. Further studies on the complexity of the EUV imaging process related to mask 3D effects have also been \\nperformed by ZEISS with the AIMSTM EUV and the results will be presented in Section 3. In Section 4 a mult i \\nmetrology qualification of the printing behavior of programmed multilayer defect will be presented.  \\n \\nPhotomask Technology 2018, edited by Emily E. Gallagher, Jed H. Rankin, Proc. of SPIE Vol. \\n10810, 108100V · © 2018 SPIE · CCC code: 0277-786X/18/$18 · doi: 10.1117/12.2501379\\nProc. of SPIE Vol. 10810  108100V-1\\nDownloaded From: https://www.spiedigitallibrary.org/conference-proceedings-of-spie on 11 Dec 2019\\nTerms of Use: https://www.spiedigitallibrary.org/terms-of-use'),\n",
       " Document(metadata={'producer': 'PDFlib+PDI 9.0.2 (.NET/Win64)', 'creator': 'PdfCompressor 5.0.595', 'creationdate': '2019-12-11T05:45:09-08:00', 'source': 'E:\\\\PythonProjects\\\\DashTest\\\\aims.pdf', 'total_pages': 10, 'page': 2, 'page_label': '3'}, page_content='PatterningMetrologyInspectionDefect\\nDisposition\\nRepair\\nVerification\\n \\n#\\n#\\na\\n0*iti i 4\\neA\\n \\n \\n \\n \\n \\n \\n2. AIMSTM EUV AS GOLD STANDARD FOR DEFECT REVIEW AND REPAIR \\nVERIFICATION \\n \\nThe Aerial Image Measurement System ( AIMSTM) tools from ZEISS have been serving the semiconductor industry \\nsince 1993, when the first aerial image algorithm was developed in collaboration with IBM to work in a connection \\nwith a table top microscope. Since then, several systems generations have been introduced to the market in order to \\nfulfill the mask shop need for mask defect review and repair verification applications. As for all AIMSTM systems, the \\nAIMSTM EUV is employed within the back end of the line of a mask shop production environment in a closed loop \\nwith the ZEISS MeRiT® system for mask defect review and repair as shown in Figure 1.  After being inspected by an \\ninspection system, a mask is delivered to AIMS TM EUV along with a list of potential defective areas on the mask \\nwhich could print as defect on the wafer and hinder the per formance of the final chip product. The AIMS TM EUV \\ndefect review delivers the information on the printability of the defects under full scanner emulation conditions \\n(wavelength, NA, illumination conditions, etc.): in order to correctly assess the printability of a defect, AIMSTM EUV \\ncollects all relevant information inherent the aerial image formation process the same way as the EUV NXE scanner \\ndoes, providing therefore an exact preview of what the wafer will see as aerial image without the need of printing any \\nwafer (develop the aerial image itself as a photographic plate). \\n \\n \\nFigure 1: Exemplary mask production flow process. On the top line and in orange highlighted, the steps in which AIMS TM EUV \\nis used. Bottom panel: 1. AIMSTM EUV aerial image of the defect. 2. Mask SEM image of the defective area. 3. Mask SEM image \\nof the repaired area. 4. AIMSTM EUV aerial image of the repaired defect.  \\n \\nAs reported in a recent contribution [6], the aerial image is the ideal place for a full mask qualification, for it measures \\nthe mask without any disturbance by photon/resist stochastics. Figure 2 shows a qualitative comparison between the \\nwafer print and the aerial image of a dense contact holes array (structures are not the same): as it can be seen from the \\nwafer print image, no clear separation between a mask error and wafer process can be made, given the noisy \\ndistribution of the feature size at wafer and the fact that a localization of an individual repaired defect with no anchor \\nfeature nearby becomes very complex. These factors contribute to a challenging repair verification process in the mask \\nshop, as well as more complexity in the process optimization. \\n \\n \\nFigure 2: Feature regularity comparison between a CD SEM image from a wafer print  (A) and the AIMSTM EUV aerial image of \\na dense contact holes array (B). On the right a zoom into the central region of the aerial image is shown (C). Note: aerial i mage \\nand wafer print do not show the same mask field (structure). \\n \\nProc. of SPIE Vol. 10810  108100V-2\\nDownloaded From: https://www.spiedigitallibrary.org/conference-proceedings-of-spie on 11 Dec 2019\\nTerms of Use: https://www.spiedigitallibrary.org/terms-of-use'),\n",
       " Document(metadata={'producer': 'PDFlib+PDI 9.0.2 (.NET/Win64)', 'creator': 'PdfCompressor 5.0.595', 'creationdate': '2019-12-11T05:45:09-08:00', 'source': 'E:\\\\PythonProjects\\\\DashTest\\\\aims.pdf', 'total_pages': 10, 'page': 3, 'page_label': '4'}, page_content='Scanner equivalent IlluminationChief Ray Angle (CRA) emulation\\nNXE: 33X0 -34X0 ScannerAIMS\" EUV\\nxAOOWS.,MOMS\\naWrvaMrc\\nN>apO\\nOaneraLOn\\nsm.500x\\nOlkrMl\\nonpp\\nDaess.7\\nThrough focus aerial image\\n`OO\\nI\\nStochastics emulation capability*\\n{\\nmJ /cmzAIMSTM mode\\n \\n \\n \\n \\n \\n \\nOn the other hand, the A IMSTM EUV measures the mask without any disturbance by photon/resist stochastics , \\nproviding all information necessary to qualify the mask printing behavior with no impact from stochastics driven \\nwafer processes. In the aerial image all mask optical effects are included, making possible to measure ∆CD and aerial \\nimage properties with high accuracy and repeatability and to provide a clean input for the repair process success and \\nfurther process optimization.  \\nIn order to provide the industry with the competences of defect review and repair verification, as well as mask actinic \\nqualification described above, the AIMSTM EUV core capabilities as shown in Figure 3 are provided: \\n• Scanner equivalent illumination: the AIMSTM EUV systems guarantees an equivalent image generation as on \\nthe NXE 33X0 and NXE34X0 EUV scanner systems. The information for the creation of the aerial image is \\ncollected by the projection optics the same way as it is on scanner, providing an equivalent image formation \\nprocess which also supports different illumination schemes as available in exposure tools.  \\n• Chief ray angle emulation: the AIMS TM EUV illuminates the mask in one small spot, whereas the scanner \\nslit illuminates the mask across the entire 104mm exposure field. Depending on the X position to be imaged \\non the mask, the angular distribution of EUV photons hitting the structure is different having the same polar \\n6 degree chief ray angle but different azimuthal component which introduces different shadowing across the \\nmask X axis. AIMS TM EUV can fully emulate this effect by the synchronized movement of the sigma and \\nNA apertures.  \\n \\n \\nFigure 3: AIMSTM EUV core capabilities for defect disposition and repair verification applications. See text for description. \\n \\n• Through focus aerial image: the final product of AIMS TM EUV is a focus stack of aerial images, i.e. one \\naerial image can be acquired for several focus planes, therefore allowing through focus defect disposition \\nand process window optimization studies. \\n• Stochastics emulation: having the detailed knowledge of the AIMSTM EUV system , we can provide an  \\nemulation of the dose seen by the wafer on the scanner, allowing the user to measure with the same photon \\nnumber per area as used in wafer exposure and thereby introduce the photon shot noise component in the \\nqualification of the mask printing process.  The bottom right panel of Figure 3 shows an  exemplary 2x2um \\nfield with 64nm L/S pattern on AIMS TM EUV calibration mask, measured in Stochastics mode (left) and in \\nnormal defect review mode (right). In AIMS TM defect review mode the stochastic variations are (almost) \\n“switched off”, allowing for most reliable defect characterization. In stochastics mode the photon noise \\ncontribution to e.g. LWR, local CDU or process-variation bands in hotspot analysis can be measured. The 8 \\nmJ/cm2 dose is the equivalent of a scanner dose of 40mJ/cm2 in the aerial image with 20% resist absorption. \\n3. STATUS UPDATE FROM THE PRODUCTION PIPELINE \\nThe AIMSTM EUV first batch of tools built consist of a prototype system and three customer tools. As it was reported \\nearly 2018, the AIMS TM EUV prototype tool achieved the last milestone of the development project in Decemb er \\n2017 and it now serves the purposes  of EMI members access demonstration, platform software and hardware \\ndevelopment, training for customer operators and ZEISS service personnel, as well as the development of new a erial \\nimaged based applications.  To describe the tool availability during the afore mentioned EMI access campaigns, the \\ngraph in Figure 4 shows the recorded productive time for each measurement slot: after the first campaigns in which \\nthe level of machine automation was still limited and control software features were still being developed, the platform \\ndemonstrates very good availability and performance quality very well comparable to customer tools. As it has been \\nreported in [7], the first AIMS TM EUV customer tool has been handed over to Intel mask shop for insertion  into \\nproduction, following successful integration and final acceptance. \\nProc. of SPIE Vol. 10810  108100V-3\\nDownloaded From: https://www.spiedigitallibrary.org/conference-proceedings-of-spie on 11 Dec 2019\\nTerms of Use: https://www.spiedigitallibrary.org/terms-of-use'),\n",
       " Document(metadata={'producer': 'PDFlib+PDI 9.0.2 (.NET/Win64)', 'creator': 'PdfCompressor 5.0.595', 'creationdate': '2019-12-11T05:45:09-08:00', 'source': 'E:\\\\PythonProjects\\\\DashTest\\\\aims.pdf', 'total_pages': 10, 'page': 4, 'page_label': '5'}, page_content=\"jIll'IMMPr.i-M-711'Ehmikw\\n-V\\nos\\n-0.5\\nI\\nos\\nL\\n,-0.500.5\\noa\\n06\\no,,\\n \\n \\n \\n \\n \\n \\n \\n \\nFigure 4: AIMSTM EUV prototype productive time as measured during EMI customer access campaigns. P roductive time is \\nmeasured within timeframe of the CAS campaign only, neglecting e.g. preparation efforts to bring the tool to measurement stat e. \\nProductive time is not measured according to SEMI E-10 standard for uptime. \\n \\nThe second and third customer tools also successfully passed factory acceptance demonstrating excellent imaging \\nperformance and tool stability.  These systems are now in integration at two different customer  sites and after going \\nthrough hardware integration and start -up phase, their performance will be tested within final acceptance and later \\nthey will be handed over to customers for insertion into the production flow. \\n4. AIMSTM EUV QUALIFICATION OF MASK 3D EFFECTS: PATTERN SHIFT THROUGH \\nFOCUS \\nOver the recent years the AIMSTM EUV platform has been employed by ZEISS and the EMI members for the detailed \\nstudy of EUV imaging topics [e.g. 7]. To continue on the series, the mask 3D effect given by the pattern shift through \\nfocus typical of EUV imaging process will be described and quantified i n this chapter. A confirmation of the relative \\nimportance of this effects for the overall EUV imaging budget can be noticed from the number of investigations that \\nrecently appeared in the literature [8] which try to quantify this effect as a function of typical mask and lithographic \\nprocess parameters (e.g. illumination conditions, structure pitch, absorber height). In fact, the impact of pattern shift \\nthrough focus on EUV imaging is already being qualified with 0.55 NA [9]. \\n \\n \\nFigure 5: Graphical description of the origin for the telecentricity effect generated in the aerial image. Top row: light rays from the \\nentrance pupil hit the mask with a narrow spectrum of incidence angles distributed around 6 deg. The indices S and L refer to \\nSmaller and Larger angle of incidence with respect to the nominal chief ray angle of 6 deg (object side). Bottom row: on the left  \\nan ideal dipole illumination pupil is displayed (S and L refer to the angles as in the top row). Right: Exit pupil, in which the \\ndiffraction orders coming from the two poles collected into the NA are displayed with different intensities and coded 0 to 2. \\n \\nFigure 5 attempts at graphically explaining the cause of pattern shift through focus, i.e. the telecentricity effect. \\nBecause of the reflective nature of EUV mask, the at mask ingoing and outgoing ray bundles have to be separated by \\na minimum angle; in order to meet this requirement, at 0.33NA imaging the mask is illuminated with EUV photons \\nbeing distributed about a chief ray angle at object (CRAO) of 6 degrees. If α is the half angular range of t he EUV \\nphotons going through the entrance pupil, the two extremes angles which are used in the imaging process are 6 ±  α, \\nrespectively labeled with L (large) and S (small) in Figure 5. The second component to be considered in the formation \\nProc. of SPIE Vol. 10810  108100V-4\\nDownloaded From: https://www.spiedigitallibrary.org/conference-proceedings-of-spie on 11 Dec 2019\\nTerms of Use: https://www.spiedigitallibrary.org/terms-of-use\"),\n",
       " Document(metadata={'producer': 'PDFlib+PDI 9.0.2 (.NET/Win64)', 'creator': 'PdfCompressor 5.0.595', 'creationdate': '2019-12-11T05:45:09-08:00', 'source': 'E:\\\\PythonProjects\\\\DashTest\\\\aims.pdf', 'total_pages': 10, 'page': 5, 'page_label': '6'}, page_content='11E1111111111\\nII11111111\\n6\\n4\\n4\\n-6\\n-2.0-1.5\\nSim Hor. Iso -DipoleY\\nSim Ver. Iso -DipoeX\\n--Exp. Hor. Iso -DipoleY\\n-- Exp. Ver. !so -Dipole X\\n-10-050005\\nFocus [um]\\n101520\\n \\n \\n \\n \\n \\n \\nof the telecentricity effect is the angular dependence of the EUV reflectivity by a Bragg multi -layer such as a EUV \\nmask; a tilt of few degrees of the incident angle can return a significantly different reflectivity of the same mask \\nsample. This reflectivity asymmetry, in addition to the main effect introduced by the geometric imbalance in the over \\ncasted shadow produced by the absorber stack , introduces a shift of the pattern placement, which is a relevant effect \\nfor EUV lithography which needs to be quantified and biased for on the mask. By employing  an exemplary dipole \\nillumination as the one shown in the bottom panel of Figure 5, in which the two poles are separated by a few degrees, \\nthe same index diffraction orders reflected from the mask will have a different intensi ty whether they are generated \\nfrom the L or S pole.  \\nPrevious attempts for quantifying the pattern shift through focus for a dense contact holes array surrounded by anchor \\nlines structures have been reported as measured on the SHARP tool [10], in which only an upper limit to this quantity \\ncould be set. A similar measurement campaign was run on the AIMS TM EUV system in order to quantify the amount \\nof pattern shift through focus as a function of several imaging parameters such as azimuthal position within the scanner \\narc slit, illumination pupil and structure pitch and orientation. In order to measure the pattern placement, a threshold \\nis calculated for the best focal position and used to calculate the pattern position to be center point between the two \\nintersections of the intensity profile with the threshold level.  \\n \\n \\nFigure 6: Left column: AIMSTM EUV aerial image of a dense lines and spaces array (64nm at mask) in which an isolated feature \\nwith same nominal CD is within the same field of view. The white dashed line in each plot shows the cutline used for the patt ern \\nshift through focus analysis. Center column: 1D intensity profiles (intensity per pixel) along the cutline shown in the left column \\naerial images (~8µm long). On the Y axis are the 25 different focus levels between ±2 µm measured within the focus stack. Right: \\ncomparison between simulation and measurement results. For the extreme focus levels a CD could not be measured as the intensity \\nprofile was below threshold level.  \\nThe first results are presented in Figure 6, in which the pattern shift for isolated horizontal and vertical spaces is \\nmeasured for several focus positions in the center of the m ask, and compared to expectation values from rigorous \\nsimulations. Due to symmetry around oblique CRA (6 deg), a significant pattern-shift through focus is to be expected \\nfor horizontal structures , whereas for the vertical counterparts this effect should b e negligible. AIMS TM EUV \\nmeasurements qualify the fundamental differences of horizontal and vertical structures due to oblique CRA , \\nconfirming the trends also observed in simulation (Figure 6, right panel). The second imaging parameter which was \\ninvestigated in the framework of the pattern shift through focus qualification is the X position within the scanner field. \\nThe aerial images of an isolated horizontal and vertical space were acquired for 10 focus positions in the center and \\ntwo mid-edge positions (±26 mm) across the scanner arc and the pattern shift through focus compared for the structure \\norientation and scanner arc position. From the results in Figure 7 it can be seen that the rotation of the azimuthal \\ncomponent of the CRAO has no significant impac t on the patterns shift through focus of the horizontal lines, as all \\nthree lines follow the same trend both qualitatively and quantitatively. On the other hand, due to the asymmetry \\nintroduced by the CRAO rotation, the pattern placement through focus as measured for vertical features shows a strong \\ndependence on the mask position, displaying opposite behaviors in extreme cases; in the center of the mask a negligible \\npattern shift is observed, whereas at the two side positions an increasing (decreasing) pattern shift is measured for \\nnegative (positive) scanner arc X position, with both curves showing well comparable total ranges. Further, the \\ndependence of the pattern shift through focus on the illumination pupil settings was qualified; the same measurements \\nof an isolated horizontal space were acquired with NXE:33X0 quasi-conventional and dipole-Y settings, the imaging \\npupils as measured by the AIMSTM EUV system being shown in the right panels of Figure 8. The technique employed \\nto extract information from the aerial images as for the pattern placement through focus was the same used for the \\nqualification of the previous process parameters: the AIMSTM EUV measurements show, that the pattern shift through \\nfocus heavily depends on the shape of the illumination pupil (see left panel of Figure 8). As a last imaging parameter \\nto be investigated for pattern placement shift through focus, the structure pitch was selected: the same aerial images \\nmeasured with the dipole-Y pupil of an horizontal isolated space as used for previous measurements have been \\nProc. of SPIE Vol. 10810  108100V-5\\nDownloaded From: https://www.spiedigitallibrary.org/conference-proceedings-of-spie on 11 Dec 2019\\nTerms of Use: https://www.spiedigitallibrary.org/terms-of-use'),\n",
       " Document(metadata={'producer': 'PDFlib+PDI 9.0.2 (.NET/Win64)', 'creator': 'PdfCompressor 5.0.595', 'creationdate': '2019-12-11T05:45:09-08:00', 'source': 'E:\\\\PythonProjects\\\\DashTest\\\\aims.pdf', 'total_pages': 10, 'page': 6, 'page_label': '7'}, page_content='r\\nPattern shift (nm at mask)Pattern shift (nm at mask)\\n=\\nN\\n$ b\\nc\\nG\\nm\\nV\\nG\\nr\\nÁ N O N AOf\\nMP\\n4\\nÉ 2\\n-4\\n-Quasi- conventional--Dipole -y\\n-2-1,5-1-0,500,511,52\\nFocus position (um at mask)\\nIPt\\n10\\n8\\n6\\n4\\n2\\n0\\n2\\n-3-2-101 2\\nFocus position (um at mask)\\n3\\n6\\nÑ 4\\nó22\\n26É\\nt 0fi\\n- 41-26\\n--52E -2\\nE.-4\\n-6\\n-2-1,5-1-0,5005\\nFocus position (um at mask)\\n152\\n \\n \\n \\n \\n \\n \\nselected, for two different pitches (isolated and dense, i.e. 1 to 1) can be found for the same nominal CD at mask \\nwithin the same field of view (see left panel in Fig ure 9). The impact of the structure pitch on the trends observed in \\nthe measurements of the pattern shift through focus of horizontal spaces (and lines) can be seen in the two graphs \\nreported in Figure 9. The plot for the isolated space resembles the ones already presented in Figure 7, and it is greatly \\ndifferent from the trends measured for the dense lines and spaces (yellow region of interest in the aerial image of \\nFigure 9): for this 1 to 1 structure pitch, no significant pattern shift is observed for negative mask positions, whereas \\nit increases exponentially going through the center towards the positive X edge of the mask.  \\n \\nFigure 7: AIMSTM EUV qualification of pattern shift through focus dependence on feature orientation for the isolated space features \\nshown in the aerial image snapshots on the right. The pattern shift through focus measured from the aerial image stack is plotted \\nin nm at mask level against the focus position for different mask X positions given in mm. \\n \\n \\n \\nFigure 8: AIMSTM EUV qualification of pattern shift through focus  dependence on the illumination scheme for the illumination \\npupils shown on the right (respectively q uasi-conventional and d ipole-Y). The pattern is the same isolated horizontal space of \\nFigure 7, for which the sh ift through focus measured from the aerial image stack is plotted in nm at mask level against the focus \\nposition for the two different illumination pupils. \\n \\n \\nFigure 9: AIMSTM EUV qualification of pattern shift through focus dependence on structure pitch, i.e. isolated and dense. A focus \\nstack of the same mask field has been collected with the five different scanner X positions (in mm) as reported in the plots legend. \\nThe red and yellow circles in the pattern shift plots refer to the colored ROIs in the aerial image (red and yellow for isolated and \\ndense feature respectively). \\n \\nThe results of this section clearly show the complexity of the telecentricity effect as for the impact it has on the EUV \\nimaging process. The strong dependencies on several process parameters will have to be taken into account by mask \\narchitects in order to be biased and/or corrected for already on the mask. In order to deliver the perfect mask for EUV \\nProc. of SPIE Vol. 10810  108100V-6\\nDownloaded From: https://www.spiedigitallibrary.org/conference-proceedings-of-spie on 11 Dec 2019\\nTerms of Use: https://www.spiedigitallibrary.org/terms-of-use'),\n",
       " Document(metadata={'producer': 'PDFlib+PDI 9.0.2 (.NET/Win64)', 'creator': 'PdfCompressor 5.0.595', 'creationdate': '2019-12-11T05:45:09-08:00', 'source': 'E:\\\\PythonProjects\\\\DashTest\\\\aims.pdf', 'total_pages': 10, 'page': 7, 'page_label': '8'}, page_content='7g111111\\n \\n \\n \\n \\n \\n \\nproduction, a qualification of the full mask printing behavior is necessary and a benchmarking of simulations results \\nwith actinic measurements is needed to establish and optimize production processes. As shown in this section, the \\npattern shift through focus requires the  high quality f ull scanner emulation provided by the AIMSTM EUV system: \\nmore generally, the AIMSTM EUV platform provides the means for a full qualification of the mask 3D effects \\ndependence on process parameters. \\n5. AIMSTM EUV PRINTING ASSESSMENT OF PROGRAMMED MULTILAYER DEFECTS \\nPrevious studies of multi-layer defect printability with AIMSTM EUV, as well as the comparison between wafer prints \\nand AIMS TM EUV aerial image were performed in collaborati on with Globalfoundries in the framework of the \\ncustomer access program to th e AIMSTM EUV prototype [ 11]. In this contribution, we report results from a multi \\nmetrology study of exemplary native multi -layer defects as detected by the actinic blank inspection tool on the \\nPASHAL EUV mask. The full study was done on a sample of 146 multi-layer defects within a collaboration between \\nImec, AMTC and ZEISS in the framework of the 7nm technology (SeNaTe) European project [12]. Figure 10 shows \\na qualitative comparison between the NXE:3300 scanner wafer print of six exemplary native multi -layer defects and \\nthe aerial image acquired by AIMS TM EUV employing full scanner emulation. Within an area of 8 by 8 um, \\ncorresponding to the full field of view of the AIMS TM EUV camera, eight ‘T’ and ‘L’ shaped structures can be \\nobserved both on the wafer print and in the aerial image. These anchor structures were printed on the mask after the \\nblank inspection identified the position of the native multi-layer defects, in order for these defects to be measured in \\nthe center of this frame. \\n \\n \\nFigure 10: Qualitative comparison between wafer prints of PASHAL exemplary multi-layer defects and the AIMSTM EUV aerial \\nimage of the same mask fields. According to the design and ABI inspection results, the defect is expected in the center of the bright \\nred frame markers (wafer exposed with NXE:3300 scanner, data courtesy of Imec). \\n \\nFigure 10 shows a remarkably good agreement between the defects printability as measured in the aerial image and \\nas observed on wafer prints over the range of printing impact . Employing the capability of measuring through focus \\nprovided by AIMSTM EUV, it can be seen that this good correlation extends to defocus conditions within the process \\nwindow. Two of the 146 defects found on the mask were investigated in greater details and the results are shown in \\nthis work. Figure 11 presents a multi metrology printability assessment of one specific multi- layer defect: on the left \\npanel, the mask SEM image, in which the defect frame structures are well visible but a defect is not detected at its \\ncenter. AFM inspection was able to measure this specific defect and the profile along the trench can be seen in the \\nmid left panel of Figure 11, indicating the presence of a ~4nm high bump on top of the multi -layer reflective surface.  \\n \\n \\nFigure 11: Multi-metrology printability assessment of buried blank defect. From left to right: Mask SEM image, in which a defect \\nis not visible; AFM profile (courtesy of ZEISS SMT), averaged and smooth along the trench, in which a ~4nm high bump is visible; \\nwafer print of the same mask field, with the defect clearly printing and resulting in a large bridging of two adjacent lines; AIMSTM \\nEUV image of the same defective area, where the defect is visible in the center. Two inlets are included in the two images on  the \\nright, showing the position of the printing defect as printed by the scanner and measured by AIMSTM EUV compared to the position \\nexpected from ABI.  \\nProc. of SPIE Vol. 10810  108100V-7\\nDownloaded From: https://www.spiedigitallibrary.org/conference-proceedings-of-spie on 11 Dec 2019\\nTerms of Use: https://www.spiedigitallibrary.org/terms-of-use'),\n",
       " Document(metadata={'producer': 'PDFlib+PDI 9.0.2 (.NET/Win64)', 'creator': 'PdfCompressor 5.0.595', 'creationdate': '2019-12-11T05:45:09-08:00', 'source': 'E:\\\\PythonProjects\\\\DashTest\\\\aims.pdf', 'total_pages': 10, 'page': 8, 'page_label': '9'}, page_content='AFM review\\nVIII11111111III\\nu\\nAIMSTM EUV\\nIntensity profile\\n \\n \\n \\n \\n \\n \\n \\nThe most important result come from the comparison of the wafer print and AIMS TM EUV aerial image: in both \\nimages, the center of gravity of the defect is measured consistently at about 1 half -pitch distance from the expected \\nposition (measured with ABI). This example demonstrates the additional value of actinic review via AIMS TM EUV: \\nthe deviation of the actual defect position from the expected position can be quantified, and the printability assessment \\ndelivers the information which is the most accurate and closest  to the scanner wafer printing result. The full \\nqualification of the printing behavior is only possible via the an alysis of the AIMSTM EUV aerial image: for this \\nspecific defect case, what was expected to be buried underneath the absorber, results in printing as a bridging defect.  \\nAs a second example, a case of defect detection underneath the absorber is shown in Figure 12. The left two panels \\nshow the aerial image full field of view with the multi-layer defect expected in the center of the bright frame structures, \\nas well as a zoom into the image center, centered on the defect position. Within the zoomed in aerial image, a dark \\nspot is visible at the expected defect position: follow up AFM review shows the presence of a ~2.5nm deep pit, which \\ncan measured by AIMS TM EUV with a larger than 25% contrast. The Fresnel reflection from the absorber surface  \\ncalculated for a TaN based absorber would be very small when compared with the signal measured in the aerial image. \\nThe observed multi-layer defect and mask speckle seen within the AIMS TM EUV images in the un-patterned areas is \\ntherefore dominantly from l ight amplitude that has transmitted the absorber, is reflected in the multilayer, and has \\ntransmitted the absorber a second time. \\n \\n \\nFigure 12: AIMSTM EUV defect detection below absorber. From left to right: AIMS TM EUV aerial image of the defective mask \\nfield; zoom into the aerial image with a different contrast and color scale used to highlight the intensity drop caused by the defects \\nunderneath the absorber; intensity profile of the defect as measured in the aerial image; AFM profile of the same defect (courtesy \\nof ZEISS SMT). \\n \\nAlso when underneath the absorber, a ML -defect is visible and its imaging impact can be quantified. The system is \\nextremely sensitive to the mask material compositions and its changes in optical constants.  This sensitivity opens a \\nrange of diverse applications that the platform can support beyond defect review and repair verification: qualification \\nof phase shift masks, material qualification such as thinner absorbers (Co, Ni) and their imaging impacts, pattern shift \\nreview, black border qualification and process development. Concluding, t he AIMSTM EUV platform capabilities go \\nwell beyond defect disposition and review. \\n6. SUMMARY AND OUTLOOK \\nIn this paper, the most recent achievements and measurement results of the AIMS TM EUV platform have been \\npresented. This actinic metrology platform provides all capabilities for a complete defect review and EUV mask \\nqualification. In specific, we have shown that: \\n• The first commercial tool has been handed over to Intel mask shop  in production following the successful  \\ntool integration and final acceptance qualification. \\n• Two more customer tools successfully passed factory acceptance with excellent performance. \\n• AIMSTM EUV capabilities provides all the means for a full ‘scanner aware’ qualification of the mask 3D \\neffects dependence on process parameters. \\n• A good correlation to wafer prints over the range of printing impact of programmed multi -layer defects has \\nbeen shown on PASHAL mask. \\n• AIMSTM EUV additional values demonstrated for exemplary multi-layer defects. The platform is extremely \\nsensitive to material optical properties and can detect and qualify imaging impact of defects buried \\nunderneath absorber. Moreover, a m easurement of the deviation of the actual defective position from the \\nexpected position given by an actinic inspection tool can be qualified with the ‘scanner aware’ actinic aerial \\nimaging technology provided by AIMSTM EUV. \\n \\nThe capabilities of the AIMSTM EUV platform go well beyond defect disposition and review: platform extensions can \\noffer both hardware (High NA upgrade, pellicle upgrade) and software solutions (AIMSTM AutoAnalysis EUV, aerial \\nimage content analysis). \\nProc. of SPIE Vol. 10810  108100V-8\\nDownloaded From: https://www.spiedigitallibrary.org/conference-proceedings-of-spie on 11 Dec 2019\\nTerms of Use: https://www.spiedigitallibrary.org/terms-of-use'),\n",
       " Document(metadata={'producer': 'PDFlib+PDI 9.0.2 (.NET/Win64)', 'creator': 'PdfCompressor 5.0.595', 'creationdate': '2019-12-11T05:45:09-08:00', 'source': 'E:\\\\PythonProjects\\\\DashTest\\\\aims.pdf', 'total_pages': 10, 'page': 9, 'page_label': '10'}, page_content='7. ACKNOWLEDGEMENTS \\nThe authors would like to thank SUNY POLY SEMATECH and the EMI members for their support and contributions \\nto the AIMSTM EUV project. ZEISS thanks IMEC for providing the wafer print images of the PASHAL mask.  This \\nPASHAL mask was a collaboration between imec, AMTC and Zeiss, under EU project “ECSEL JU 662338 SeNaTe”. \\n \\n8. REFERENCES \\n[1] M. Mastenbroek, ‘NXE:3400B scanner, EUV volume manufacturing for 7nm node lithography and beyond’, \\nProc. SPIE Vol. 10809, 10809XX, 2018. \\n[2] https://www.eetimes.com/document.asp?doc_id=1333827&page_number=1 \\n[3] B. Kim, P. Buck, P. Morgan, T. Scherübl, T. Onoue, Panel discussion BACUS Photomasks Technology and EUV \\nLithography Conference 2018, Monterey, CA, USA. \\n[4] V. Philipsen at al., ‘Novel EUV mask absorber evaluation in support of next  generation EUV imaging ’, Proc. \\nSPIE Vol. 10810, 10810XX, 2018. \\n[5] D. Hellweg et al., ‘Actinic Review of EUV masks: Challenges and achievements in delivering the perfect mask \\nfor EUV production’, Proc. SPIE Vol. 10451, 104510J, 2017. \\n[6] R. Capelli et al., ‘Aerial image based metrology of EUV masks: recent achievements, status and outlook for the \\nAIMS™ EUV platform’, Proc. SPIE Vol. 10583, 1058311, 2018. \\n[7] Chen et al., ‘Evaluation of EUV mask impacts on wafer line -edge roughness using  aerial and SEM image \\nanalyses’, Proc. SPIE Vol. 10583, 105830J, 2018. \\n[8] E. van Setten et al., ‘High-NA EUV lithography: the next step in EUV imaging’, Proc. SPIE Vol. 10809, 2018. \\n[9] V. Wiaux et al., ‘Mask 3D effects experimental measurements with 0.55 NA anamorphic imaging’, Proc.  SPIE \\nVol. 10809, 2018. \\n[10] O. Wood et al., ‘Measurement of through-focus EUV pattern shifts using the SHARP actinic microscope’, Proc. \\nSPIE Vol. 10450, 1450E, 2017. \\n[11] E. Verduijn et al., ‘Printability and actinic AIMS review of programmed mask blank defects ’, Proc. SPIE Vol. \\n10143, 101430K, 2017. \\n[12] R. Jonckheere et al., ‘Blank defect coverage budget for 16nm half -pitch single EUV exposure’, Proc. SPIE Vol. \\n10807, 2018. \\nProc. of SPIE Vol. 10810  108100V-9\\nDownloaded From: https://www.spiedigitallibrary.org/conference-proceedings-of-spie on 11 Dec 2019\\nTerms of Use: https://www.spiedigitallibrary.org/terms-of-use')]"
      ]
     },
     "execution_count": 11,
     "metadata": {},
     "output_type": "execute_result"
    }
   ],
   "source": [
    "pages"
   ]
  },
  {
   "cell_type": "code",
   "execution_count": 1,
   "metadata": {},
   "outputs": [],
   "source": [
    "from langchain_ollama import ChatOllama\n",
    "from langchain_huggingface import HuggingFaceEmbeddings\n",
    "from langchain_core.vectorstores import InMemoryVectorStore\n",
    "llm = ChatOllama(\n",
    "    model=\"llama3.2\",\n",
    "    # model=\"mistral-nemo\",\n",
    "    temperature=0.8,\n",
    "    # other params...\n",
    ")"
   ]
  },
  {
   "cell_type": "code",
   "execution_count": 2,
   "metadata": {},
   "outputs": [],
   "source": [
    "import operator\n",
    "from typing import List, Literal, TypedDict\n",
    "\n",
    "from langchain_core.output_parsers import StrOutputParser\n",
    "from langchain_core.prompts import ChatPromptTemplate\n",
    "from langchain_core.runnables import RunnableConfig\n",
    "from langgraph.constants import Send\n",
    "from langgraph.graph import END, START, StateGraph\n",
    "\n",
    "AGENT_SUMMARY_SYSTEM_PROMPT = \"\"\"\n",
    "You are a helpful summarization assistant specialized in summarizing documents or large blocks of text. Your task is to:\n",
    "- Summarize the content into concise, key points.\n",
    "- Focus on extracting relevant information while maintaining clarity.\n",
    "- Summarize technical documents, articles, or user-uploaded files.\n",
    "\n",
    "Guidelines:\n",
    "1. Condense large content into easy-to-understand summaries.\n",
    "2. Maintain the key facts and ideas while simplifying the language.\n",
    "3. Ask for clarification if the content is ambiguous.\n",
    "4. Do not be redundant. For example, do not provide same contents for 'key points' and 'key takeaways'.\n",
    "5. For technical documents or articles, add key specific numbers in the summary.\n",
    "\n",
    "Examples:\n",
    "- \"summarize: Summarize this article about machine learning in a few paragraphs.\"\n",
    "- \"summarize: Extract key points from the attached report.\"\n",
    "\"\"\"\n",
    "\n",
    "AGENT_SUMMARY_INITIAL_PROMPT = \"\"\"\n",
    "Write a summary based on the following user query and context.\n",
    "If the user query sets a limit to the output summary size, ignore it and provide a more comprehensive summary.\n",
    "Query: {query}\n",
    "Context: {context}\n",
    "\"\"\"\n",
    "\n",
    "AGENT_SUMMARY_REFINED_PROMPT = \"\"\"\n",
    "Produce an updated summary of existing summary and new context, based on the user query.\n",
    "If the user query sets a limit to the output summary size, ignore it and provide a more comprehensive summary.\n",
    "Query: {query}\n",
    "Existing summary: {existing_answer}\n",
    "New context:\n",
    "------------\n",
    "{context}\n",
    "------------\n",
    "\"\"\"\n",
    "\n",
    "AGENT_SUMMARY_FINAL_PROMPT = \"\"\"\n",
    "Produce a final response to the user based on the following user query and existing summary.\n",
    "Query: {query}\n",
    "Existing summary: {existing_answer}\n",
    "\"\"\"\n",
    "\n",
    "class SummarizationAgent:\n",
    "    def __init__(self):\n",
    "        pass\n",
    "\n",
    "# Initial summary\n",
    "summarize_prompt = ChatPromptTemplate(\n",
    "    [   \n",
    "        (\"system\", AGENT_SUMMARY_SYSTEM_PROMPT),\n",
    "        (\"human\", AGENT_SUMMARY_INITIAL_PROMPT),\n",
    "    ]\n",
    ")\n",
    "refine_prompt = ChatPromptTemplate(\n",
    "    [\n",
    "        (\"system\", AGENT_SUMMARY_SYSTEM_PROMPT),\n",
    "        (\"human\", AGENT_SUMMARY_REFINED_PROMPT),\n",
    "    ]\n",
    ")\n",
    "final_prompt = ChatPromptTemplate(\n",
    "    [\n",
    "        (\"system\", AGENT_SUMMARY_SYSTEM_PROMPT),\n",
    "        (\"human\", AGENT_SUMMARY_FINAL_PROMPT),\n",
    "    ]\n",
    ")\n",
    "\n",
    "initial_summary_chain = summarize_prompt | llm | StrOutputParser()\n",
    "refine_summary_chain = refine_prompt | llm | StrOutputParser()\n",
    "final_summary_chain = final_prompt | llm | StrOutputParser()\n",
    "\n",
    "class State(TypedDict):\n",
    "    query: str\n",
    "    contents: List[str]\n",
    "    index: int\n",
    "    summary: str\n",
    "\n",
    "\n",
    "\n",
    "# We define functions for each node, including a node that generates\n",
    "# the initial summary:\n",
    "async def generate_initial_summary(state: State, config: RunnableConfig):\n",
    "    summary = await initial_summary_chain.ainvoke(\n",
    "        {\"query\": state[\"query\"], \"context\": state[\"contents\"][0]},\n",
    "        config,\n",
    "    )\n",
    "    return {\"summary\": summary, \"index\": 1}\n",
    "\n",
    "\n",
    "# And a node that refines the summary based on the next document\n",
    "async def refine_summary(state: State, config: RunnableConfig):\n",
    "    content = state[\"contents\"][state[\"index\"]]\n",
    "    summary = await refine_summary_chain.ainvoke(\n",
    "        {\"query\": state[\"query\"], \"existing_answer\": state[\"summary\"], \"context\": content},\n",
    "        config,\n",
    "    )\n",
    "\n",
    "    return {\"summary\": summary, \"index\": state[\"index\"] + 1}\n",
    "\n",
    "async def final_summary(state: State, config: RunnableConfig):\n",
    "    summary = await final_summary_chain.ainvoke(\n",
    "        {\"query\": state[\"query\"], \"existing_answer\": state[\"summary\"]},\n",
    "        config,\n",
    "    )\n",
    "\n",
    "    return {\"summary\": summary}\n",
    "\n",
    "# Here we implement logic to either exit the application or refine\n",
    "# the summary.\n",
    "def should_refine(state: State) -> Literal[\"refine_summary\", \"final_summary\"]:\n",
    "    if state[\"index\"] >= len(state[\"contents\"]):\n",
    "        return \"final_summary\"\n",
    "    else:\n",
    "        return \"refine_summary\"\n",
    "\n",
    "\n",
    "\n",
    "graph = StateGraph(State)\n",
    "graph.add_node(\"generate_initial_summary\", generate_initial_summary)\n",
    "graph.add_node(\"refine_summary\", refine_summary)\n",
    "graph.add_node(\"final_summary\", final_summary)\n",
    "\n",
    "graph.add_edge(START, \"generate_initial_summary\")\n",
    "graph.add_conditional_edges(\"generate_initial_summary\", should_refine)\n",
    "graph.add_conditional_edges(\"refine_summary\", should_refine)\n",
    "graph.add_edge(\"final_summary\", END)\n",
    "app = graph.compile()"
   ]
  },
  {
   "cell_type": "code",
   "execution_count": 16,
   "metadata": {},
   "outputs": [],
   "source": [
    "from langfuse import Langfuse\n",
    "from langfuse.callback import CallbackHandler\n",
    "\n",
    "langfuse_handler = CallbackHandler(\n",
    "  secret_key=\"sk-lf-00e471ca-2111-4262-a488-8f601f293c6b\",\n",
    "  public_key=\"pk-lf-3898b1bf-11d3-4ef9-8dee-4d9ca2367b50\",\n",
    "  host=\"http://localhost:3000\"\n",
    ")\n",
    "\n",
    "class SummaryState(TypedDict):\n",
    "    query: str\n",
    "    context: List[str]\n",
    "    index: int\n",
    "    summary: str\n",
    "\n",
    "\n",
    "class SummarizationAgent:\n",
    "    def __init__(self, model=\"llama3.2\", temperature=0.8):\n",
    "        self.model = ChatOllama(\n",
    "            model=model,\n",
    "            temperature=temperature\n",
    "        )\n",
    "        self.callbacks = [langfuse_handler]\n",
    "\n",
    "        # Initial summary\n",
    "        summarize_prompt = ChatPromptTemplate(\n",
    "            [   \n",
    "                (\"system\", AGENT_SUMMARY_SYSTEM_PROMPT),\n",
    "                (\"human\", AGENT_SUMMARY_INITIAL_PROMPT),\n",
    "            ]\n",
    "        )\n",
    "        refine_prompt = ChatPromptTemplate(\n",
    "            [\n",
    "                (\"system\", AGENT_SUMMARY_SYSTEM_PROMPT),\n",
    "                (\"human\", AGENT_SUMMARY_REFINED_PROMPT),\n",
    "            ]\n",
    "        )\n",
    "        final_prompt = ChatPromptTemplate(\n",
    "            [\n",
    "                (\"system\", AGENT_SUMMARY_SYSTEM_PROMPT),\n",
    "                (\"human\", AGENT_SUMMARY_FINAL_PROMPT),\n",
    "            ]\n",
    "        )\n",
    "\n",
    "        self.initial_summary_chain = summarize_prompt | self.model | StrOutputParser()\n",
    "        self.refine_summary_chain = refine_prompt | self.model | StrOutputParser()\n",
    "        self.final_summary_chain = final_prompt | self.model | StrOutputParser()\n",
    "\n",
    "        self._init_graph()\n",
    "\n",
    "    def _init_graph(self):\n",
    "        graph = StateGraph(SummaryState)\n",
    "        graph.add_node(\"generate_initial_summary\", self.generate_initial_summary)\n",
    "        graph.add_node(\"refine_summary\", self.refine_summary)\n",
    "        graph.add_node(\"final_summary\", self.final_summary)\n",
    "\n",
    "        graph.add_edge(START, \"generate_initial_summary\")\n",
    "        graph.add_conditional_edges(\"generate_initial_summary\", self.should_refine)\n",
    "        graph.add_conditional_edges(\"refine_summary\", self.should_refine)\n",
    "        graph.add_edge(\"final_summary\", END)\n",
    "        self.app = graph.compile()\n",
    "    \n",
    "    # We define functions for each node, including a node that generates\n",
    "    # the initial summary:\n",
    "    async def generate_initial_summary(self, state: SummaryState, config: RunnableConfig):\n",
    "        summary = await self.initial_summary_chain.ainvoke(\n",
    "            {\"query\": state[\"query\"], \"context\": state[\"context\"][0]},\n",
    "            config,\n",
    "        )\n",
    "        return {\"summary\": summary, \"index\": 1}\n",
    "\n",
    "\n",
    "    # And a node that refines the summary based on the next document\n",
    "    async def refine_summary(self, state: SummaryState, config: RunnableConfig):\n",
    "        content = state[\"context\"][state[\"index\"]]\n",
    "        summary = await self.refine_summary_chain.ainvoke(\n",
    "            {\"query\": state[\"query\"], \"existing_answer\": state[\"summary\"], \"context\": content},\n",
    "            config,\n",
    "        )\n",
    "\n",
    "        return {\"summary\": summary, \"index\": state[\"index\"] + 1}\n",
    "\n",
    "    async def final_summary(self, state: SummaryState, config: RunnableConfig):\n",
    "        summary = await self.final_summary_chain.ainvoke(\n",
    "            {\"query\": state[\"query\"], \"existing_answer\": state[\"summary\"]},\n",
    "            config,\n",
    "        )\n",
    "\n",
    "        return {\"summary\": summary}\n",
    "\n",
    "    # Here we implement logic to either exit the application or refine\n",
    "    # the summary.\n",
    "    def should_refine(self, state: SummaryState) -> Literal[\"refine_summary\", \"final_summary\"]:\n",
    "        if state[\"index\"] >= len(state[\"context\"]):\n",
    "            return \"final_summary\"\n",
    "        else:\n",
    "            return \"refine_summary\"\n",
    "\n",
    "    async def ainvoke(self, query_dict: dict, config: dict):\n",
    "        config[\"callbacks\"] = self.callbacks\n",
    "        response = await self.app.ainvoke(\n",
    "            {\"context\": query_dict[\"context\"], \"query\": query_dict[\"query\"]},\n",
    "            config=config\n",
    "        )\n",
    "\n",
    "        return response\n"
   ]
  },
  {
   "cell_type": "code",
   "execution_count": 17,
   "metadata": {},
   "outputs": [],
   "source": [
    "agent = SummarizationAgent()"
   ]
  },
  {
   "cell_type": "code",
   "execution_count": 18,
   "metadata": {},
   "outputs": [
    {
     "data": {
      "text/plain": [
       "{'query': 'Give me a 5 line summary of the attached file.',\n",
       " 'context': ['PROCEEDINGS OF SPIE\\nSPIEDigitalLibrary.org/conference-proceedings-of-spie\\nAIMS™ EUV tool platform: aerial-\\nimage based qualification of EUV\\nmasks\\nRenzo Capelli, Martin Dietzel, Dirk Hellweg, Grizelda\\nKersteen, Ralf Gehrke, et al.\\nRenzo Capelli, Martin Dietzel, Dirk Hellweg, Grizelda Kersteen, Ralf Gehrke,\\nMarkus Bauer, \"AIMS™ EUV tool platform: aerial-image based qualification of\\nEUV masks,\" Proc. SPIE 10810, Photomask Technology 2018, 108100V (23\\nOctober 2018); doi: 10.1117/12.2501379\\nEvent: SPIE Photomask Technology + Extreme Ultraviolet Lithography, 2018,\\nMonterey, California, United States\\nDownloaded From: https://www.spiedigitallibrary.org/conference-proceedings-of-spie on 11 Dec 2019  Terms of Use: https://www.spiedigitallibrary.org/terms-of-use',\n",
       "  'AIMSTM EUV tool Platform: Aerial image based qualification of \\nEUV masks \\nRenzo Capelli1, Martin Dietzel1, Dirk Hellweg1, Grizelda Kersteen1, Ralf Gehrke1, Markus \\nBauer2 \\n1 Carl Zeiss SMT GmbH, Rudolf-Eber-Str. 2, 73447 Oberkochen, Germany \\n2 Carl Zeiss SMT GmbH, Industriestr. 1, 64380 Roßdorf, Germany \\nABSTRACT \\nWith the EUV high volume manufacturing becoming reality and the closing gap of EUV mask infrastructure, EUV \\nlithography is seeing or will shortly see the first production chips being fabricated with EUV. Pilot production in EUV \\nHVM is most likely realized in a mix-and-match process with 193nm techniques. The degree of complexity introduced \\nby the EUV lithographic process is transferred in parallel also to EUV mask: the combination of process sensitive 3D \\neffects and material dependent EUV reflectivity make even the simplest EUV mask what the community is \\nrecognizing to be a very complex phase object. The qualification of such a complex piece of Infrastructure as the EUV \\nmask is being addressed from many directions: defect review application is always more ba cked up by ancillary \\napplications which aim at qualifying the printing behavior of the mask with the fundamental precondition of a full \\nscanner emulation. ZEISS and the SUNY POLY SEMATECH EUVL Mask Infrastructure consortium have developed \\nand commercialized the EUV aerial image metrology platform, the AIMS™ EUV platform , which fully addresses the \\nindustry requirements for EUV defectivity review. Additionally, this tool platform allows for mask qualification \\napplications based on the employment of aerial image proven technology. \\nIn this paper, the status and recent achievements of the AIMS TM EUV platform will be presented. Promoting the \\ndetailed exploration of the aerial image content potential for EUV process understanding and mask qualification, we \\nwill present recent results on a printability study of embedded EUV multilayer defects, along with providing further \\ninsights into the relevance of mask 3D effects.  \\n \\nKeywords:  Mask metrology, AIMS™, Aerial image review, EUV, scanner emulation, defect review, EUV opt ics \\n \\n1. INTRODUCTION  \\nHaving missed a few nodes of the ones for which EUV lithography was originally planned for, single exposure EUV \\nlithography will have a few more opportunities for semiconductor manufacturing in high volume starting at the 7nm \\nnode. While the source power reaches the target operation value and the exposure tools improve their availability in a \\nproduction environment in the wafer fab [1], the industry is now focusing on closing the gap on the remaining open \\nitems required for a fully operative infrastructure: from the wafer side, a viable resist solution and stochastics failures \\nmanagement are still thorough investigation. On the mask infrastructure side, production worthy solutions for an \\nactinic patterned mask inspection tool and the  mask pellicle are still being addressed . Despite the remaining gaps \\nwhich still need commitment from semiconductor manufacturers and suppliers, EUV lithography has already been \\nintroduced in pilot production, and some layers are already produced using EUV  exposure [2]. On the mask \\nmanufacturing side, zero defects blanks can be manufactured and also absorber defects are in limited numbers on high \\nend masks [3]. Due to the complexity of 3D effects inherent to the EUV imaging process of standard masks with 70nm \\nTa based absorber, some private companies and research institutions are now investigating the solution space for the \\nsimplification of the EUV imaging process, e.g. by employment of thinner and chemically different absorber materials \\n[4] which will also introduce benefits on the scanner side, above all an improvement of the process window.  As we \\nreported in recent contributions [5], the full scanner emulation capabilities provided by AIMS TM EUV can be \\nemployed by the mask shop for process optimizat ion and full understanding of the complexity of the EUV imaging \\nprocess: besides being used in production for defect review and repair verification, the AIMS TM EUV system is the \\nperfect tool to qualify mask 3D effects and qualify production worthy process optimizations to minimize their impact. \\n \\nIn this paper the most evident advantages of AIMSTM EUV aerial image technology in the field of defect review and \\nrepair verification for EUV photomasks, as well as overall qualification of the aerial image formation and the EUV \\nprinting process, will be presented. Section 2 will give a short update on the status of the AIMS TM EUV production \\npipeline. Further studies on the complexity of the EUV imaging process related to mask 3D effects have also been \\nperformed by ZEISS with the AIMSTM EUV and the results will be presented in Section 3. In Section 4 a mult i \\nmetrology qualification of the printing behavior of programmed multilayer defect will be presented.  \\n \\nPhotomask Technology 2018, edited by Emily E. Gallagher, Jed H. Rankin, Proc. of SPIE Vol. \\n10810, 108100V · © 2018 SPIE · CCC code: 0277-786X/18/$18 · doi: 10.1117/12.2501379\\nProc. of SPIE Vol. 10810  108100V-1\\nDownloaded From: https://www.spiedigitallibrary.org/conference-proceedings-of-spie on 11 Dec 2019\\nTerms of Use: https://www.spiedigitallibrary.org/terms-of-use',\n",
       "  'PatterningMetrologyInspectionDefect\\nDisposition\\nRepair\\nVerification\\n \\n#\\n#\\na\\n0*iti i 4\\neA\\n \\n \\n \\n \\n \\n \\n2. AIMSTM EUV AS GOLD STANDARD FOR DEFECT REVIEW AND REPAIR \\nVERIFICATION \\n \\nThe Aerial Image Measurement System ( AIMSTM) tools from ZEISS have been serving the semiconductor industry \\nsince 1993, when the first aerial image algorithm was developed in collaboration with IBM to work in a connection \\nwith a table top microscope. Since then, several systems generations have been introduced to the market in order to \\nfulfill the mask shop need for mask defect review and repair verification applications. As for all AIMSTM systems, the \\nAIMSTM EUV is employed within the back end of the line of a mask shop production environment in a closed loop \\nwith the ZEISS MeRiT® system for mask defect review and repair as shown in Figure 1.  After being inspected by an \\ninspection system, a mask is delivered to AIMS TM EUV along with a list of potential defective areas on the mask \\nwhich could print as defect on the wafer and hinder the per formance of the final chip product. The AIMS TM EUV \\ndefect review delivers the information on the printability of the defects under full scanner emulation conditions \\n(wavelength, NA, illumination conditions, etc.): in order to correctly assess the printability of a defect, AIMSTM EUV \\ncollects all relevant information inherent the aerial image formation process the same way as the EUV NXE scanner \\ndoes, providing therefore an exact preview of what the wafer will see as aerial image without the need of printing any \\nwafer (develop the aerial image itself as a photographic plate). \\n \\n \\nFigure 1: Exemplary mask production flow process. On the top line and in orange highlighted, the steps in which AIMS TM EUV \\nis used. Bottom panel: 1. AIMSTM EUV aerial image of the defect. 2. Mask SEM image of the defective area. 3. Mask SEM image \\nof the repaired area. 4. AIMSTM EUV aerial image of the repaired defect.  \\n \\nAs reported in a recent contribution [6], the aerial image is the ideal place for a full mask qualification, for it measures \\nthe mask without any disturbance by photon/resist stochastics. Figure 2 shows a qualitative comparison between the \\nwafer print and the aerial image of a dense contact holes array (structures are not the same): as it can be seen from the \\nwafer print image, no clear separation between a mask error and wafer process can be made, given the noisy \\ndistribution of the feature size at wafer and the fact that a localization of an individual repaired defect with no anchor \\nfeature nearby becomes very complex. These factors contribute to a challenging repair verification process in the mask \\nshop, as well as more complexity in the process optimization. \\n \\n \\nFigure 2: Feature regularity comparison between a CD SEM image from a wafer print  (A) and the AIMSTM EUV aerial image of \\na dense contact holes array (B). On the right a zoom into the central region of the aerial image is shown (C). Note: aerial i mage \\nand wafer print do not show the same mask field (structure). \\n \\nProc. of SPIE Vol. 10810  108100V-2\\nDownloaded From: https://www.spiedigitallibrary.org/conference-proceedings-of-spie on 11 Dec 2019\\nTerms of Use: https://www.spiedigitallibrary.org/terms-of-use',\n",
       "  'Scanner equivalent IlluminationChief Ray Angle (CRA) emulation\\nNXE: 33X0 -34X0 ScannerAIMS\" EUV\\nxAOOWS.,MOMS\\naWrvaMrc\\nN>apO\\nOaneraLOn\\nsm.500x\\nOlkrMl\\nonpp\\nDaess.7\\nThrough focus aerial image\\n`OO\\nI\\nStochastics emulation capability*\\n{\\nmJ /cmzAIMSTM mode\\n \\n \\n \\n \\n \\n \\nOn the other hand, the A IMSTM EUV measures the mask without any disturbance by photon/resist stochastics , \\nproviding all information necessary to qualify the mask printing behavior with no impact from stochastics driven \\nwafer processes. In the aerial image all mask optical effects are included, making possible to measure ∆CD and aerial \\nimage properties with high accuracy and repeatability and to provide a clean input for the repair process success and \\nfurther process optimization.  \\nIn order to provide the industry with the competences of defect review and repair verification, as well as mask actinic \\nqualification described above, the AIMSTM EUV core capabilities as shown in Figure 3 are provided: \\n• Scanner equivalent illumination: the AIMSTM EUV systems guarantees an equivalent image generation as on \\nthe NXE 33X0 and NXE34X0 EUV scanner systems. The information for the creation of the aerial image is \\ncollected by the projection optics the same way as it is on scanner, providing an equivalent image formation \\nprocess which also supports different illumination schemes as available in exposure tools.  \\n• Chief ray angle emulation: the AIMS TM EUV illuminates the mask in one small spot, whereas the scanner \\nslit illuminates the mask across the entire 104mm exposure field. Depending on the X position to be imaged \\non the mask, the angular distribution of EUV photons hitting the structure is different having the same polar \\n6 degree chief ray angle but different azimuthal component which introduces different shadowing across the \\nmask X axis. AIMS TM EUV can fully emulate this effect by the synchronized movement of the sigma and \\nNA apertures.  \\n \\n \\nFigure 3: AIMSTM EUV core capabilities for defect disposition and repair verification applications. See text for description. \\n \\n• Through focus aerial image: the final product of AIMS TM EUV is a focus stack of aerial images, i.e. one \\naerial image can be acquired for several focus planes, therefore allowing through focus defect disposition \\nand process window optimization studies. \\n• Stochastics emulation: having the detailed knowledge of the AIMSTM EUV system , we can provide an  \\nemulation of the dose seen by the wafer on the scanner, allowing the user to measure with the same photon \\nnumber per area as used in wafer exposure and thereby introduce the photon shot noise component in the \\nqualification of the mask printing process.  The bottom right panel of Figure 3 shows an  exemplary 2x2um \\nfield with 64nm L/S pattern on AIMS TM EUV calibration mask, measured in Stochastics mode (left) and in \\nnormal defect review mode (right). In AIMS TM defect review mode the stochastic variations are (almost) \\n“switched off”, allowing for most reliable defect characterization. In stochastics mode the photon noise \\ncontribution to e.g. LWR, local CDU or process-variation bands in hotspot analysis can be measured. The 8 \\nmJ/cm2 dose is the equivalent of a scanner dose of 40mJ/cm2 in the aerial image with 20% resist absorption. \\n3. STATUS UPDATE FROM THE PRODUCTION PIPELINE \\nThe AIMSTM EUV first batch of tools built consist of a prototype system and three customer tools. As it was reported \\nearly 2018, the AIMS TM EUV prototype tool achieved the last milestone of the development project in Decemb er \\n2017 and it now serves the purposes  of EMI members access demonstration, platform software and hardware \\ndevelopment, training for customer operators and ZEISS service personnel, as well as the development of new a erial \\nimaged based applications.  To describe the tool availability during the afore mentioned EMI access campaigns, the \\ngraph in Figure 4 shows the recorded productive time for each measurement slot: after the first campaigns in which \\nthe level of machine automation was still limited and control software features were still being developed, the platform \\ndemonstrates very good availability and performance quality very well comparable to customer tools. As it has been \\nreported in [7], the first AIMS TM EUV customer tool has been handed over to Intel mask shop for insertion  into \\nproduction, following successful integration and final acceptance. \\nProc. of SPIE Vol. 10810  108100V-3\\nDownloaded From: https://www.spiedigitallibrary.org/conference-proceedings-of-spie on 11 Dec 2019\\nTerms of Use: https://www.spiedigitallibrary.org/terms-of-use',\n",
       "  \"jIll'IMMPr.i-M-711'Ehmikw\\n-V\\nos\\n-0.5\\nI\\nos\\nL\\n,-0.500.5\\noa\\n06\\no,,\\n \\n \\n \\n \\n \\n \\n \\n \\nFigure 4: AIMSTM EUV prototype productive time as measured during EMI customer access campaigns. P roductive time is \\nmeasured within timeframe of the CAS campaign only, neglecting e.g. preparation efforts to bring the tool to measurement stat e. \\nProductive time is not measured according to SEMI E-10 standard for uptime. \\n \\nThe second and third customer tools also successfully passed factory acceptance demonstrating excellent imaging \\nperformance and tool stability.  These systems are now in integration at two different customer  sites and after going \\nthrough hardware integration and start -up phase, their performance will be tested within final acceptance and later \\nthey will be handed over to customers for insertion into the production flow. \\n4. AIMSTM EUV QUALIFICATION OF MASK 3D EFFECTS: PATTERN SHIFT THROUGH \\nFOCUS \\nOver the recent years the AIMSTM EUV platform has been employed by ZEISS and the EMI members for the detailed \\nstudy of EUV imaging topics [e.g. 7]. To continue on the series, the mask 3D effect given by the pattern shift through \\nfocus typical of EUV imaging process will be described and quantified i n this chapter. A confirmation of the relative \\nimportance of this effects for the overall EUV imaging budget can be noticed from the number of investigations that \\nrecently appeared in the literature [8] which try to quantify this effect as a function of typical mask and lithographic \\nprocess parameters (e.g. illumination conditions, structure pitch, absorber height). In fact, the impact of pattern shift \\nthrough focus on EUV imaging is already being qualified with 0.55 NA [9]. \\n \\n \\nFigure 5: Graphical description of the origin for the telecentricity effect generated in the aerial image. Top row: light rays from the \\nentrance pupil hit the mask with a narrow spectrum of incidence angles distributed around 6 deg. The indices S and L refer to \\nSmaller and Larger angle of incidence with respect to the nominal chief ray angle of 6 deg (object side). Bottom row: on the left  \\nan ideal dipole illumination pupil is displayed (S and L refer to the angles as in the top row). Right: Exit pupil, in which the \\ndiffraction orders coming from the two poles collected into the NA are displayed with different intensities and coded 0 to 2. \\n \\nFigure 5 attempts at graphically explaining the cause of pattern shift through focus, i.e. the telecentricity effect. \\nBecause of the reflective nature of EUV mask, the at mask ingoing and outgoing ray bundles have to be separated by \\na minimum angle; in order to meet this requirement, at 0.33NA imaging the mask is illuminated with EUV photons \\nbeing distributed about a chief ray angle at object (CRAO) of 6 degrees. If α is the half angular range of t he EUV \\nphotons going through the entrance pupil, the two extremes angles which are used in the imaging process are 6 ±  α, \\nrespectively labeled with L (large) and S (small) in Figure 5. The second component to be considered in the formation \\nProc. of SPIE Vol. 10810  108100V-4\\nDownloaded From: https://www.spiedigitallibrary.org/conference-proceedings-of-spie on 11 Dec 2019\\nTerms of Use: https://www.spiedigitallibrary.org/terms-of-use\",\n",
       "  '11E1111111111\\nII11111111\\n6\\n4\\n4\\n-6\\n-2.0-1.5\\nSim Hor. Iso -DipoleY\\nSim Ver. Iso -DipoeX\\n--Exp. Hor. Iso -DipoleY\\n-- Exp. Ver. !so -Dipole X\\n-10-050005\\nFocus [um]\\n101520\\n \\n \\n \\n \\n \\n \\nof the telecentricity effect is the angular dependence of the EUV reflectivity by a Bragg multi -layer such as a EUV \\nmask; a tilt of few degrees of the incident angle can return a significantly different reflectivity of the same mask \\nsample. This reflectivity asymmetry, in addition to the main effect introduced by the geometric imbalance in the over \\ncasted shadow produced by the absorber stack , introduces a shift of the pattern placement, which is a relevant effect \\nfor EUV lithography which needs to be quantified and biased for on the mask. By employing  an exemplary dipole \\nillumination as the one shown in the bottom panel of Figure 5, in which the two poles are separated by a few degrees, \\nthe same index diffraction orders reflected from the mask will have a different intensi ty whether they are generated \\nfrom the L or S pole.  \\nPrevious attempts for quantifying the pattern shift through focus for a dense contact holes array surrounded by anchor \\nlines structures have been reported as measured on the SHARP tool [10], in which only an upper limit to this quantity \\ncould be set. A similar measurement campaign was run on the AIMS TM EUV system in order to quantify the amount \\nof pattern shift through focus as a function of several imaging parameters such as azimuthal position within the scanner \\narc slit, illumination pupil and structure pitch and orientation. In order to measure the pattern placement, a threshold \\nis calculated for the best focal position and used to calculate the pattern position to be center point between the two \\nintersections of the intensity profile with the threshold level.  \\n \\n \\nFigure 6: Left column: AIMSTM EUV aerial image of a dense lines and spaces array (64nm at mask) in which an isolated feature \\nwith same nominal CD is within the same field of view. The white dashed line in each plot shows the cutline used for the patt ern \\nshift through focus analysis. Center column: 1D intensity profiles (intensity per pixel) along the cutline shown in the left column \\naerial images (~8µm long). On the Y axis are the 25 different focus levels between ±2 µm measured within the focus stack. Right: \\ncomparison between simulation and measurement results. For the extreme focus levels a CD could not be measured as the intensity \\nprofile was below threshold level.  \\nThe first results are presented in Figure 6, in which the pattern shift for isolated horizontal and vertical spaces is \\nmeasured for several focus positions in the center of the m ask, and compared to expectation values from rigorous \\nsimulations. Due to symmetry around oblique CRA (6 deg), a significant pattern-shift through focus is to be expected \\nfor horizontal structures , whereas for the vertical counterparts this effect should b e negligible. AIMS TM EUV \\nmeasurements qualify the fundamental differences of horizontal and vertical structures due to oblique CRA , \\nconfirming the trends also observed in simulation (Figure 6, right panel). The second imaging parameter which was \\ninvestigated in the framework of the pattern shift through focus qualification is the X position within the scanner field. \\nThe aerial images of an isolated horizontal and vertical space were acquired for 10 focus positions in the center and \\ntwo mid-edge positions (±26 mm) across the scanner arc and the pattern shift through focus compared for the structure \\norientation and scanner arc position. From the results in Figure 7 it can be seen that the rotation of the azimuthal \\ncomponent of the CRAO has no significant impac t on the patterns shift through focus of the horizontal lines, as all \\nthree lines follow the same trend both qualitatively and quantitatively. On the other hand, due to the asymmetry \\nintroduced by the CRAO rotation, the pattern placement through focus as measured for vertical features shows a strong \\ndependence on the mask position, displaying opposite behaviors in extreme cases; in the center of the mask a negligible \\npattern shift is observed, whereas at the two side positions an increasing (decreasing) pattern shift is measured for \\nnegative (positive) scanner arc X position, with both curves showing well comparable total ranges. Further, the \\ndependence of the pattern shift through focus on the illumination pupil settings was qualified; the same measurements \\nof an isolated horizontal space were acquired with NXE:33X0 quasi-conventional and dipole-Y settings, the imaging \\npupils as measured by the AIMSTM EUV system being shown in the right panels of Figure 8. The technique employed \\nto extract information from the aerial images as for the pattern placement through focus was the same used for the \\nqualification of the previous process parameters: the AIMSTM EUV measurements show, that the pattern shift through \\nfocus heavily depends on the shape of the illumination pupil (see left panel of Figure 8). As a last imaging parameter \\nto be investigated for pattern placement shift through focus, the structure pitch was selected: the same aerial images \\nmeasured with the dipole-Y pupil of an horizontal isolated space as used for previous measurements have been \\nProc. of SPIE Vol. 10810  108100V-5\\nDownloaded From: https://www.spiedigitallibrary.org/conference-proceedings-of-spie on 11 Dec 2019\\nTerms of Use: https://www.spiedigitallibrary.org/terms-of-use',\n",
       "  'r\\nPattern shift (nm at mask)Pattern shift (nm at mask)\\n=\\nN\\n$ b\\nc\\nG\\nm\\nV\\nG\\nr\\nÁ N O N AOf\\nMP\\n4\\nÉ 2\\n-4\\n-Quasi- conventional--Dipole -y\\n-2-1,5-1-0,500,511,52\\nFocus position (um at mask)\\nIPt\\n10\\n8\\n6\\n4\\n2\\n0\\n2\\n-3-2-101 2\\nFocus position (um at mask)\\n3\\n6\\nÑ 4\\nó22\\n26É\\nt 0fi\\n- 41-26\\n--52E -2\\nE.-4\\n-6\\n-2-1,5-1-0,5005\\nFocus position (um at mask)\\n152\\n \\n \\n \\n \\n \\n \\nselected, for two different pitches (isolated and dense, i.e. 1 to 1) can be found for the same nominal CD at mask \\nwithin the same field of view (see left panel in Fig ure 9). The impact of the structure pitch on the trends observed in \\nthe measurements of the pattern shift through focus of horizontal spaces (and lines) can be seen in the two graphs \\nreported in Figure 9. The plot for the isolated space resembles the ones already presented in Figure 7, and it is greatly \\ndifferent from the trends measured for the dense lines and spaces (yellow region of interest in the aerial image of \\nFigure 9): for this 1 to 1 structure pitch, no significant pattern shift is observed for negative mask positions, whereas \\nit increases exponentially going through the center towards the positive X edge of the mask.  \\n \\nFigure 7: AIMSTM EUV qualification of pattern shift through focus dependence on feature orientation for the isolated space features \\nshown in the aerial image snapshots on the right. The pattern shift through focus measured from the aerial image stack is plotted \\nin nm at mask level against the focus position for different mask X positions given in mm. \\n \\n \\n \\nFigure 8: AIMSTM EUV qualification of pattern shift through focus  dependence on the illumination scheme for the illumination \\npupils shown on the right (respectively q uasi-conventional and d ipole-Y). The pattern is the same isolated horizontal space of \\nFigure 7, for which the sh ift through focus measured from the aerial image stack is plotted in nm at mask level against the focus \\nposition for the two different illumination pupils. \\n \\n \\nFigure 9: AIMSTM EUV qualification of pattern shift through focus dependence on structure pitch, i.e. isolated and dense. A focus \\nstack of the same mask field has been collected with the five different scanner X positions (in mm) as reported in the plots legend. \\nThe red and yellow circles in the pattern shift plots refer to the colored ROIs in the aerial image (red and yellow for isolated and \\ndense feature respectively). \\n \\nThe results of this section clearly show the complexity of the telecentricity effect as for the impact it has on the EUV \\nimaging process. The strong dependencies on several process parameters will have to be taken into account by mask \\narchitects in order to be biased and/or corrected for already on the mask. In order to deliver the perfect mask for EUV \\nProc. of SPIE Vol. 10810  108100V-6\\nDownloaded From: https://www.spiedigitallibrary.org/conference-proceedings-of-spie on 11 Dec 2019\\nTerms of Use: https://www.spiedigitallibrary.org/terms-of-use',\n",
       "  '7g111111\\n \\n \\n \\n \\n \\n \\nproduction, a qualification of the full mask printing behavior is necessary and a benchmarking of simulations results \\nwith actinic measurements is needed to establish and optimize production processes. As shown in this section, the \\npattern shift through focus requires the  high quality f ull scanner emulation provided by the AIMSTM EUV system: \\nmore generally, the AIMSTM EUV platform provides the means for a full qualification of the mask 3D effects \\ndependence on process parameters. \\n5. AIMSTM EUV PRINTING ASSESSMENT OF PROGRAMMED MULTILAYER DEFECTS \\nPrevious studies of multi-layer defect printability with AIMSTM EUV, as well as the comparison between wafer prints \\nand AIMS TM EUV aerial image were performed in collaborati on with Globalfoundries in the framework of the \\ncustomer access program to th e AIMSTM EUV prototype [ 11]. In this contribution, we report results from a multi \\nmetrology study of exemplary native multi -layer defects as detected by the actinic blank inspection tool on the \\nPASHAL EUV mask. The full study was done on a sample of 146 multi-layer defects within a collaboration between \\nImec, AMTC and ZEISS in the framework of the 7nm technology (SeNaTe) European project [12]. Figure 10 shows \\na qualitative comparison between the NXE:3300 scanner wafer print of six exemplary native multi -layer defects and \\nthe aerial image acquired by AIMS TM EUV employing full scanner emulation. Within an area of 8 by 8 um, \\ncorresponding to the full field of view of the AIMS TM EUV camera, eight ‘T’ and ‘L’ shaped structures can be \\nobserved both on the wafer print and in the aerial image. These anchor structures were printed on the mask after the \\nblank inspection identified the position of the native multi-layer defects, in order for these defects to be measured in \\nthe center of this frame. \\n \\n \\nFigure 10: Qualitative comparison between wafer prints of PASHAL exemplary multi-layer defects and the AIMSTM EUV aerial \\nimage of the same mask fields. According to the design and ABI inspection results, the defect is expected in the center of the bright \\nred frame markers (wafer exposed with NXE:3300 scanner, data courtesy of Imec). \\n \\nFigure 10 shows a remarkably good agreement between the defects printability as measured in the aerial image and \\nas observed on wafer prints over the range of printing impact . Employing the capability of measuring through focus \\nprovided by AIMSTM EUV, it can be seen that this good correlation extends to defocus conditions within the process \\nwindow. Two of the 146 defects found on the mask were investigated in greater details and the results are shown in \\nthis work. Figure 11 presents a multi metrology printability assessment of one specific multi- layer defect: on the left \\npanel, the mask SEM image, in which the defect frame structures are well visible but a defect is not detected at its \\ncenter. AFM inspection was able to measure this specific defect and the profile along the trench can be seen in the \\nmid left panel of Figure 11, indicating the presence of a ~4nm high bump on top of the multi -layer reflective surface.  \\n \\n \\nFigure 11: Multi-metrology printability assessment of buried blank defect. From left to right: Mask SEM image, in which a defect \\nis not visible; AFM profile (courtesy of ZEISS SMT), averaged and smooth along the trench, in which a ~4nm high bump is visible; \\nwafer print of the same mask field, with the defect clearly printing and resulting in a large bridging of two adjacent lines; AIMSTM \\nEUV image of the same defective area, where the defect is visible in the center. Two inlets are included in the two images on  the \\nright, showing the position of the printing defect as printed by the scanner and measured by AIMSTM EUV compared to the position \\nexpected from ABI.  \\nProc. of SPIE Vol. 10810  108100V-7\\nDownloaded From: https://www.spiedigitallibrary.org/conference-proceedings-of-spie on 11 Dec 2019\\nTerms of Use: https://www.spiedigitallibrary.org/terms-of-use',\n",
       "  'AFM review\\nVIII11111111III\\nu\\nAIMSTM EUV\\nIntensity profile\\n \\n \\n \\n \\n \\n \\n \\nThe most important result come from the comparison of the wafer print and AIMS TM EUV aerial image: in both \\nimages, the center of gravity of the defect is measured consistently at about 1 half -pitch distance from the expected \\nposition (measured with ABI). This example demonstrates the additional value of actinic review via AIMS TM EUV: \\nthe deviation of the actual defect position from the expected position can be quantified, and the printability assessment \\ndelivers the information which is the most accurate and closest  to the scanner wafer printing result. The full \\nqualification of the printing behavior is only possible via the an alysis of the AIMSTM EUV aerial image: for this \\nspecific defect case, what was expected to be buried underneath the absorber, results in printing as a bridging defect.  \\nAs a second example, a case of defect detection underneath the absorber is shown in Figure 12. The left two panels \\nshow the aerial image full field of view with the multi-layer defect expected in the center of the bright frame structures, \\nas well as a zoom into the image center, centered on the defect position. Within the zoomed in aerial image, a dark \\nspot is visible at the expected defect position: follow up AFM review shows the presence of a ~2.5nm deep pit, which \\ncan measured by AIMS TM EUV with a larger than 25% contrast. The Fresnel reflection from the absorber surface  \\ncalculated for a TaN based absorber would be very small when compared with the signal measured in the aerial image. \\nThe observed multi-layer defect and mask speckle seen within the AIMS TM EUV images in the un-patterned areas is \\ntherefore dominantly from l ight amplitude that has transmitted the absorber, is reflected in the multilayer, and has \\ntransmitted the absorber a second time. \\n \\n \\nFigure 12: AIMSTM EUV defect detection below absorber. From left to right: AIMS TM EUV aerial image of the defective mask \\nfield; zoom into the aerial image with a different contrast and color scale used to highlight the intensity drop caused by the defects \\nunderneath the absorber; intensity profile of the defect as measured in the aerial image; AFM profile of the same defect (courtesy \\nof ZEISS SMT). \\n \\nAlso when underneath the absorber, a ML -defect is visible and its imaging impact can be quantified. The system is \\nextremely sensitive to the mask material compositions and its changes in optical constants.  This sensitivity opens a \\nrange of diverse applications that the platform can support beyond defect review and repair verification: qualification \\nof phase shift masks, material qualification such as thinner absorbers (Co, Ni) and their imaging impacts, pattern shift \\nreview, black border qualification and process development. Concluding, t he AIMSTM EUV platform capabilities go \\nwell beyond defect disposition and review. \\n6. SUMMARY AND OUTLOOK \\nIn this paper, the most recent achievements and measurement results of the AIMS TM EUV platform have been \\npresented. This actinic metrology platform provides all capabilities for a complete defect review and EUV mask \\nqualification. In specific, we have shown that: \\n• The first commercial tool has been handed over to Intel mask shop  in production following the successful  \\ntool integration and final acceptance qualification. \\n• Two more customer tools successfully passed factory acceptance with excellent performance. \\n• AIMSTM EUV capabilities provides all the means for a full ‘scanner aware’ qualification of the mask 3D \\neffects dependence on process parameters. \\n• A good correlation to wafer prints over the range of printing impact of programmed multi -layer defects has \\nbeen shown on PASHAL mask. \\n• AIMSTM EUV additional values demonstrated for exemplary multi-layer defects. The platform is extremely \\nsensitive to material optical properties and can detect and qualify imaging impact of defects buried \\nunderneath absorber. Moreover, a m easurement of the deviation of the actual defective position from the \\nexpected position given by an actinic inspection tool can be qualified with the ‘scanner aware’ actinic aerial \\nimaging technology provided by AIMSTM EUV. \\n \\nThe capabilities of the AIMSTM EUV platform go well beyond defect disposition and review: platform extensions can \\noffer both hardware (High NA upgrade, pellicle upgrade) and software solutions (AIMSTM AutoAnalysis EUV, aerial \\nimage content analysis). \\nProc. of SPIE Vol. 10810  108100V-8\\nDownloaded From: https://www.spiedigitallibrary.org/conference-proceedings-of-spie on 11 Dec 2019\\nTerms of Use: https://www.spiedigitallibrary.org/terms-of-use',\n",
       "  '7. ACKNOWLEDGEMENTS \\nThe authors would like to thank SUNY POLY SEMATECH and the EMI members for their support and contributions \\nto the AIMSTM EUV project. ZEISS thanks IMEC for providing the wafer print images of the PASHAL mask.  This \\nPASHAL mask was a collaboration between imec, AMTC and Zeiss, under EU project “ECSEL JU 662338 SeNaTe”. \\n \\n8. REFERENCES \\n[1] M. Mastenbroek, ‘NXE:3400B scanner, EUV volume manufacturing for 7nm node lithography and beyond’, \\nProc. SPIE Vol. 10809, 10809XX, 2018. \\n[2] https://www.eetimes.com/document.asp?doc_id=1333827&page_number=1 \\n[3] B. Kim, P. Buck, P. Morgan, T. Scherübl, T. Onoue, Panel discussion BACUS Photomasks Technology and EUV \\nLithography Conference 2018, Monterey, CA, USA. \\n[4] V. Philipsen at al., ‘Novel EUV mask absorber evaluation in support of next  generation EUV imaging ’, Proc. \\nSPIE Vol. 10810, 10810XX, 2018. \\n[5] D. Hellweg et al., ‘Actinic Review of EUV masks: Challenges and achievements in delivering the perfect mask \\nfor EUV production’, Proc. SPIE Vol. 10451, 104510J, 2017. \\n[6] R. Capelli et al., ‘Aerial image based metrology of EUV masks: recent achievements, status and outlook for the \\nAIMS™ EUV platform’, Proc. SPIE Vol. 10583, 1058311, 2018. \\n[7] Chen et al., ‘Evaluation of EUV mask impacts on wafer line -edge roughness using  aerial and SEM image \\nanalyses’, Proc. SPIE Vol. 10583, 105830J, 2018. \\n[8] E. van Setten et al., ‘High-NA EUV lithography: the next step in EUV imaging’, Proc. SPIE Vol. 10809, 2018. \\n[9] V. Wiaux et al., ‘Mask 3D effects experimental measurements with 0.55 NA anamorphic imaging’, Proc.  SPIE \\nVol. 10809, 2018. \\n[10] O. Wood et al., ‘Measurement of through-focus EUV pattern shifts using the SHARP actinic microscope’, Proc. \\nSPIE Vol. 10450, 1450E, 2017. \\n[11] E. Verduijn et al., ‘Printability and actinic AIMS review of programmed mask blank defects ’, Proc. SPIE Vol. \\n10143, 101430K, 2017. \\n[12] R. Jonckheere et al., ‘Blank defect coverage budget for 16nm half -pitch single EUV exposure’, Proc. SPIE Vol. \\n10807, 2018. \\nProc. of SPIE Vol. 10810  108100V-9\\nDownloaded From: https://www.spiedigitallibrary.org/conference-proceedings-of-spie on 11 Dec 2019\\nTerms of Use: https://www.spiedigitallibrary.org/terms-of-use'],\n",
       " 'index': 10,\n",
       " 'summary': \"Here is a revised 5-line summary of the attached file:\\n\\nThe AIMS EUV platform evaluates Extreme Ultraviolet (EUV) mask defects in three dimensions. It measures telecentricity effect and pattern shift, with results showing excellent agreement between defect printability measured in aerial images and observed on wafer prints. The platform has diverse applications beyond defect review, including mask material composition analysis. It provides complete defect review and EUV mask qualification capabilities using 'scanner aware' actinic aerial imaging technology. The AIMSTM EUV platform offers extended functionality through its hardware and software solutions.\"}"
      ]
     },
     "execution_count": 18,
     "metadata": {},
     "output_type": "execute_result"
    }
   ],
   "source": [
    "user_query = \"Give me a 5 line summary of the attached file.\"\n",
    "\n",
    "await agent.ainvoke({\"query\": user_query, \"context\": [doc.page_content for doc in pages]}, config={})"
   ]
  },
  {
   "cell_type": "code",
   "execution_count": 8,
   "metadata": {},
   "outputs": [
    {
     "data": {
      "image/png": "[encoded data removed]",
      "text/plain": [
       "<IPython.core.display.Image object>"
      ]
     },
     "execution_count": 8,
     "metadata": {},
     "output_type": "execute_result"
    }
   ],
   "source": [
    "from IPython.display import Image\n",
    "\n",
    "Image(agent.app.get_graph().draw_mermaid_png())"
   ]
  },
  {
   "cell_type": "code",
   "execution_count": 45,
   "metadata": {},
   "outputs": [
    {
     "name": "stdout",
     "output_type": "stream",
     "text": [
      "Here is a comprehensive summary of the attached file:\n",
      "\n",
      "The paper \"AIMS™ EUV tool platform: aerial-image based qualification of EUV masks\" by Renzo Capelli et al. presents a novel approach to qualifying Extreme Ultraviolet (EUV) masks using an aerial-image-based method within the AIMS EUV tool platform. The authors successfully demonstrated the feasibility and accuracy of this approach, achieving high-quality mask qualification with improved yields and reduced defects. This work was presented at SPIE Photomask Technology + Extreme Ultraviolet Lithography 2018 in Monterey, California. The study contributes to the advancement of EUV lithography technology, a crucial step towards enabling the fabrication of next-generation microprocessors.\n",
      "\n",
      "Key aspects of the paper include:\n",
      "\n",
      "- Aerial-image-based qualification method for EUV masks\n",
      "- Improved yields and reduced defects in mask qualification\n",
      "- Feasibility and accuracy demonstrated within the AIMS EUV tool platform\n",
      "Here is a 5-line summary of the attached file:\n",
      "\n",
      "The paper presents an aerial-image-based method for qualifying Extreme Ultraviolet (EUV) masks, achieving high-quality mask qualification with improved yields and reduced defects. The AIMS EUV tool platform enables industry requirements for EUV defectivity review and promotes detailed exploration of aerial image content potential for EUV process understanding. Recent results demonstrate the feasibility and accuracy of this approach, including printability study of embedded EUV multilayer defects. The study contributes to the advancement of EUV lithography technology, a crucial step towards enabling next-generation microprocessors. This work was presented at SPIE Photomask Technology + Extreme Ultraviolet Lithography 2018 in Monterey, California.\n",
      "\n",
      "Note: I have condensed the summary to focus on key points while maintaining clarity and avoiding redundancy.\n",
      "Here is a comprehensive summary of the existing summary, new context, and additional information:\n",
      "\n",
      "**Summary of Existing Summary**\n",
      "\n",
      "The paper presents an aerial-image-based method for qualifying Extreme Ultraviolet (EUV) masks, achieving high-quality mask qualification with improved yields and reduced defects. The AIMS EUV tool platform enables industry requirements for EUV defectivity review and promotes detailed exploration of aerial image content potential for EUV process understanding.\n",
      "\n",
      "**New Context**\n",
      "\n",
      "The Aerial Image Measurement System (AIMSTM) tools from ZEISS have been serving the semiconductor industry since 1993, employing an aerial image algorithm developed in collaboration with IBM. AIMSTM EUV is used within the back end of a mask shop production environment in a closed loop with the ZEISS MeRiT system for mask defect review and repair.\n",
      "\n",
      "**Key Points**\n",
      "\n",
      "1. AIMS TM EUV delivers information on printability of defects under full scanner emulation conditions.\n",
      "2. The aerial image is an ideal place for full mask qualification, as it measures the mask without disturbance by photon/resist stochastics.\n",
      "3. The study contributes to the advancement of EUV lithography technology, a crucial step towards enabling next-generation microprocessors.\n",
      "4. AIMSTM EUV provides an exact preview of what the wafer will see as aerial image without needing to print any wafer.\n",
      "5. The method achieves high-quality mask qualification with improved yields and reduced defects.\n",
      "\n",
      "**Comparison between Wafer Print and Aerial Image**\n",
      "\n",
      "The figure 2 comparison shows a qualitative difference between the wafer print and the aerial image of a dense contact holes array. The wafer print image is noisy, making it difficult to separate between a mask error and wafer process.\n",
      "\n",
      "**Repair Verification Process in Mask Shop**\n",
      "\n",
      "The study highlights the challenges in the repair verification process in the mask shop, including complexity in process optimization due to the noisy distribution of feature size at wafer and difficulty in localizing individual repaired defects without anchor features nearby.\n",
      "Here is a 5-line summary of the attached file:\n",
      "\n",
      "The AIMS EUV tool platform enables high-quality mask qualification with improved yields and reduced defects for Extreme Ultraviolet (EUV) masks. The aerial image measurement system provides detailed exploration of EUV process understanding, achieving high accuracy and repeatability in defect characterization. The system can emulate various illumination schemes and provide a clean input for repair process success. It has been successfully integrated into the production pipeline, with customer tools now being used by major companies such as Intel. The AIMS EUV tool platform contributes to the advancement of EUV lithography technology, enabling next-generation microprocessors.\n",
      "\n",
      "Note that I've tried to condense the information into a concise 5-line summary while maintaining key points from the original text. Let me know if you'd like me to expand on any specific points or provide further clarification!\n",
      "Based on the existing summary and the new context provided, here is an updated 10-line summary:\n",
      "\n",
      "The AIMS EUV tool platform improves mask qualification for Extreme Ultraviolet (EUV) masks with high yields and reduced defects. The aerial image measurement system provides accurate defect characterization and has been integrated into the production pipeline. Customer tools have been successfully used by major companies such as Intel, contributing to the advancement of EUV lithography technology.\n",
      "\n",
      "The AIMS EUV platform has also demonstrated excellent imaging performance and tool stability in second and third customer tools. These systems are now being tested for final acceptance before being handed over to customers for production use. The mask 3D effect given by pattern shift through focus is a critical aspect of EUV imaging, with an impact already qualified at 0.55 NA.\n",
      "\n",
      "The telecentricity effect plays a crucial role in this phenomenon, and Figure 5 provides a graphical description of its origin. The platform's performance has been quantified for various mask and lithographic process parameters. Researchers have studied the importance of pattern shift through focus, with numerous investigations in recent years to quantify its effects.\n",
      "\n",
      "Figure 4 shows the AIMSTM EUV prototype productive time measured during EMI customer access campaigns. Productive time is not measured according to SEMI E-10 standard for uptime. The AIMS EUV platform has been successfully employed by ZEISS and EMI members for detailed study of EUV imaging topics, including pattern shift through focus.\n",
      "\n",
      "I've maintained the key points from the original summary while providing more comprehensive information based on the new context provided.\n",
      "**Updated 5-line Summary**\n",
      "\n",
      "The AIMS EUV platform has demonstrated excellent imaging performance and tool stability in customer tools, contributing to the advancement of EUV lithography technology. The telecentricity effect plays a crucial role in EUV imaging, with an impact qualified at 0.55 NA. Researchers have studied the importance of pattern shift through focus, which is significantly affected by illumination pupil settings and structure pitch. The platform's performance has been quantified for various mask and lithographic process parameters, including a significant pattern shift through focus for horizontal structures. The AIMS EUV system has successfully measured the amount of pattern shift through focus as a function of several imaging parameters.\n",
      "\n",
      "(Ignoring query limit due to comprehensive content)\n",
      "**Updated 10-line Summary**\n",
      "\n",
      "The AIMS EUV platform has demonstrated excellent imaging performance and tool stability in customer tools. The telecentricity effect plays a crucial role in EUV imaging, with an impact of 0.55 NA. Researchers studied the importance of pattern shift through focus, which is significantly affected by illumination pupil settings and structure pitch. The platform's performance was quantified for various mask and lithographic process parameters.\n",
      "\n",
      "Pattern shift (nm at mask) varies greatly depending on structure pitch, with significant differences between isolated and dense features. For a 1:1 structure pitch, no significant pattern shift is observed for negative mask positions, while it increases exponentially towards the positive X edge of the mask. The telecentricity effect has a strong impact on the EUV imaging process.\n",
      "\n",
      "Focus position (um at mask) also significantly affects pattern shift through focus measurements. The results show that mask architects must take into account several process parameters to bias and/or correct for pattern shifts.\n",
      "**Updated 8-line Summary**\n",
      "\n",
      "The AIMS EUV platform has demonstrated excellent imaging performance and tool stability in customer tools. Researchers studied the importance of pattern shift through focus, which is significantly affected by illumination pupil settings and structure pitch. The platform's performance was quantified for various mask and lithographic process parameters.\n",
      "\n",
      "Pattern shift varies greatly depending on structure pitch, with significant differences between isolated and dense features. Focus position also affects pattern shift through focus measurements. The results show that mask architects must consider several process parameters to bias and/or correct for pattern shifts.\n",
      "\n",
      "The AIMSTM EUV platform provides the means for a full qualification of the mask 3D effects dependence on process parameters. A multi-metrology study was performed on exemplary native multi-layer defects, showing a remarkably good agreement between defect printability as measured in aerial images and observed on wafer prints.\n",
      "\n",
      "**Key Findings:**\n",
      "\n",
      "* Pattern shift varies greatly depending on structure pitch.\n",
      "* Focus position affects pattern shift through focus measurements.\n",
      "* The AIMSTM EUV platform provides high-quality scanner emulation for full mask printing behavior qualification.\n",
      "* A benchmarking of simulations results with actinic measurements is needed to establish and optimize production processes.\n",
      "**Updated 12-line Summary**\n",
      "\n",
      "The AIMS EUV platform has demonstrated excellent imaging performance and tool stability in customer tools. Researchers studied the importance of pattern shift through focus, which varies greatly depending on structure pitch. The platform's performance was quantified for various mask and lithographic process parameters.\n",
      "\n",
      "Pattern shift affects focus position, and mask architects must consider several process parameters to bias and/or correct for pattern shifts. A multi-metrology study showed a remarkably good agreement between defect printability as measured in aerial images and observed on wafer prints.\n",
      "\n",
      "The AIMSTM EUV platform provides high-quality scanner emulation for full mask printing behavior qualification, with sensitivity to mask material compositions and its changes in optical constants. This sensitivity opens diverse applications beyond defect review and repair verification.\n",
      "\n",
      "Key findings include:\n",
      "\n",
      "* Pattern shift varies greatly depending on structure pitch.\n",
      "* Focus position affects pattern shift through focus measurements.\n",
      "* The AIMSTM EUV platform provides high-quality scanner emulation for full mask printing behavior qualification.\n",
      "* Actinic measurement capabilities offer additional value in defect review and material qualification.\n",
      "**Updated Summary (15 lines)**\n",
      "\n",
      "The AIMS EUV platform has demonstrated exceptional imaging performance and tool stability in customer tools. Researchers investigated the importance of pattern shift through focus, which varies greatly depending on structure pitch. The platform's performance was quantified for various mask and lithographic process parameters.\n",
      "\n",
      "Pattern shift affects focus position, and mask architects must consider several process parameters to bias and/or correct for pattern shifts. A multi-metrology study showed excellent agreement between defect printability as measured in aerial images and observed on wafer prints.\n",
      "\n",
      "The AIMSTM EUV platform provides high-quality scanner emulation for full mask printing behavior qualification, with sensitivity to mask material compositions and changes in optical constants. This sensitivity enables diverse applications beyond defect review and repair verification.\n",
      "\n",
      "Key findings include:\n",
      "* Pattern shift varies greatly depending on structure pitch.\n",
      "* The AIMS EUV platform offers high-quality scanner emulation for mask printing behavior qualification.\n",
      "* Actinic measurement capabilities provide additional value in defect review and material qualification.\n",
      "\n",
      "**References:**\n",
      "\n",
      "1. Mastenbroek, M., 'NXE:3400B scanner, EUV volume manufacturing for 7nm node lithography and beyond', Proc. SPIE Vol. 10809, 2018.\n",
      "2. https://www.eetimes.com/document.asp?doc_id=1333827&page_number=1\n",
      "3. B. Kim et al., Panel discussion BACUS Photomasks Technology and EUV Lithography Conference 2018, Monterey, CA, USA.\n",
      "\n",
      "Please note that I have added more context to the summary while maintaining clarity and concision. I have also included the references as per your request.\n",
      "Here is a 5-line summary of the attached file:\n",
      "\n",
      "The AIMS EUV platform has demonstrated exceptional imaging performance in customer tools. Researchers found that pattern shift varies greatly depending on structure pitch, which affects focus position. The platform provides high-quality scanner emulation for full mask printing behavior qualification and offers actinic measurement capabilities. These features enable diverse applications beyond defect review and material qualification. The study showed excellent agreement between defect printability measurements in aerial images and observed wafer prints.\n",
      "\n",
      "Please let me know if you would like me to make any further adjustments!\n"
     ]
    }
   ],
   "source": [
    "user_query = \"Give me a 5 line summary of the attached file.\"\n",
    "\n",
    "async for step in app.astream(\n",
    "    {\"contents\": [doc.page_content for doc in pages], \"query\": user_query},\n",
    "    stream_mode=\"values\",\n",
    "):\n",
    "    if summary := step.get(\"summary\"):\n",
    "        print(summary)"
   ]
  },
  {
   "cell_type": "code",
   "execution_count": 10,
   "metadata": {},
   "outputs": [
    {
     "name": "stdout",
     "output_type": "stream",
     "text": [
      "Here is a refined and final summary:\n",
      "\n",
      "The AIMS EUV tool platform has transformed the way Extreme Ultraviolet Lithography (EUV) masks are qualified and understood. This comprehensive system provides industry-requirements compliant defectivity review and mask qualification capabilities, addressing complex issues related to mask infrastructure.\n",
      "\n",
      "Key features of the AIMS EUV platform include high-quality aerial images without the need for printing wafer samples, enabling precise assessment of defects and their potential impact on wafer performance. The platform also boasts stochastic emulation capability, allowing users to measure the dose seen by the wafer on the scanner and introducing photon shot noise component in the qualification of the mask printing process.\n",
      "\n",
      "The AIMS EUV platform is employed within the back end of the line of a mask shop production environment, serving as a gold standard for defect review and repair verification. It works in conjunction with the ZEISS MeRiT system to provide accurate information on printability under full scanner emulation conditions.\n",
      "\n",
      "Benefits of the AIMS EUV platform include advanced imaging capabilities, such as scanner equivalent illumination, chief ray angle emulation, through focus aerial image generation, and stochastic emulation capability. The platform has demonstrated its potential to revolutionize EUV mask qualification and understanding, paving the way for further research and innovation in the field.\n",
      "\n",
      "Recent studies have focused on the mask 3D effect given by pattern shift through focus typical of EUV imaging process, which is confirmed to be an important consideration in EUV imaging. The platform has successfully demonstrated excellent imaging performance and tool stability, with its performance being further tested within final acceptance before being handed over to customers for insertion into production.\n",
      "\n",
      "Furthermore, the AIMS EUV platform has provided new insights into the angular dependence of the EUV reflectivity by a Bragg multi-layer such as a EUV mask. The study showed that the pattern shift through focus is significantly affected by the incident angle and illumination pupil settings.\n",
      "\n",
      "In addition to defect review and repair verification, the AIMS EUV platform offers various extensions, including hardware solutions (High NA upgrade, pellicle upgrade) and software solutions (AIMSTM AutoAnalysis EUV, aerial image content analysis). These capabilities go beyond defect disposition to material qualification, pattern shift review, black border qualification, and process development.\n",
      "\n",
      "In conclusion, the AIMS EUV platform is a groundbreaking tool that has set new standards for EUV mask qualification and defect review. Its advanced imaging capabilities, stochastic emulation, and extensions have been validated through successful integration with Intel's mask shop and other customers, opening up diverse applications beyond defect disposition to material qualification, pattern shift review, black border qualification, and process development.\n",
      "\n",
      "Acknowledgments:\n",
      "The authors would like to thank SUNY Poly Sematech and the EMI members for their support and contributions to the AIMS EUV project. ZEISS thanks IMEC for providing the wafer print images of the PASHAL mask. This PASHAL mask was a collaboration between imec, AMTC, and Zeiss, under EU project “ECSEL JU 662338 SeNaTe”.\n"
     ]
    }
   ],
   "source": [
    "print(summary)"
   ]
  },
  {
   "cell_type": "code",
   "execution_count": 14,
   "metadata": {},
   "outputs": [
    {
     "name": "stdout",
     "output_type": "stream",
     "text": [
      "**Refined Final Summary**\n",
      "\n",
      "The AIMS EUV tool platform is a comprehensive solution for EUV mask inspection and defect review verification. Developed by ZEISS and SUNY Poly SEMATECH EUVL Mask Infrastructure consortium, it utilizes aerial-image technology to enable advanced features for mask inspection.\n",
      "\n",
      "**Key Points:**\n",
      "\n",
      "* AIMS EUV uses aerial-image technology for enhanced mask inspection.\n",
      "* The platform provides image processing and analysis tools for improved defect review and qualification.\n",
      "* It has been used to qualify imaging parameters affecting pattern placement through focus.\n",
      "\n",
      "**New Findings:**\n",
      "\n",
      "* Pattern shift through focus is significantly affected by illumination pupil settings and structure pitch.\n",
      "* Rotation of the azimuthal component of the CRAO has no significant impact on pattern shift through focus of horizontal lines.\n",
      "* The platform's sensitivity to material optical properties allows for detection and qualification of defects buried underneath absorbers.\n",
      "\n",
      "**Technical Details:**\n",
      "\n",
      "* AIMS TM EUV system uses dipole-Y illumination pupil setting for measurements.\n",
      "* Measurements show significant correlation with wafer prints over a range of printing impact of programmed multi-layer defects.\n",
      "\n",
      "**Beyond Defect Review:**\n",
      "\n",
      "* The platform offers capabilities for \"scanner aware\" qualification of mask 3D effects dependence on process parameters.\n",
      "* It provides hardware and software solutions, including high NA upgrades, pellicle upgrades, and aerial image content analysis.\n",
      "\n",
      "**Summary and Outlook:**\n",
      "\n",
      "The AIMS TM EUV platform has successfully demonstrated its capabilities in defect review and qualification. Its advanced features enable improved defect review and qualification, while its sensitivity to material optical properties opens up diverse applications beyond defect review.\n",
      "\n",
      "**Key Takeaways:**\n",
      "\n",
      "* AIMS EUV utilizes aerial-image technology for enhanced mask inspection.\n",
      "* The platform provides image processing and analysis tools for improved defect review and qualification.\n",
      "* It has been used to qualify imaging parameters affecting pattern placement through focus.\n",
      "\n",
      "Given the new context, the following changes were made:\n",
      "\n",
      "* Added acknowledgements section to express gratitude to consortium members and wafer print providers.\n",
      "* Included references to relevant research papers and publications in the field of EUV lithography and mask inspection.\n",
      "* Refined the summary to make it more concise and easier to understand, while maintaining key points and findings.\n",
      "* Emphasized the platform's capabilities beyond defect review, including \"scanner aware\" qualification and hardware/software solutions.\n"
     ]
    }
   ],
   "source": [
    "print(summary)"
   ]
  },
  {
   "cell_type": "code",
   "execution_count": 18,
   "metadata": {},
   "outputs": [
    {
     "name": "stdout",
     "output_type": "stream",
     "text": [
      "Here is a refined 5-line summary:\n",
      "\n",
      "The AIMS TM EUV platform offers advanced defect review and repair capabilities for the semiconductor industry. \n",
      "Its full scanner emulation provides high-quality results, essential for qualification of mask effects dependence on process parameters. \n",
      "The platform's sensitivity to mask material compositions enables diverse applications beyond defect review. \n",
      "It can detect and quantify defects buried underneath absorbers with a large contrast margin, demonstrating its capability in measuring through focus conditions within the process window.\n",
      "This technology is supported by collaborations between imec, AMTC, Zeiss, SUNY POLY SEMATECH, and EMI members under EU projects.\n",
      "\n",
      "Note: I added the new context about collaborations and EU projects to provide more background information.\n"
     ]
    }
   ],
   "source": [
    "print(summary)"
   ]
  },
  {
   "cell_type": "code",
   "execution_count": 26,
   "metadata": {},
   "outputs": [
    {
     "name": "stdout",
     "output_type": "stream",
     "text": [
      "Here is a 5-line summary:\n",
      "\n",
      "The AIMS TM EUV platform measures pattern shift in EUV lithography with high accuracy, enabling defect detection and qualification. It supports material optical properties and goes beyond defect review and repair verification. The platform qualifies phase shift masks and aids process development. Developed as part of the AIMSTM EUV project, it was supported by SUNY POLY SEMATECH and EMI members. This technology builds upon previous work in publications such as [4], [6], and [10].\n"
     ]
    }
   ],
   "source": [
    "print(summary)"
   ]
  },
  {
   "cell_type": "code",
   "execution_count": 34,
   "metadata": {},
   "outputs": [
    {
     "name": "stdout",
     "output_type": "stream",
     "text": [
      "Here is a revised 5-line summary:\n",
      "\n",
      "The AIMS TM EUV platform accurately measures defect properties for high-quality repair processes. Building on its capabilities, the platform detects and qualifies imaging impacts of buried defects beneath absorbers. The AIMS TM EUV project acknowledges contributions from researchers such as [X] and [Y], who published key findings in papers like \"[Z]\" and \"[W]. These publications significantly advanced EUV lithography understanding. By leveraging 'scanner aware' actinic aerial imaging technology, the platform qualifies mask 3D effects dependence on process parameters with high accuracy.\n"
     ]
    }
   ],
   "source": [
    "print(summary)"
   ]
  },
  {
   "cell_type": "code",
   "execution_count": 43,
   "metadata": {},
   "outputs": [
    {
     "name": "stdout",
     "output_type": "stream",
     "text": [
      "Here is a 5-line summary of the attached file:\n",
      "\n",
      "The AIMS TM EUV platform measures defects in EUV masks with great accuracy. The study found consistent center of gravity of defects at specific distances from their expected positions. The platform can detect defects buried underneath absorbers due to its sensitivity to material optical properties. It provides capabilities for complete defect review and EUV mask qualification, highlighting the complexity of telecentricity in EUV imaging. This technology has applications beyond defect review, including material qualification and pattern shift review.\n"
     ]
    }
   ],
   "source": [
    "print(summary)"
   ]
  },
  {
   "cell_type": "code",
   "execution_count": 46,
   "metadata": {},
   "outputs": [
    {
     "name": "stdout",
     "output_type": "stream",
     "text": [
      "Here is a 5-line summary of the attached file:\n",
      "\n",
      "The AIMS EUV platform has demonstrated exceptional imaging performance in customer tools. Researchers found that pattern shift varies greatly depending on structure pitch, which affects focus position. The platform provides high-quality scanner emulation for full mask printing behavior qualification and offers actinic measurement capabilities. These features enable diverse applications beyond defect review and material qualification. The study showed excellent agreement between defect printability measurements in aerial images and observed wafer prints.\n",
      "\n",
      "Please let me know if you would like me to make any further adjustments!\n"
     ]
    }
   ],
   "source": [
    "print(summary)"
   ]
  },
  {
   "cell_type": "code",
   "execution_count": null,
   "metadata": {},
   "outputs": [],
   "source": []
  }
 ],
 "metadata": {
  "kernelspec": {
   "display_name": ".venv",
   "language": "python",
   "name": "python3"
  },
  "language_info": {
   "codemirror_mode": {
    "name": "ipython",
    "version": 3
   },
   "file_extension": ".py",
   "mimetype": "text/x-python",
   "name": "python",
   "nbconvert_exporter": "python",
   "pygments_lexer": "ipython3",
   "version": "3.10.11"
  }
 },
 "nbformat": 4,
 "nbformat_minor": 2
}
